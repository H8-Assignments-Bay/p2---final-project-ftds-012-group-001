{
 "cells": [
  {
   "cell_type": "markdown",
   "metadata": {},
   "source": [
    "### Import Library"
   ]
  },
  {
   "cell_type": "code",
   "execution_count": 1,
   "metadata": {},
   "outputs": [],
   "source": [
    "import pandas as pd\n",
    "import seaborn as sns\n",
    "import matplotlib.pyplot as plt\n",
    "import plotly.express as px"
   ]
  },
  {
   "cell_type": "markdown",
   "metadata": {},
   "source": [
    "## Exploratory Data Analysis"
   ]
  },
  {
   "cell_type": "markdown",
   "metadata": {},
   "source": [
    "> Notebook ini merupakan exploratory data analysis untuk dataset data_hotel, tujuan dari EDA pada dataset ini adalah untuk mendapatkan insight mengenai data hotel yang berada di Indonesia."
   ]
  },
  {
   "cell_type": "markdown",
   "metadata": {},
   "source": [
    "### Data Loading"
   ]
  },
  {
   "cell_type": "code",
   "execution_count": 2,
   "metadata": {},
   "outputs": [],
   "source": [
    "# Load data\n",
    "data = pd.read_csv('C:\\hacktiv8\\phase_2\\week_3\\Final_project\\p2---final-project-ftds-012-group-001\\dataset\\data_hotel.csv')"
   ]
  },
  {
   "cell_type": "code",
   "execution_count": 3,
   "metadata": {},
   "outputs": [
    {
     "data": {
      "text/html": [
       "<div>\n",
       "<style scoped>\n",
       "    .dataframe tbody tr th:only-of-type {\n",
       "        vertical-align: middle;\n",
       "    }\n",
       "\n",
       "    .dataframe tbody tr th {\n",
       "        vertical-align: top;\n",
       "    }\n",
       "\n",
       "    .dataframe thead th {\n",
       "        text-align: right;\n",
       "    }\n",
       "</style>\n",
       "<table border=\"1\" class=\"dataframe\">\n",
       "  <thead>\n",
       "    <tr style=\"text-align: right;\">\n",
       "      <th></th>\n",
       "      <th>Nama Hotel</th>\n",
       "      <th>Alamat Hotel</th>\n",
       "      <th>Nama Kota</th>\n",
       "      <th>Nama Provinsi</th>\n",
       "      <th>Room Type</th>\n",
       "      <th>Deskripsi Room</th>\n",
       "      <th>Rating</th>\n",
       "      <th>Stars</th>\n",
       "      <th>Gambar</th>\n",
       "      <th>lat</th>\n",
       "      <th>long</th>\n",
       "    </tr>\n",
       "  </thead>\n",
       "  <tbody>\n",
       "    <tr>\n",
       "      <th>0</th>\n",
       "      <td>Ananta Legian Hotel</td>\n",
       "      <td>Jalan Wekudara No.539, Legian, Badung - Bali, ...</td>\n",
       "      <td>kabupaten badung</td>\n",
       "      <td>Bali</td>\n",
       "      <td>Deluxe</td>\n",
       "      <td>AC,Air Mineral,Kopi, Teh,Minibar,Televisi,Desk...</td>\n",
       "      <td>4.00</td>\n",
       "      <td>4</td>\n",
       "      <td>https://ik.imagekit.io/tvlk/generic-asset/dgXf...</td>\n",
       "      <td>-8.697605</td>\n",
       "      <td>115.164112</td>\n",
       "    </tr>\n",
       "    <tr>\n",
       "      <th>1</th>\n",
       "      <td>Saninten Inn</td>\n",
       "      <td>Jalan Saninten No 65 Bandung, Jalan Riau, Band...</td>\n",
       "      <td>kota bandung</td>\n",
       "      <td>Jawa Barat</td>\n",
       "      <td>Deluxe</td>\n",
       "      <td>AC,Air Mineral,In-house movie,Kopi, Teh,Televi...</td>\n",
       "      <td>4.92</td>\n",
       "      <td>3</td>\n",
       "      <td>https://ik.imagekit.io/tvlk/generic-asset/dgXf...</td>\n",
       "      <td>-6.906110</td>\n",
       "      <td>107.617866</td>\n",
       "    </tr>\n",
       "    <tr>\n",
       "      <th>2</th>\n",
       "      <td>Heef Hotel</td>\n",
       "      <td>Jalan Samanhudi Raya No. 3, Pasar baru, Sawah ...</td>\n",
       "      <td>kota jakarta pusat</td>\n",
       "      <td>Daerah Khusus Ibukota Jakarta</td>\n",
       "      <td>Standard</td>\n",
       "      <td>AC,Air Mineral,Kopi, Teh,Televisi,Desk,Brankas...</td>\n",
       "      <td>4.42</td>\n",
       "      <td>2</td>\n",
       "      <td>https://ik.imagekit.io/tvlk/generic-asset/dgXf...</td>\n",
       "      <td>-6.160968</td>\n",
       "      <td>106.832199</td>\n",
       "    </tr>\n",
       "    <tr>\n",
       "      <th>3</th>\n",
       "      <td>Hadi Poetra Hotel</td>\n",
       "      <td>Jalan Raya Kuta No.323 , Kuta Badung- Bali , K...</td>\n",
       "      <td>kabupaten badung</td>\n",
       "      <td>Bali</td>\n",
       "      <td>Deluxe</td>\n",
       "      <td>Ruang bebas asap rokok</td>\n",
       "      <td>4.02</td>\n",
       "      <td>3</td>\n",
       "      <td>https://ik.imagekit.io/tvlk/generic-asset/dgXf...</td>\n",
       "      <td>-8.728234</td>\n",
       "      <td>115.176679</td>\n",
       "    </tr>\n",
       "    <tr>\n",
       "      <th>4</th>\n",
       "      <td>Travelers Inn Dago</td>\n",
       "      <td>Jalan Aria Jipang No. 6, Dago, Bandung, Jawa B...</td>\n",
       "      <td>kota bandung</td>\n",
       "      <td>Jawa Barat</td>\n",
       "      <td>Superior</td>\n",
       "      <td>Ruang bebas asap rokok</td>\n",
       "      <td>4.25</td>\n",
       "      <td>2</td>\n",
       "      <td>https://ik.imagekit.io/tvlk/generic-asset/dgXf...</td>\n",
       "      <td>-6.899338</td>\n",
       "      <td>107.615636</td>\n",
       "    </tr>\n",
       "  </tbody>\n",
       "</table>\n",
       "</div>"
      ],
      "text/plain": [
       "            Nama Hotel                                       Alamat Hotel  \\\n",
       "0  Ananta Legian Hotel  Jalan Wekudara No.539, Legian, Badung - Bali, ...   \n",
       "1         Saninten Inn  Jalan Saninten No 65 Bandung, Jalan Riau, Band...   \n",
       "2           Heef Hotel  Jalan Samanhudi Raya No. 3, Pasar baru, Sawah ...   \n",
       "3    Hadi Poetra Hotel  Jalan Raya Kuta No.323 , Kuta Badung- Bali , K...   \n",
       "4   Travelers Inn Dago  Jalan Aria Jipang No. 6, Dago, Bandung, Jawa B...   \n",
       "\n",
       "            Nama Kota                  Nama Provinsi Room Type  \\\n",
       "0    kabupaten badung                           Bali    Deluxe   \n",
       "1        kota bandung                     Jawa Barat    Deluxe   \n",
       "2  kota jakarta pusat  Daerah Khusus Ibukota Jakarta  Standard   \n",
       "3    kabupaten badung                           Bali    Deluxe   \n",
       "4        kota bandung                     Jawa Barat  Superior   \n",
       "\n",
       "                                      Deskripsi Room  Rating  Stars  \\\n",
       "0  AC,Air Mineral,Kopi, Teh,Minibar,Televisi,Desk...    4.00      4   \n",
       "1  AC,Air Mineral,In-house movie,Kopi, Teh,Televi...    4.92      3   \n",
       "2  AC,Air Mineral,Kopi, Teh,Televisi,Desk,Brankas...    4.42      2   \n",
       "3                             Ruang bebas asap rokok    4.02      3   \n",
       "4                             Ruang bebas asap rokok    4.25      2   \n",
       "\n",
       "                                              Gambar       lat        long  \n",
       "0  https://ik.imagekit.io/tvlk/generic-asset/dgXf... -8.697605  115.164112  \n",
       "1  https://ik.imagekit.io/tvlk/generic-asset/dgXf... -6.906110  107.617866  \n",
       "2  https://ik.imagekit.io/tvlk/generic-asset/dgXf... -6.160968  106.832199  \n",
       "3  https://ik.imagekit.io/tvlk/generic-asset/dgXf... -8.728234  115.176679  \n",
       "4  https://ik.imagekit.io/tvlk/generic-asset/dgXf... -6.899338  107.615636  "
      ]
     },
     "execution_count": 3,
     "metadata": {},
     "output_type": "execute_result"
    }
   ],
   "source": [
    "# Show first 5 rows\n",
    "data.head()"
   ]
  },
  {
   "cell_type": "code",
   "execution_count": 4,
   "metadata": {},
   "outputs": [
    {
     "data": {
      "text/html": [
       "<div>\n",
       "<style scoped>\n",
       "    .dataframe tbody tr th:only-of-type {\n",
       "        vertical-align: middle;\n",
       "    }\n",
       "\n",
       "    .dataframe tbody tr th {\n",
       "        vertical-align: top;\n",
       "    }\n",
       "\n",
       "    .dataframe thead th {\n",
       "        text-align: right;\n",
       "    }\n",
       "</style>\n",
       "<table border=\"1\" class=\"dataframe\">\n",
       "  <thead>\n",
       "    <tr style=\"text-align: right;\">\n",
       "      <th></th>\n",
       "      <th>Nama Hotel</th>\n",
       "      <th>Alamat Hotel</th>\n",
       "      <th>Nama Kota</th>\n",
       "      <th>Nama Provinsi</th>\n",
       "      <th>Room Type</th>\n",
       "      <th>Deskripsi Room</th>\n",
       "      <th>Rating</th>\n",
       "      <th>Stars</th>\n",
       "      <th>Gambar</th>\n",
       "      <th>lat</th>\n",
       "      <th>long</th>\n",
       "    </tr>\n",
       "  </thead>\n",
       "  <tbody>\n",
       "    <tr>\n",
       "      <th>1440</th>\n",
       "      <td>Grand Cempaka Resort</td>\n",
       "      <td>Jalan Raya Puncak KM. 17, Cipayung, Megamendun...</td>\n",
       "      <td>kabupaten bogor</td>\n",
       "      <td>Jawa Barat</td>\n",
       "      <td>Deluxe</td>\n",
       "      <td>NaN</td>\n",
       "      <td>4.03</td>\n",
       "      <td>3</td>\n",
       "      <td>https://ik.imagekit.io/tvlk/generic-asset/dgXf...</td>\n",
       "      <td>-6.651914</td>\n",
       "      <td>106.898284</td>\n",
       "    </tr>\n",
       "    <tr>\n",
       "      <th>1441</th>\n",
       "      <td>Hotel Lurus Cisarua</td>\n",
       "      <td>Jl. Hankam No.22, Leuwimalang, Cisarua, Puncak...</td>\n",
       "      <td>kabupaten bogor</td>\n",
       "      <td>Jawa Barat</td>\n",
       "      <td>Standard</td>\n",
       "      <td>Televisi,Desk,Brankas dalam kamar</td>\n",
       "      <td>4.02</td>\n",
       "      <td>3</td>\n",
       "      <td>https://ik.imagekit.io/tvlk/generic-asset/dgXf...</td>\n",
       "      <td>-6.670747</td>\n",
       "      <td>106.928536</td>\n",
       "    </tr>\n",
       "    <tr>\n",
       "      <th>1442</th>\n",
       "      <td>Grand Pesona Ksatria</td>\n",
       "      <td>Jalan Raya Puncak KM. 82 Cisarua, Cisarua, Pun...</td>\n",
       "      <td>kabupaten bogor</td>\n",
       "      <td>Jawa Barat</td>\n",
       "      <td>Standard</td>\n",
       "      <td>Kopi, Teh,Televisi,Desk,Brankas dalam kamar,Ba...</td>\n",
       "      <td>4.58</td>\n",
       "      <td>1</td>\n",
       "      <td>https://ik.imagekit.io/tvlk/generic-asset/dgXf...</td>\n",
       "      <td>-6.687744</td>\n",
       "      <td>106.940576</td>\n",
       "    </tr>\n",
       "    <tr>\n",
       "      <th>1443</th>\n",
       "      <td>Bayak Hotel Bumdes Cipayung &amp; Resort</td>\n",
       "      <td>Jalan Raya Puncak Km.77 No.55 Cilember, Cisaru...</td>\n",
       "      <td>kabupaten bogor</td>\n",
       "      <td>Jawa Barat</td>\n",
       "      <td>Standard</td>\n",
       "      <td>Air Mineral,Televisi</td>\n",
       "      <td>4.02</td>\n",
       "      <td>1</td>\n",
       "      <td>https://ik.imagekit.io/tvlk/generic-asset/dgXf...</td>\n",
       "      <td>-6.656162</td>\n",
       "      <td>106.916562</td>\n",
       "    </tr>\n",
       "    <tr>\n",
       "      <th>1444</th>\n",
       "      <td>Hotel Taman Piknik</td>\n",
       "      <td>Jl. Kp. Parabon no 22, Ciloto - Puncak , Cipan...</td>\n",
       "      <td>kabupaten cianjur</td>\n",
       "      <td>Jawa Barat</td>\n",
       "      <td>Standard</td>\n",
       "      <td>Kipas angin,Air Mineral,Televisi,Desk</td>\n",
       "      <td>4.25</td>\n",
       "      <td>2</td>\n",
       "      <td>https://ik.imagekit.io/tvlk/generic-asset/dgXf...</td>\n",
       "      <td>-6.702819</td>\n",
       "      <td>106.999021</td>\n",
       "    </tr>\n",
       "  </tbody>\n",
       "</table>\n",
       "</div>"
      ],
      "text/plain": [
       "                                Nama Hotel  \\\n",
       "1440                  Grand Cempaka Resort   \n",
       "1441                   Hotel Lurus Cisarua   \n",
       "1442                  Grand Pesona Ksatria   \n",
       "1443  Bayak Hotel Bumdes Cipayung & Resort   \n",
       "1444                    Hotel Taman Piknik   \n",
       "\n",
       "                                           Alamat Hotel          Nama Kota  \\\n",
       "1440  Jalan Raya Puncak KM. 17, Cipayung, Megamendun...    kabupaten bogor   \n",
       "1441  Jl. Hankam No.22, Leuwimalang, Cisarua, Puncak...    kabupaten bogor   \n",
       "1442  Jalan Raya Puncak KM. 82 Cisarua, Cisarua, Pun...    kabupaten bogor   \n",
       "1443  Jalan Raya Puncak Km.77 No.55 Cilember, Cisaru...    kabupaten bogor   \n",
       "1444  Jl. Kp. Parabon no 22, Ciloto - Puncak , Cipan...  kabupaten cianjur   \n",
       "\n",
       "     Nama Provinsi Room Type  \\\n",
       "1440    Jawa Barat    Deluxe   \n",
       "1441    Jawa Barat  Standard   \n",
       "1442    Jawa Barat  Standard   \n",
       "1443    Jawa Barat  Standard   \n",
       "1444    Jawa Barat  Standard   \n",
       "\n",
       "                                         Deskripsi Room  Rating  Stars  \\\n",
       "1440                                                NaN    4.03      3   \n",
       "1441                  Televisi,Desk,Brankas dalam kamar    4.02      3   \n",
       "1442  Kopi, Teh,Televisi,Desk,Brankas dalam kamar,Ba...    4.58      1   \n",
       "1443                               Air Mineral,Televisi    4.02      1   \n",
       "1444              Kipas angin,Air Mineral,Televisi,Desk    4.25      2   \n",
       "\n",
       "                                                 Gambar       lat        long  \n",
       "1440  https://ik.imagekit.io/tvlk/generic-asset/dgXf... -6.651914  106.898284  \n",
       "1441  https://ik.imagekit.io/tvlk/generic-asset/dgXf... -6.670747  106.928536  \n",
       "1442  https://ik.imagekit.io/tvlk/generic-asset/dgXf... -6.687744  106.940576  \n",
       "1443  https://ik.imagekit.io/tvlk/generic-asset/dgXf... -6.656162  106.916562  \n",
       "1444  https://ik.imagekit.io/tvlk/generic-asset/dgXf... -6.702819  106.999021  "
      ]
     },
     "execution_count": 4,
     "metadata": {},
     "output_type": "execute_result"
    }
   ],
   "source": [
    "# Show last 5\n",
    "data.tail()"
   ]
  },
  {
   "cell_type": "code",
   "execution_count": 5,
   "metadata": {},
   "outputs": [
    {
     "name": "stdout",
     "output_type": "stream",
     "text": [
      "<class 'pandas.core.frame.DataFrame'>\n",
      "RangeIndex: 1445 entries, 0 to 1444\n",
      "Data columns (total 11 columns):\n",
      " #   Column          Non-Null Count  Dtype  \n",
      "---  ------          --------------  -----  \n",
      " 0   Nama Hotel      1445 non-null   object \n",
      " 1   Alamat Hotel    1445 non-null   object \n",
      " 2   Nama Kota       1445 non-null   object \n",
      " 3   Nama Provinsi   1445 non-null   object \n",
      " 4   Room Type       1445 non-null   object \n",
      " 5   Deskripsi Room  1440 non-null   object \n",
      " 6   Rating          1445 non-null   float64\n",
      " 7   Stars           1445 non-null   int64  \n",
      " 8   Gambar          1445 non-null   object \n",
      " 9   lat             1445 non-null   float64\n",
      " 10  long            1445 non-null   float64\n",
      "dtypes: float64(3), int64(1), object(7)\n",
      "memory usage: 124.3+ KB\n"
     ]
    }
   ],
   "source": [
    "# Show info of dataset\n",
    "data.info()"
   ]
  },
  {
   "cell_type": "markdown",
   "metadata": {},
   "source": [
    "> Jika kita melihat hasil dari .info diatas, terdapat 5 row missing value pada pada kolom Deskripsi Room. Data memiliki 11 kolom, dengan jumlah 1445 baris yang merupakan data hotel yang berada di Indonesia. Tipe data rata-rata merupakan object, dan hanya memiliki 2 kolom numerikal, yakni data tentang Rating. data tentang Stars atau bintang dari hotel tersebut dan kolom latitude dan longitude."
   ]
  },
  {
   "cell_type": "code",
   "execution_count": 6,
   "metadata": {},
   "outputs": [
    {
     "data": {
      "text/html": [
       "<div>\n",
       "<style scoped>\n",
       "    .dataframe tbody tr th:only-of-type {\n",
       "        vertical-align: middle;\n",
       "    }\n",
       "\n",
       "    .dataframe tbody tr th {\n",
       "        vertical-align: top;\n",
       "    }\n",
       "\n",
       "    .dataframe thead th {\n",
       "        text-align: right;\n",
       "    }\n",
       "</style>\n",
       "<table border=\"1\" class=\"dataframe\">\n",
       "  <thead>\n",
       "    <tr style=\"text-align: right;\">\n",
       "      <th></th>\n",
       "      <th>count</th>\n",
       "      <th>mean</th>\n",
       "      <th>std</th>\n",
       "      <th>min</th>\n",
       "      <th>25%</th>\n",
       "      <th>50%</th>\n",
       "      <th>75%</th>\n",
       "      <th>max</th>\n",
       "    </tr>\n",
       "  </thead>\n",
       "  <tbody>\n",
       "    <tr>\n",
       "      <th>Rating</th>\n",
       "      <td>1445.0</td>\n",
       "      <td>4.165765</td>\n",
       "      <td>0.354804</td>\n",
       "      <td>1.000000</td>\n",
       "      <td>4.030000</td>\n",
       "      <td>4.080000</td>\n",
       "      <td>4.420000</td>\n",
       "      <td>5.000000</td>\n",
       "    </tr>\n",
       "    <tr>\n",
       "      <th>Stars</th>\n",
       "      <td>1445.0</td>\n",
       "      <td>2.683737</td>\n",
       "      <td>1.233890</td>\n",
       "      <td>0.000000</td>\n",
       "      <td>2.000000</td>\n",
       "      <td>3.000000</td>\n",
       "      <td>4.000000</td>\n",
       "      <td>5.000000</td>\n",
       "    </tr>\n",
       "    <tr>\n",
       "      <th>lat</th>\n",
       "      <td>1445.0</td>\n",
       "      <td>-7.401478</td>\n",
       "      <td>1.013719</td>\n",
       "      <td>-8.894752</td>\n",
       "      <td>-8.585499</td>\n",
       "      <td>-6.929054</td>\n",
       "      <td>-6.265314</td>\n",
       "      <td>-5.803205</td>\n",
       "    </tr>\n",
       "    <tr>\n",
       "      <th>long</th>\n",
       "      <td>1445.0</td>\n",
       "      <td>110.487574</td>\n",
       "      <td>3.730929</td>\n",
       "      <td>106.523791</td>\n",
       "      <td>106.861214</td>\n",
       "      <td>107.655937</td>\n",
       "      <td>115.168009</td>\n",
       "      <td>116.496255</td>\n",
       "    </tr>\n",
       "  </tbody>\n",
       "</table>\n",
       "</div>"
      ],
      "text/plain": [
       "         count        mean       std         min         25%         50%  \\\n",
       "Rating  1445.0    4.165765  0.354804    1.000000    4.030000    4.080000   \n",
       "Stars   1445.0    2.683737  1.233890    0.000000    2.000000    3.000000   \n",
       "lat     1445.0   -7.401478  1.013719   -8.894752   -8.585499   -6.929054   \n",
       "long    1445.0  110.487574  3.730929  106.523791  106.861214  107.655937   \n",
       "\n",
       "               75%         max  \n",
       "Rating    4.420000    5.000000  \n",
       "Stars     4.000000    5.000000  \n",
       "lat      -6.265314   -5.803205  \n",
       "long    115.168009  116.496255  "
      ]
     },
     "execution_count": 6,
     "metadata": {},
     "output_type": "execute_result"
    }
   ],
   "source": [
    "# Show .describe from data\n",
    "data.describe().T"
   ]
  },
  {
   "cell_type": "markdown",
   "metadata": {},
   "source": [
    "> Jika kita melihat hasil dari describe diatas, rata-rata rating hotel yang ada pada dataset berada pada nilai 4.2. Nilai yang cukup baik menurut saya, dan jika kita bandingkan dengan median nya, maka bisa kita simpulkan bahwa sebarannya datanya akan 'skewed-left' karena rata-rata yang lebih besar dari median nya. Lalu pada kolom Stars atau bintang dari hotel tersebut, memiliki nilai rata-rata yang lebih kecil daripada median nya sehingga distribusi kolom tersebut 'skewed-right'. Rentang bintang hotel yang ada pada dataset berkisar antara 0 - 5."
   ]
  },
  {
   "cell_type": "code",
   "execution_count": 7,
   "metadata": {},
   "outputs": [
    {
     "data": {
      "image/png": "[encoded data removed]",
      "text/plain": [
       "<Figure size 1152x288 with 2 Axes>"
      ]
     },
     "metadata": {
      "needs_background": "light"
     },
     "output_type": "display_data"
    }
   ],
   "source": [
    "plt.figure(figsize=(16, 4))\n",
    "\n",
    "# Histogram\n",
    "plt.subplot(1, 2, 1)\n",
    "sns.histplot(data['Rating'], bins=30)\n",
    "plt.title('Histogram')\n",
    "\n",
    "# Boxplot\n",
    "plt.subplot(1, 2, 2)\n",
    "sns.boxplot(y=data['Stars'])\n",
    "plt.title('Boxplot')\n",
    "\n",
    "plt.show()"
   ]
  },
  {
   "cell_type": "markdown",
   "metadata": {},
   "source": [
    "> Jika kita melihat distribusi dari kolom Rating diatas, nilai Rating yang ada pada kolom tersebut kebanyakan memang lebih dari sama dengan 4. Karena dari hasil sebelumnya, quartile pertama dari kolom rating pun sudah lebih dari 4. Mari kita lihat distribusi dari kolom Stars. Lalu pada boxplot nya tidak terdeteksi missing value pada data.\""
   ]
  },
  {
   "cell_type": "code",
   "execution_count": 8,
   "metadata": {},
   "outputs": [
    {
     "data": {
      "image/png": "[encoded data removed]",
      "text/plain": [
       "<Figure size 1152x288 with 2 Axes>"
      ]
     },
     "metadata": {
      "needs_background": "light"
     },
     "output_type": "display_data"
    }
   ],
   "source": [
    "plt.figure(figsize=(16, 4))\n",
    "\n",
    "# Histogram\n",
    "plt.subplot(1, 2, 1)\n",
    "sns.histplot(data['Stars'], bins=30)\n",
    "plt.title('Histogram')\n",
    "\n",
    "# Boxplot\n",
    "plt.subplot(1, 2, 2)\n",
    "sns.boxplot(y=data['Stars'])\n",
    "plt.title('Boxplot')\n",
    "\n",
    "plt.show()"
   ]
  },
  {
   "cell_type": "markdown",
   "metadata": {},
   "source": [
    "> Jika kita melihat distribution plot diatas, kolom Stars memiliki nilai paling banyak pada bintang 3. Disusul dengan bintang 2. Lalu pada boxplot nya tidak terdeteksi missing value pada data."
   ]
  },
  {
   "cell_type": "code",
   "execution_count": 9,
   "metadata": {},
   "outputs": [
    {
     "data": {
      "application/vnd.plotly.v1+json": {
       "config": {
        "plotlyServerURL": "https://plot.ly"
       },
       "data": [
        {
         "alignmentgroup": "True",
         "bingroup": "x",
         "cliponaxis": false,
         "hovertemplate": "Room Type=%{x}<br>count=%{y}<extra></extra>",
         "legendgroup": "",
         "marker": {
          "color": "rgb(36, 86, 104)",
          "pattern": {
           "shape": ""
          }
         },
         "name": "",
         "offsetgroup": "",
         "orientation": "v",
         "showlegend": false,
         "textangle": 0,
         "textfont": {
          "size": 12
         },
         "textposition": "outside",
         "texttemplate": "%{value:.2s}",
         "type": "histogram",
         "x": [
          "Deluxe",
          "Deluxe",
          "Standard",
          "Deluxe",
          "Superior",
          "Standard",
          "Standard",
          "Standard",
          "Deluxe",
          "Superior",
          "Standard",
          "Superior",
          "Deluxe",
          "Deluxe",
          "Villa",
          "Standard",
          "Standard",
          "Standard",
          "Deluxe",
          "Standard",
          "Superior",
          "Standard",
          "Deluxe",
          "Standard",
          "Suite",
          "Deluxe",
          "Standard",
          "Superior",
          "Superior",
          "Superior",
          "Superior",
          "Deluxe",
          "Superior",
          "Standard",
          "Superior",
          "Deluxe",
          "Deluxe",
          "Superior",
          "Standard",
          "Deluxe",
          "Superior",
          "Standard",
          "Standard",
          "Deluxe",
          "Standard",
          "Standard",
          "Deluxe",
          "Deluxe",
          "Standard",
          "Standard",
          "Standard",
          "Superior",
          "Standard",
          "Deluxe",
          "Deluxe",
          "Deluxe",
          "Deluxe",
          "Standard",
          "Suite",
          "Standard",
          "Standard",
          "Deluxe",
          "Standard",
          "Superior",
          "Superior",
          "Deluxe",
          "Superior",
          "Deluxe",
          "Deluxe",
          "Superior",
          "Deluxe",
          "Standard",
          "Standard",
          "Deluxe",
          "Superior",
          "Superior",
          "Standard",
          "Superior",
          "Standard",
          "Suite",
          "Superior",
          "Deluxe",
          "Standard",
          "Suite",
          "Superior",
          "Deluxe",
          "Suite",
          "Deluxe",
          "Deluxe",
          "Deluxe",
          "Superior",
          "Deluxe",
          "Suite",
          "Villa",
          "Superior",
          "Superior",
          "Standard",
          "Superior",
          "Standard",
          "Superior",
          "Superior",
          "Standard",
          "Superior",
          "Standard",
          "Deluxe",
          "Superior",
          "Standard",
          "Standard",
          "Suite",
          "Deluxe",
          "Superior",
          "Superior",
          "Superior",
          "Superior",
          "Standard",
          "Superior",
          "Superior",
          "Deluxe",
          "Deluxe",
          "Superior",
          "Superior",
          "Standard",
          "Standard",
          "Suite",
          "Superior",
          "Superior",
          "Deluxe",
          "Superior",
          "Suite",
          "Standard",
          "Superior",
          "Superior",
          "Superior",
          "Suite",
          "Deluxe",
          "Deluxe",
          "Standard",
          "Deluxe",
          "Standard",
          "Standard",
          "Deluxe",
          "Standard",
          "Superior",
          "Superior",
          "Deluxe",
          "Standard",
          "Standard",
          "Standard",
          "Standard",
          "Villa",
          "Deluxe",
          "Superior",
          "Standard",
          "Deluxe",
          "Superior",
          "Standard",
          "Villa",
          "Deluxe",
          "Suite",
          "Superior",
          "Superior",
          "Suite",
          "Deluxe",
          "Standard",
          "Deluxe",
          "Deluxe",
          "Superior",
          "Standard",
          "Superior",
          "Deluxe",
          "Superior",
          "Standard",
          "Standard",
          "Deluxe",
          "Villa",
          "Standard",
          "Standard",
          "Standard",
          "Deluxe",
          "Deluxe",
          "Standard",
          "Superior",
          "Deluxe",
          "Suite",
          "Standard",
          "Standard",
          "Deluxe",
          "Standard",
          "Superior",
          "Deluxe",
          "Standard",
          "Standard",
          "Superior",
          "Standard",
          "Superior",
          "Superior",
          "Deluxe",
          "Superior",
          "Superior",
          "Deluxe",
          "Standard",
          "Standard",
          "Deluxe",
          "Superior",
          "Deluxe",
          "Standard",
          "Superior",
          "Deluxe",
          "Deluxe",
          "Superior",
          "Deluxe",
          "Deluxe",
          "Superior",
          "Superior",
          "Superior",
          "Deluxe",
          "Deluxe",
          "Deluxe",
          "Deluxe",
          "Deluxe",
          "Deluxe",
          "Deluxe",
          "Deluxe",
          "Deluxe",
          "Deluxe",
          "Superior",
          "Standard",
          "Deluxe",
          "Standard",
          "Deluxe",
          "Deluxe",
          "Superior",
          "Deluxe",
          "Deluxe",
          "Standard",
          "Deluxe",
          "Superior",
          "Superior",
          "Standard",
          "Standard",
          "Superior",
          "Deluxe",
          "Deluxe",
          "Standard",
          "Deluxe",
          "Superior",
          "Deluxe",
          "Superior",
          "Superior",
          "Superior",
          "Suite",
          "Superior",
          "Superior",
          "Superior",
          "Deluxe",
          "Superior",
          "Superior",
          "Superior",
          "Deluxe",
          "Deluxe",
          "Deluxe",
          "Superior",
          "Superior",
          "Villa",
          "Deluxe",
          "Superior",
          "Deluxe",
          "Deluxe",
          "Superior",
          "Standard",
          "Superior",
          "Deluxe",
          "Deluxe",
          "Standard",
          "Superior",
          "Standard",
          "Deluxe",
          "Deluxe",
          "Superior",
          "Villa",
          "Standard",
          "Suite",
          "Standard",
          "Standard",
          "Deluxe",
          "Superior",
          "Deluxe",
          "Deluxe",
          "Deluxe",
          "Suite",
          "Superior",
          "Superior",
          "Deluxe",
          "Superior",
          "Superior",
          "Deluxe",
          "Deluxe",
          "Superior",
          "Standard",
          "Standard",
          "Superior",
          "Superior",
          "Deluxe",
          "Deluxe",
          "Deluxe",
          "Standard",
          "Deluxe",
          "Deluxe",
          "Superior",
          "Superior",
          "Deluxe",
          "Standard",
          "Deluxe",
          "Deluxe",
          "Deluxe",
          "Deluxe",
          "Deluxe",
          "Deluxe",
          "Deluxe",
          "Deluxe",
          "Villa",
          "Villa",
          "Superior",
          "Standard",
          "Standard",
          "Superior",
          "Standard",
          "Superior",
          "Deluxe",
          "Superior",
          "Deluxe",
          "Deluxe",
          "Standard",
          "Superior",
          "Superior",
          "Standard",
          "Deluxe",
          "Superior",
          "Deluxe",
          "Deluxe",
          "Deluxe",
          "Superior",
          "Superior",
          "Standard",
          "Standard",
          "Deluxe",
          "Standard",
          "Standard",
          "Standard",
          "Deluxe",
          "Suite",
          "Superior",
          "Deluxe",
          "Standard",
          "Superior",
          "Standard",
          "Superior",
          "Superior",
          "Superior",
          "Superior",
          "Deluxe",
          "Suite",
          "Standard",
          "Standard",
          "Deluxe",
          "Superior",
          "Deluxe",
          "Standard",
          "Standard",
          "Deluxe",
          "Superior",
          "Deluxe",
          "Superior",
          "Deluxe",
          "Superior",
          "Superior",
          "Deluxe",
          "Superior",
          "Superior",
          "Superior",
          "Superior",
          "Superior",
          "Deluxe",
          "Deluxe",
          "Standard",
          "Deluxe",
          "Suite",
          "Standard",
          "Suite",
          "Superior",
          "Superior",
          "Deluxe",
          "Deluxe",
          "Deluxe",
          "Deluxe",
          "Deluxe",
          "Deluxe",
          "Standard",
          "Suite",
          "Superior",
          "Superior",
          "Deluxe",
          "Deluxe",
          "Deluxe",
          "Standard",
          "Villa",
          "Deluxe",
          "Superior",
          "Deluxe",
          "Deluxe",
          "Deluxe",
          "Deluxe",
          "Standard",
          "Standard",
          "Deluxe",
          "Villa",
          "Deluxe",
          "Deluxe",
          "Deluxe",
          "Superior",
          "Suite",
          "Superior",
          "Deluxe",
          "Standard",
          "Superior",
          "Standard",
          "Superior",
          "Superior",
          "Superior",
          "Deluxe",
          "Standard",
          "Superior",
          "Standard",
          "Deluxe",
          "Deluxe",
          "Deluxe",
          "Deluxe",
          "Superior",
          "Superior",
          "Superior",
          "Deluxe",
          "Deluxe",
          "Superior",
          "Deluxe",
          "Deluxe",
          "Deluxe",
          "Suite",
          "Superior",
          "Superior",
          "Deluxe",
          "Superior",
          "Superior",
          "Deluxe",
          "Deluxe",
          "Deluxe",
          "Superior",
          "Standard",
          "Standard",
          "Deluxe",
          "Standard",
          "Standard",
          "Deluxe",
          "Superior",
          "Superior",
          "Deluxe",
          "Deluxe",
          "Deluxe",
          "Superior",
          "Standard",
          "Standard",
          "Superior",
          "Standard",
          "Deluxe",
          "Deluxe",
          "Deluxe",
          "Standard",
          "Superior",
          "Deluxe",
          "Standard",
          "Superior",
          "Standard",
          "Deluxe",
          "Deluxe",
          "Standard",
          "Villa",
          "Standard",
          "Superior",
          "Superior",
          "Standard",
          "Deluxe",
          "Deluxe",
          "Superior",
          "Standard",
          "Deluxe",
          "Deluxe",
          "Deluxe",
          "Deluxe",
          "Deluxe",
          "Deluxe",
          "Standard",
          "Superior",
          "Deluxe",
          "Deluxe",
          "Standard",
          "Deluxe",
          "Deluxe",
          "Superior",
          "Deluxe",
          "Deluxe",
          "Superior",
          "Deluxe",
          "Superior",
          "Standard",
          "Superior",
          "Standard",
          "Villa",
          "Superior",
          "Deluxe",
          "Suite",
          "Superior",
          "Deluxe",
          "Superior",
          "Deluxe",
          "Deluxe",
          "Superior",
          "Superior",
          "Deluxe",
          "Deluxe",
          "Superior",
          "Standard",
          "Suite",
          "Superior",
          "Superior",
          "Standard",
          "Superior",
          "Villa",
          "Superior",
          "Deluxe",
          "Suite",
          "Superior",
          "Superior",
          "Standard",
          "Superior",
          "Standard",
          "Superior",
          "Suite",
          "Superior",
          "Superior",
          "Standard",
          "Deluxe",
          "Standard",
          "Superior",
          "Standard",
          "Superior",
          "Superior",
          "Superior",
          "Superior",
          "Standard",
          "Superior",
          "Deluxe",
          "Deluxe",
          "Deluxe",
          "Deluxe",
          "Superior",
          "Deluxe",
          "Standard",
          "Deluxe",
          "Standard",
          "Standard",
          "Deluxe",
          "Standard",
          "Deluxe",
          "Deluxe",
          "Standard",
          "Standard",
          "Standard",
          "Superior",
          "Superior",
          "Deluxe",
          "Deluxe",
          "Deluxe",
          "Deluxe",
          "Deluxe",
          "Superior",
          "Standard",
          "Deluxe",
          "Superior",
          "Superior",
          "Superior",
          "Superior",
          "Deluxe",
          "Suite",
          "Deluxe",
          "Deluxe",
          "Superior",
          "Deluxe",
          "Deluxe",
          "Deluxe",
          "Deluxe",
          "Suite",
          "Superior",
          "Deluxe",
          "Deluxe",
          "Deluxe",
          "Deluxe",
          "Deluxe",
          "Deluxe",
          "Deluxe",
          "Superior",
          "Suite",
          "Deluxe",
          "Deluxe",
          "Deluxe",
          "Deluxe",
          "Suite",
          "Deluxe",
          "Standard",
          "Deluxe",
          "Superior",
          "Deluxe",
          "Deluxe",
          "Deluxe",
          "Superior",
          "Standard",
          "Standard",
          "Standard",
          "Deluxe",
          "Deluxe",
          "Deluxe",
          "Deluxe",
          "Standard",
          "Superior",
          "Deluxe",
          "Deluxe",
          "Deluxe",
          "Deluxe",
          "Deluxe",
          "Deluxe",
          "Standard",
          "Deluxe",
          "Deluxe",
          "Superior",
          "Superior",
          "Deluxe",
          "Standard",
          "Superior",
          "Deluxe",
          "Deluxe",
          "Superior",
          "Standard",
          "Deluxe",
          "Deluxe",
          "Standard",
          "Deluxe",
          "Suite",
          "Deluxe",
          "Deluxe",
          "Deluxe",
          "Deluxe",
          "Deluxe",
          "Deluxe",
          "Standard",
          "Standard",
          "Standard",
          "Standard",
          "Superior",
          "Deluxe",
          "Deluxe",
          "Superior",
          "Superior",
          "Deluxe",
          "Deluxe",
          "Deluxe",
          "Deluxe",
          "Suite",
          "Superior",
          "Superior",
          "Standard",
          "Standard",
          "Superior",
          "Suite",
          "Deluxe",
          "Standard",
          "Superior",
          "Superior",
          "Deluxe",
          "Standard",
          "Superior",
          "Standard",
          "Standard",
          "Superior",
          "Superior",
          "Standard",
          "Suite",
          "Standard",
          "Deluxe",
          "Standard",
          "Standard",
          "Standard",
          "Deluxe",
          "Standard",
          "Superior",
          "Standard",
          "Superior",
          "Superior",
          "Superior",
          "Suite",
          "Suite",
          "Standard",
          "Deluxe",
          "Standard",
          "Deluxe",
          "Superior",
          "Superior",
          "Standard",
          "Standard",
          "Standard",
          "Deluxe",
          "Standard",
          "Villa",
          "Deluxe",
          "Standard",
          "Deluxe",
          "Standard",
          "Standard",
          "Deluxe",
          "Standard",
          "Standard",
          "Villa",
          "Standard",
          "Standard",
          "Deluxe",
          "Standard",
          "Standard",
          "Standard",
          "Standard",
          "Standard",
          "Standard",
          "Suite",
          "Standard",
          "Deluxe",
          "Deluxe",
          "Superior",
          "Deluxe",
          "Standard",
          "Standard",
          "Villa",
          "Villa",
          "Superior",
          "Superior",
          "Standard",
          "Standard",
          "Standard",
          "Standard",
          "Standard",
          "Standard",
          "Standard",
          "Standard",
          "Standard",
          "Superior",
          "Standard",
          "Deluxe",
          "Standard",
          "Deluxe",
          "Superior",
          "Standard",
          "Standard",
          "Standard",
          "Villa",
          "Superior",
          "Deluxe",
          "Deluxe",
          "Superior",
          "Deluxe",
          "Standard",
          "Standard",
          "Suite",
          "Superior",
          "Standard",
          "Deluxe",
          "Deluxe",
          "Superior",
          "Superior",
          "Standard",
          "Standard",
          "Deluxe",
          "Standard",
          "Standard",
          "Villa",
          "Standard",
          "Standard",
          "Standard",
          "Deluxe",
          "Standard",
          "Deluxe",
          "Suite",
          "Standard",
          "Standard",
          "Deluxe",
          "Standard",
          "Superior",
          "Suite",
          "Standard",
          "Deluxe",
          "Villa",
          "Standard",
          "Deluxe",
          "Deluxe",
          "Deluxe",
          "Superior",
          "Deluxe",
          "Standard",
          "Standard",
          "Standard",
          "Superior",
          "Superior",
          "Deluxe",
          "Superior",
          "Deluxe",
          "Superior",
          "Deluxe",
          "Superior",
          "Standard",
          "Superior",
          "Superior",
          "Standard",
          "Standard",
          "Standard",
          "Suite",
          "Deluxe",
          "Superior",
          "Deluxe",
          "Standard",
          "Deluxe",
          "Superior",
          "Superior",
          "Villa",
          "Deluxe",
          "Deluxe",
          "Deluxe",
          "Standard",
          "Standard",
          "Superior",
          "Standard",
          "Deluxe",
          "Superior",
          "Superior",
          "Standard",
          "Standard",
          "Standard",
          "Standard",
          "Deluxe",
          "Superior",
          "Superior",
          "Superior",
          "Standard",
          "Deluxe",
          "Deluxe",
          "Standard",
          "Deluxe",
          "Standard",
          "Suite",
          "Standard",
          "Superior",
          "Standard",
          "Superior",
          "Deluxe",
          "Superior",
          "Standard",
          "Deluxe",
          "Deluxe",
          "Superior",
          "Standard",
          "Superior",
          "Superior",
          "Deluxe",
          "Deluxe",
          "Deluxe",
          "Superior",
          "Standard",
          "Superior",
          "Deluxe",
          "Deluxe",
          "Standard",
          "Standard",
          "Standard",
          "Superior",
          "Deluxe",
          "Deluxe",
          "Villa",
          "Villa",
          "Standard",
          "Deluxe",
          "Superior",
          "Superior",
          "Deluxe",
          "Deluxe",
          "Standard",
          "Superior",
          "Standard",
          "Superior",
          "Superior",
          "Standard",
          "Standard",
          "Superior",
          "Standard",
          "Villa",
          "Standard",
          "Superior",
          "Superior",
          "Superior",
          "Deluxe",
          "Superior",
          "Deluxe",
          "Deluxe",
          "Standard",
          "Deluxe",
          "Deluxe",
          "Deluxe",
          "Superior",
          "Superior",
          "Standard",
          "Superior",
          "Standard",
          "Superior",
          "Standard",
          "Deluxe",
          "Superior",
          "Superior",
          "Deluxe",
          "Deluxe",
          "Superior",
          "Standard",
          "Standard",
          "Superior",
          "Standard",
          "Deluxe",
          "Deluxe",
          "Standard",
          "Superior",
          "Deluxe",
          "Deluxe",
          "Standard",
          "Standard",
          "Superior",
          "Standard",
          "Superior",
          "Superior",
          "Superior",
          "Superior",
          "Superior",
          "Deluxe",
          "Deluxe",
          "Standard",
          "Standard",
          "Standard",
          "Superior",
          "Deluxe",
          "Standard",
          "Superior",
          "Deluxe",
          "Deluxe",
          "Suite",
          "Deluxe",
          "Deluxe",
          "Superior",
          "Standard",
          "Standard",
          "Deluxe",
          "Deluxe",
          "Superior",
          "Deluxe",
          "Deluxe",
          "Standard",
          "Standard",
          "Deluxe",
          "Standard",
          "Standard",
          "Villa",
          "Standard",
          "Standard",
          "Villa",
          "Deluxe",
          "Standard",
          "Villa",
          "Deluxe",
          "Standard",
          "Deluxe",
          "Villa",
          "Standard",
          "Standard",
          "Deluxe",
          "Superior",
          "Superior",
          "Standard",
          "Deluxe",
          "Standard",
          "Standard",
          "Superior",
          "Deluxe",
          "Standard",
          "Suite",
          "Deluxe",
          "Deluxe",
          "Standard",
          "Superior",
          "Standard",
          "Standard",
          "Standard",
          "Superior",
          "Standard",
          "Deluxe",
          "Standard",
          "Deluxe",
          "Villa",
          "Deluxe",
          "Standard",
          "Deluxe",
          "Superior",
          "Superior",
          "Standard",
          "Superior",
          "Deluxe",
          "Standard",
          "Standard",
          "Standard",
          "Standard",
          "Villa",
          "Villa",
          "Superior",
          "Standard",
          "Deluxe",
          "Standard",
          "Deluxe",
          "Superior",
          "Standard",
          "Standard",
          "Standard",
          "Deluxe",
          "Deluxe",
          "Deluxe",
          "Superior",
          "Standard",
          "Superior",
          "Deluxe",
          "Standard",
          "Standard",
          "Standard",
          "Superior",
          "Standard",
          "Deluxe",
          "Standard",
          "Villa",
          "Superior",
          "Superior",
          "Standard",
          "Deluxe",
          "Standard",
          "Superior",
          "Suite",
          "Deluxe",
          "Superior",
          "Standard",
          "Superior",
          "Standard",
          "Superior",
          "Deluxe",
          "Deluxe",
          "Deluxe",
          "Superior",
          "Deluxe",
          "Standard",
          "Standard",
          "Standard",
          "Standard",
          "Superior",
          "Standard",
          "Standard",
          "Deluxe",
          "Deluxe",
          "Villa",
          "Deluxe",
          "Standard",
          "Superior",
          "Deluxe",
          "Superior",
          "Standard",
          "Superior",
          "Superior",
          "Superior",
          "Deluxe",
          "Deluxe",
          "Villa",
          "Villa",
          "Deluxe",
          "Deluxe",
          "Deluxe",
          "Villa",
          "Deluxe",
          "Deluxe",
          "Standard",
          "Villa",
          "Deluxe",
          "Standard",
          "Superior",
          "Deluxe",
          "Deluxe",
          "Superior",
          "Deluxe",
          "Superior",
          "Superior",
          "Standard",
          "Superior",
          "Standard",
          "Deluxe",
          "Superior",
          "Deluxe",
          "Superior",
          "Suite",
          "Deluxe",
          "Deluxe",
          "Deluxe",
          "Villa",
          "Deluxe",
          "Standard",
          "Deluxe",
          "Standard",
          "Superior",
          "Deluxe",
          "Standard",
          "Standard",
          "Standard",
          "Superior",
          "Standard",
          "Deluxe",
          "Standard",
          "Standard",
          "Superior",
          "Superior",
          "Superior",
          "Superior",
          "Standard",
          "Superior",
          "Deluxe",
          "Suite",
          "Standard",
          "Standard",
          "Suite",
          "Deluxe",
          "Superior",
          "Standard",
          "Standard",
          "Deluxe",
          "Deluxe",
          "Deluxe",
          "Deluxe",
          "Superior",
          "Standard",
          "Deluxe",
          "Superior",
          "Standard",
          "Superior",
          "Standard",
          "Deluxe",
          "Deluxe",
          "Standard",
          "Standard",
          "Standard",
          "Superior",
          "Superior",
          "Standard",
          "Deluxe",
          "Deluxe",
          "Standard",
          "Standard",
          "Deluxe",
          "Superior",
          "Standard",
          "Standard",
          "Villa",
          "Standard",
          "Standard",
          "Standard",
          "Superior",
          "Deluxe",
          "Deluxe",
          "Superior",
          "Villa",
          "Standard",
          "Deluxe",
          "Superior",
          "Standard",
          "Villa",
          "Villa",
          "Standard",
          "Standard",
          "Standard",
          "Standard",
          "Suite",
          "Deluxe",
          "Deluxe",
          "Superior",
          "Villa",
          "Standard",
          "Deluxe",
          "Deluxe",
          "Standard",
          "Deluxe",
          "Superior",
          "Superior",
          "Superior",
          "Deluxe",
          "Deluxe",
          "Deluxe",
          "Villa",
          "Superior",
          "Standard",
          "Standard",
          "Standard",
          "Suite",
          "Villa",
          "Deluxe",
          "Superior",
          "Deluxe",
          "Suite",
          "Deluxe",
          "Standard",
          "Superior",
          "Standard",
          "Deluxe",
          "Superior",
          "Suite",
          "Deluxe",
          "Suite",
          "Superior",
          "Standard",
          "Deluxe",
          "Deluxe",
          "Standard",
          "Deluxe",
          "Superior",
          "Standard",
          "Deluxe",
          "Standard",
          "Standard",
          "Standard",
          "Deluxe",
          "Standard",
          "Superior",
          "Standard",
          "Deluxe",
          "Standard",
          "Standard",
          "Standard",
          "Standard",
          "Standard",
          "Superior",
          "Standard",
          "Deluxe",
          "Superior",
          "Standard",
          "Standard",
          "Deluxe",
          "Standard",
          "Deluxe",
          "Superior",
          "Standard",
          "Superior",
          "Villa",
          "Standard",
          "Standard",
          "Deluxe",
          "Villa",
          "Deluxe",
          "Superior",
          "Villa",
          "Standard",
          "Villa",
          "Standard",
          "Standard",
          "Superior",
          "Superior",
          "Suite",
          "Deluxe",
          "Deluxe",
          "Standard",
          "Superior",
          "Standard",
          "Superior",
          "Standard",
          "Standard",
          "Suite",
          "Superior",
          "Standard",
          "Suite",
          "Standard",
          "Standard",
          "Suite",
          "Standard",
          "Standard",
          "Deluxe",
          "Standard",
          "Villa",
          "Standard",
          "Superior",
          "Superior",
          "Deluxe",
          "Suite",
          "Deluxe",
          "Superior",
          "Standard",
          "Standard",
          "Suite",
          "Deluxe",
          "Deluxe",
          "Standard",
          "Deluxe",
          "Superior",
          "Standard",
          "Superior",
          "Suite",
          "Superior",
          "Suite",
          "Deluxe",
          "Deluxe",
          "Deluxe",
          "Deluxe",
          "Deluxe",
          "Standard",
          "Deluxe",
          "Superior",
          "Standard",
          "Deluxe",
          "Superior",
          "Standard",
          "Deluxe",
          "Superior",
          "Superior",
          "Deluxe",
          "Deluxe",
          "Deluxe",
          "Deluxe",
          "Superior",
          "Superior",
          "Suite",
          "Deluxe",
          "Standard",
          "Superior",
          "Standard",
          "Deluxe",
          "Suite",
          "Standard",
          "Standard",
          "Deluxe",
          "Suite",
          "Superior",
          "Deluxe",
          "Standard",
          "Superior",
          "Deluxe",
          "Villa",
          "Deluxe",
          "Deluxe",
          "Standard",
          "Standard",
          "Deluxe",
          "Standard",
          "Standard",
          "Deluxe",
          "Standard",
          "Villa",
          "Standard",
          "Superior",
          "Standard",
          "Villa",
          "Deluxe",
          "Standard",
          "Standard",
          "Deluxe",
          "Superior",
          "Superior",
          "Superior",
          "Standard",
          "Superior",
          "Deluxe",
          "Standard",
          "Standard",
          "Standard",
          "Standard",
          "Deluxe",
          "Standard",
          "Deluxe",
          "Deluxe",
          "Superior",
          "Suite",
          "Villa",
          "Deluxe",
          "Standard",
          "Villa",
          "Superior",
          "Standard",
          "Standard",
          "Suite",
          "Suite",
          "Standard",
          "Standard",
          "Superior",
          "Deluxe",
          "Deluxe",
          "Superior",
          "Deluxe",
          "Deluxe",
          "Standard",
          "Standard",
          "Standard",
          "Deluxe",
          "Standard",
          "Standard",
          "Standard",
          "Deluxe",
          "Standard",
          "Deluxe",
          "Standard",
          "Villa",
          "Superior",
          "Superior",
          "Standard",
          "Deluxe",
          "Standard",
          "Deluxe",
          "Superior",
          "Superior",
          "Deluxe",
          "Standard",
          "Standard",
          "Standard",
          "Standard",
          "Standard",
          "Superior",
          "Superior",
          "Deluxe",
          "Standard",
          "Standard",
          "Standard",
          "Standard"
         ],
         "xaxis": "x",
         "yaxis": "y"
        }
       ],
       "layout": {
        "barmode": "relative",
        "height": 400,
        "legend": {
         "tracegroupgap": 0
        },
        "margin": {
         "t": 60
        },
        "template": {
         "data": {
          "bar": [
           {
            "error_x": {
             "color": "#2a3f5f"
            },
            "error_y": {
             "color": "#2a3f5f"
            },
            "marker": {
             "line": {
              "color": "#E5ECF6",
              "width": 0.5
             },
             "pattern": {
              "fillmode": "overlay",
              "size": 10,
              "solidity": 0.2
             }
            },
            "type": "bar"
           }
          ],
          "barpolar": [
           {
            "marker": {
             "line": {
              "color": "#E5ECF6",
              "width": 0.5
             },
             "pattern": {
              "fillmode": "overlay",
              "size": 10,
              "solidity": 0.2
             }
            },
            "type": "barpolar"
           }
          ],
          "carpet": [
           {
            "aaxis": {
             "endlinecolor": "#2a3f5f",
             "gridcolor": "white",
             "linecolor": "white",
             "minorgridcolor": "white",
             "startlinecolor": "#2a3f5f"
            },
            "baxis": {
             "endlinecolor": "#2a3f5f",
             "gridcolor": "white",
             "linecolor": "white",
             "minorgridcolor": "white",
             "startlinecolor": "#2a3f5f"
            },
            "type": "carpet"
           }
          ],
          "choropleth": [
           {
            "colorbar": {
             "outlinewidth": 0,
             "ticks": ""
            },
            "type": "choropleth"
           }
          ],
          "contour": [
           {
            "colorbar": {
             "outlinewidth": 0,
             "ticks": ""
            },
            "colorscale": [
             [
              0,
              "#0d0887"
             ],
             [
              0.1111111111111111,
              "#46039f"
             ],
             [
              0.2222222222222222,
              "#7201a8"
             ],
             [
              0.3333333333333333,
              "#9c179e"
             ],
             [
              0.4444444444444444,
              "#bd3786"
             ],
             [
              0.5555555555555556,
              "#d8576b"
             ],
             [
              0.6666666666666666,
              "#ed7953"
             ],
             [
              0.7777777777777778,
              "#fb9f3a"
             ],
             [
              0.8888888888888888,
              "#fdca26"
             ],
             [
              1,
              "#f0f921"
             ]
            ],
            "type": "contour"
           }
          ],
          "contourcarpet": [
           {
            "colorbar": {
             "outlinewidth": 0,
             "ticks": ""
            },
            "type": "contourcarpet"
           }
          ],
          "heatmap": [
           {
            "colorbar": {
             "outlinewidth": 0,
             "ticks": ""
            },
            "colorscale": [
             [
              0,
              "#0d0887"
             ],
             [
              0.1111111111111111,
              "#46039f"
             ],
             [
              0.2222222222222222,
              "#7201a8"
             ],
             [
              0.3333333333333333,
              "#9c179e"
             ],
             [
              0.4444444444444444,
              "#bd3786"
             ],
             [
              0.5555555555555556,
              "#d8576b"
             ],
             [
              0.6666666666666666,
              "#ed7953"
             ],
             [
              0.7777777777777778,
              "#fb9f3a"
             ],
             [
              0.8888888888888888,
              "#fdca26"
             ],
             [
              1,
              "#f0f921"
             ]
            ],
            "type": "heatmap"
           }
          ],
          "heatmapgl": [
           {
            "colorbar": {
             "outlinewidth": 0,
             "ticks": ""
            },
            "colorscale": [
             [
              0,
              "#0d0887"
             ],
             [
              0.1111111111111111,
              "#46039f"
             ],
             [
              0.2222222222222222,
              "#7201a8"
             ],
             [
              0.3333333333333333,
              "#9c179e"
             ],
             [
              0.4444444444444444,
              "#bd3786"
             ],
             [
              0.5555555555555556,
              "#d8576b"
             ],
             [
              0.6666666666666666,
              "#ed7953"
             ],
             [
              0.7777777777777778,
              "#fb9f3a"
             ],
             [
              0.8888888888888888,
              "#fdca26"
             ],
             [
              1,
              "#f0f921"
             ]
            ],
            "type": "heatmapgl"
           }
          ],
          "histogram": [
           {
            "marker": {
             "pattern": {
              "fillmode": "overlay",
              "size": 10,
              "solidity": 0.2
             }
            },
            "type": "histogram"
           }
          ],
          "histogram2d": [
           {
            "colorbar": {
             "outlinewidth": 0,
             "ticks": ""
            },
            "colorscale": [
             [
              0,
              "#0d0887"
             ],
             [
              0.1111111111111111,
              "#46039f"
             ],
             [
              0.2222222222222222,
              "#7201a8"
             ],
             [
              0.3333333333333333,
              "#9c179e"
             ],
             [
              0.4444444444444444,
              "#bd3786"
             ],
             [
              0.5555555555555556,
              "#d8576b"
             ],
             [
              0.6666666666666666,
              "#ed7953"
             ],
             [
              0.7777777777777778,
              "#fb9f3a"
             ],
             [
              0.8888888888888888,
              "#fdca26"
             ],
             [
              1,
              "#f0f921"
             ]
            ],
            "type": "histogram2d"
           }
          ],
          "histogram2dcontour": [
           {
            "colorbar": {
             "outlinewidth": 0,
             "ticks": ""
            },
            "colorscale": [
             [
              0,
              "#0d0887"
             ],
             [
              0.1111111111111111,
              "#46039f"
             ],
             [
              0.2222222222222222,
              "#7201a8"
             ],
             [
              0.3333333333333333,
              "#9c179e"
             ],
             [
              0.4444444444444444,
              "#bd3786"
             ],
             [
              0.5555555555555556,
              "#d8576b"
             ],
             [
              0.6666666666666666,
              "#ed7953"
             ],
             [
              0.7777777777777778,
              "#fb9f3a"
             ],
             [
              0.8888888888888888,
              "#fdca26"
             ],
             [
              1,
              "#f0f921"
             ]
            ],
            "type": "histogram2dcontour"
           }
          ],
          "mesh3d": [
           {
            "colorbar": {
             "outlinewidth": 0,
             "ticks": ""
            },
            "type": "mesh3d"
           }
          ],
          "parcoords": [
           {
            "line": {
             "colorbar": {
              "outlinewidth": 0,
              "ticks": ""
             }
            },
            "type": "parcoords"
           }
          ],
          "pie": [
           {
            "automargin": true,
            "type": "pie"
           }
          ],
          "scatter": [
           {
            "marker": {
             "colorbar": {
              "outlinewidth": 0,
              "ticks": ""
             }
            },
            "type": "scatter"
           }
          ],
          "scatter3d": [
           {
            "line": {
             "colorbar": {
              "outlinewidth": 0,
              "ticks": ""
             }
            },
            "marker": {
             "colorbar": {
              "outlinewidth": 0,
              "ticks": ""
             }
            },
            "type": "scatter3d"
           }
          ],
          "scattercarpet": [
           {
            "marker": {
             "colorbar": {
              "outlinewidth": 0,
              "ticks": ""
             }
            },
            "type": "scattercarpet"
           }
          ],
          "scattergeo": [
           {
            "marker": {
             "colorbar": {
              "outlinewidth": 0,
              "ticks": ""
             }
            },
            "type": "scattergeo"
           }
          ],
          "scattergl": [
           {
            "marker": {
             "colorbar": {
              "outlinewidth": 0,
              "ticks": ""
             }
            },
            "type": "scattergl"
           }
          ],
          "scattermapbox": [
           {
            "marker": {
             "colorbar": {
              "outlinewidth": 0,
              "ticks": ""
             }
            },
            "type": "scattermapbox"
           }
          ],
          "scatterpolar": [
           {
            "marker": {
             "colorbar": {
              "outlinewidth": 0,
              "ticks": ""
             }
            },
            "type": "scatterpolar"
           }
          ],
          "scatterpolargl": [
           {
            "marker": {
             "colorbar": {
              "outlinewidth": 0,
              "ticks": ""
             }
            },
            "type": "scatterpolargl"
           }
          ],
          "scatterternary": [
           {
            "marker": {
             "colorbar": {
              "outlinewidth": 0,
              "ticks": ""
             }
            },
            "type": "scatterternary"
           }
          ],
          "surface": [
           {
            "colorbar": {
             "outlinewidth": 0,
             "ticks": ""
            },
            "colorscale": [
             [
              0,
              "#0d0887"
             ],
             [
              0.1111111111111111,
              "#46039f"
             ],
             [
              0.2222222222222222,
              "#7201a8"
             ],
             [
              0.3333333333333333,
              "#9c179e"
             ],
             [
              0.4444444444444444,
              "#bd3786"
             ],
             [
              0.5555555555555556,
              "#d8576b"
             ],
             [
              0.6666666666666666,
              "#ed7953"
             ],
             [
              0.7777777777777778,
              "#fb9f3a"
             ],
             [
              0.8888888888888888,
              "#fdca26"
             ],
             [
              1,
              "#f0f921"
             ]
            ],
            "type": "surface"
           }
          ],
          "table": [
           {
            "cells": {
             "fill": {
              "color": "#EBF0F8"
             },
             "line": {
              "color": "white"
             }
            },
            "header": {
             "fill": {
              "color": "#C8D4E3"
             },
             "line": {
              "color": "white"
             }
            },
            "type": "table"
           }
          ]
         },
         "layout": {
          "annotationdefaults": {
           "arrowcolor": "#2a3f5f",
           "arrowhead": 0,
           "arrowwidth": 1
          },
          "autotypenumbers": "strict",
          "coloraxis": {
           "colorbar": {
            "outlinewidth": 0,
            "ticks": ""
           }
          },
          "colorscale": {
           "diverging": [
            [
             0,
             "#8e0152"
            ],
            [
             0.1,
             "#c51b7d"
            ],
            [
             0.2,
             "#de77ae"
            ],
            [
             0.3,
             "#f1b6da"
            ],
            [
             0.4,
             "#fde0ef"
            ],
            [
             0.5,
             "#f7f7f7"
            ],
            [
             0.6,
             "#e6f5d0"
            ],
            [
             0.7,
             "#b8e186"
            ],
            [
             0.8,
             "#7fbc41"
            ],
            [
             0.9,
             "#4d9221"
            ],
            [
             1,
             "#276419"
            ]
           ],
           "sequential": [
            [
             0,
             "#0d0887"
            ],
            [
             0.1111111111111111,
             "#46039f"
            ],
            [
             0.2222222222222222,
             "#7201a8"
            ],
            [
             0.3333333333333333,
             "#9c179e"
            ],
            [
             0.4444444444444444,
             "#bd3786"
            ],
            [
             0.5555555555555556,
             "#d8576b"
            ],
            [
             0.6666666666666666,
             "#ed7953"
            ],
            [
             0.7777777777777778,
             "#fb9f3a"
            ],
            [
             0.8888888888888888,
             "#fdca26"
            ],
            [
             1,
             "#f0f921"
            ]
           ],
           "sequentialminus": [
            [
             0,
             "#0d0887"
            ],
            [
             0.1111111111111111,
             "#46039f"
            ],
            [
             0.2222222222222222,
             "#7201a8"
            ],
            [
             0.3333333333333333,
             "#9c179e"
            ],
            [
             0.4444444444444444,
             "#bd3786"
            ],
            [
             0.5555555555555556,
             "#d8576b"
            ],
            [
             0.6666666666666666,
             "#ed7953"
            ],
            [
             0.7777777777777778,
             "#fb9f3a"
            ],
            [
             0.8888888888888888,
             "#fdca26"
            ],
            [
             1,
             "#f0f921"
            ]
           ]
          },
          "colorway": [
           "#636efa",
           "#EF553B",
           "#00cc96",
           "#ab63fa",
           "#FFA15A",
           "#19d3f3",
           "#FF6692",
           "#B6E880",
           "#FF97FF",
           "#FECB52"
          ],
          "font": {
           "color": "#2a3f5f"
          },
          "geo": {
           "bgcolor": "white",
           "lakecolor": "white",
           "landcolor": "#E5ECF6",
           "showlakes": true,
           "showland": true,
           "subunitcolor": "white"
          },
          "hoverlabel": {
           "align": "left"
          },
          "hovermode": "closest",
          "mapbox": {
           "style": "light"
          },
          "paper_bgcolor": "white",
          "plot_bgcolor": "#E5ECF6",
          "polar": {
           "angularaxis": {
            "gridcolor": "white",
            "linecolor": "white",
            "ticks": ""
           },
           "bgcolor": "#E5ECF6",
           "radialaxis": {
            "gridcolor": "white",
            "linecolor": "white",
            "ticks": ""
           }
          },
          "scene": {
           "xaxis": {
            "backgroundcolor": "#E5ECF6",
            "gridcolor": "white",
            "gridwidth": 2,
            "linecolor": "white",
            "showbackground": true,
            "ticks": "",
            "zerolinecolor": "white"
           },
           "yaxis": {
            "backgroundcolor": "#E5ECF6",
            "gridcolor": "white",
            "gridwidth": 2,
            "linecolor": "white",
            "showbackground": true,
            "ticks": "",
            "zerolinecolor": "white"
           },
           "zaxis": {
            "backgroundcolor": "#E5ECF6",
            "gridcolor": "white",
            "gridwidth": 2,
            "linecolor": "white",
            "showbackground": true,
            "ticks": "",
            "zerolinecolor": "white"
           }
          },
          "shapedefaults": {
           "line": {
            "color": "#2a3f5f"
           }
          },
          "ternary": {
           "aaxis": {
            "gridcolor": "white",
            "linecolor": "white",
            "ticks": ""
           },
           "baxis": {
            "gridcolor": "white",
            "linecolor": "white",
            "ticks": ""
           },
           "bgcolor": "#E5ECF6",
           "caxis": {
            "gridcolor": "white",
            "linecolor": "white",
            "ticks": ""
           }
          },
          "title": {
           "x": 0.05
          },
          "xaxis": {
           "automargin": true,
           "gridcolor": "white",
           "linecolor": "white",
           "ticks": "",
           "title": {
            "standoff": 15
           },
           "zerolinecolor": "white",
           "zerolinewidth": 2
          },
          "yaxis": {
           "automargin": true,
           "gridcolor": "white",
           "linecolor": "white",
           "ticks": "",
           "title": {
            "standoff": 15
           },
           "zerolinecolor": "white",
           "zerolinewidth": 2
          }
         }
        },
        "width": 800,
        "xaxis": {
         "anchor": "y",
         "domain": [
          0,
          1
         ],
         "title": {
          "text": "Room Type"
         }
        },
        "yaxis": {
         "anchor": "x",
         "domain": [
          0,
          1
         ],
         "title": {
          "text": "count"
         }
        }
       }
      }
     },
     "metadata": {},
     "output_type": "display_data"
    },
    {
     "data": {
      "application/vnd.plotly.v1+json": {
       "config": {
        "plotlyServerURL": "https://plot.ly"
       },
       "data": [
        {
         "alignmentgroup": "True",
         "bingroup": "x",
         "cliponaxis": false,
         "hovertemplate": "Nama Provinsi=%{x}<br>count=%{y}<extra></extra>",
         "legendgroup": "",
         "marker": {
          "color": "rgb(36, 86, 104)",
          "pattern": {
           "shape": ""
          }
         },
         "name": "",
         "offsetgroup": "",
         "orientation": "v",
         "showlegend": false,
         "textangle": 0,
         "textfont": {
          "size": 12
         },
         "textposition": "outside",
         "texttemplate": "%{value:.2s}",
         "type": "histogram",
         "x": [
          "Bali",
          "Jawa Barat",
          "Daerah Khusus Ibukota Jakarta",
          "Bali",
          "Jawa Barat",
          "Daerah Khusus Ibukota Jakarta",
          "Bali",
          "Bali",
          "Daerah Khusus Ibukota Jakarta",
          "Bali",
          "Bali",
          "Daerah Khusus Ibukota Jakarta",
          "Bali",
          "Daerah Khusus Ibukota Jakarta",
          "Bali",
          "Bali",
          "Daerah Khusus Ibukota Jakarta",
          "Bali",
          "Bali",
          "Jawa Barat",
          "Banten",
          "Jawa Barat",
          "Jawa Barat",
          "Daerah Khusus Ibukota Jakarta",
          "Jawa Barat",
          "Bali",
          "Jawa Barat",
          "Jawa Barat",
          "Jawa Barat",
          "Bali",
          "Jawa Timur",
          "Bali",
          "Bali",
          "Jawa Barat",
          "Bali",
          "Jawa Barat",
          "Jawa Timur",
          "Bali",
          "Jawa Barat",
          "Jawa Barat",
          "Jawa Barat",
          "Bali",
          "Jawa Barat",
          "Jawa Barat",
          "Jawa Barat",
          "Jawa Barat",
          "Jawa Barat",
          "Bali",
          "Jawa Barat",
          "Daerah Khusus Ibukota Jakarta",
          "Bali",
          "Daerah Khusus Ibukota Jakarta",
          "Jawa Timur",
          "Bali",
          "Daerah Khusus Ibukota Jakarta",
          "Daerah Khusus Ibukota Jakarta",
          "Bali",
          "Daerah Khusus Ibukota Jakarta",
          "Daerah Khusus Ibukota Jakarta",
          "Bali",
          "Daerah Khusus Ibukota Jakarta",
          "Daerah Khusus Ibukota Jakarta",
          "Bali",
          "Daerah Khusus Ibukota Jakarta",
          "Daerah Khusus Ibukota Jakarta",
          "Bali",
          "Daerah Khusus Ibukota Jakarta",
          "Bali",
          "Daerah Khusus Ibukota Jakarta",
          "Bali",
          "Daerah Khusus Ibukota Jakarta",
          "Daerah Khusus Ibukota Jakarta",
          "Bali",
          "Bali",
          "Jawa Barat",
          "Daerah Khusus Ibukota Jakarta",
          "Jawa Barat",
          "Daerah Khusus Ibukota Jakarta",
          "Jawa Barat",
          "Jawa Barat",
          "Daerah Khusus Ibukota Jakarta",
          "Jawa Barat",
          "Daerah Khusus Ibukota Jakarta",
          "Jawa Barat",
          "Daerah Khusus Ibukota Jakarta",
          "Jawa Barat",
          "Daerah Khusus Ibukota Jakarta",
          "Daerah Khusus Ibukota Jakarta",
          "Jawa Barat",
          "Daerah Khusus Ibukota Jakarta",
          "Jawa Barat",
          "Bali",
          "Daerah Khusus Ibukota Jakarta",
          "Jawa Barat",
          "Jawa Barat",
          "Jawa Barat",
          "Jawa Barat",
          "Bali",
          "Jawa Barat",
          "Bali",
          "Daerah Khusus Ibukota Jakarta",
          "Jawa Barat",
          "Daerah Khusus Ibukota Jakarta",
          "Jawa Barat",
          "Bali",
          "Bali",
          "Daerah Khusus Ibukota Jakarta",
          "Jawa Barat",
          "Daerah Khusus Ibukota Jakarta",
          "Jawa Barat",
          "Bali",
          "Jawa Barat",
          "Jawa Barat",
          "Daerah Khusus Ibukota Jakarta",
          "Jawa Barat",
          "Bali",
          "Jawa Barat",
          "Daerah Khusus Ibukota Jakarta",
          "Bali",
          "Jawa Timur",
          "Bali",
          "Jawa Barat",
          "Daerah Khusus Ibukota Jakarta",
          "Bali",
          "Jawa Barat",
          "Daerah Khusus Ibukota Jakarta",
          "Bali",
          "Jawa Barat",
          "Bali",
          "Daerah Khusus Ibukota Jakarta",
          "Bali",
          "Jawa Barat",
          "Daerah Khusus Ibukota Jakarta",
          "Bali",
          "Bali",
          "Daerah Khusus Ibukota Jakarta",
          "Jawa Timur",
          "Bali",
          "Bali",
          "Jawa Barat",
          "Daerah Khusus Ibukota Jakarta",
          "Jawa Barat",
          "Jawa Barat",
          "Jawa Barat",
          "Bali",
          "Bali",
          "Jawa Barat",
          "Jawa Barat",
          "Bali",
          "Jawa Timur",
          "Jawa Barat",
          "Bali",
          "Jawa Timur",
          "Bali",
          "Jawa Barat",
          "Bali",
          "Jawa Barat",
          "Jawa Timur",
          "Bali",
          "Jawa Barat",
          "Bali",
          "Jawa Barat",
          "Jawa Barat",
          "Jawa Barat",
          "Jawa Barat",
          "Jawa Timur",
          "Daerah Khusus Ibukota Jakarta",
          "Daerah Khusus Ibukota Jakarta",
          "Bali",
          "Daerah Khusus Ibukota Jakarta",
          "Jawa Barat",
          "Daerah Khusus Ibukota Jakarta",
          "Jawa Barat",
          "Daerah Khusus Ibukota Jakarta",
          "Jawa Barat",
          "Jawa Barat",
          "Jawa Barat",
          "Jawa Barat",
          "Jawa Barat",
          "Bali",
          "Jawa Barat",
          "Daerah Khusus Ibukota Jakarta",
          "Bali",
          "Bali",
          "Jawa Barat",
          "Daerah Khusus Ibukota Jakarta",
          "Daerah Khusus Ibukota Jakarta",
          "Jawa Barat",
          "Daerah Khusus Ibukota Jakarta",
          "Jawa Timur",
          "Jawa Barat",
          "Daerah Khusus Ibukota Jakarta",
          "Jawa Barat",
          "Daerah Khusus Ibukota Jakarta",
          "Bali",
          "Daerah Khusus Ibukota Jakarta",
          "Bali",
          "Bali",
          "Bali",
          "Daerah Khusus Ibukota Jakarta",
          "Bali",
          "Daerah Khusus Ibukota Jakarta",
          "Bali",
          "Bali",
          "Daerah Khusus Ibukota Jakarta",
          "Bali",
          "Daerah Khusus Ibukota Jakarta",
          "Bali",
          "Bali",
          "Daerah Khusus Ibukota Jakarta",
          "Daerah Khusus Ibukota Jakarta",
          "Bali",
          "Daerah Khusus Ibukota Jakarta",
          "Daerah Khusus Ibukota Jakarta",
          "Daerah Khusus Ibukota Jakarta",
          "Bali",
          "Daerah Khusus Ibukota Jakarta",
          "Daerah Khusus Ibukota Jakarta",
          "Daerah Khusus Ibukota Jakarta",
          "Daerah Khusus Ibukota Jakarta",
          "Banten",
          "Daerah Khusus Ibukota Jakarta",
          "Daerah Khusus Ibukota Jakarta",
          "Jawa Barat",
          "Bali",
          "Daerah Khusus Ibukota Jakarta",
          "Jawa Barat",
          "Daerah Khusus Ibukota Jakarta",
          "Jawa Barat",
          "Jawa Barat",
          "Daerah Khusus Ibukota Jakarta",
          "Jawa Barat",
          "Bali",
          "Daerah Khusus Ibukota Jakarta",
          "Bali",
          "Bali",
          "Daerah Khusus Ibukota Jakarta",
          "Jawa Barat",
          "Daerah Khusus Ibukota Jakarta",
          "Jawa Barat",
          "Bali",
          "Daerah Khusus Ibukota Jakarta",
          "Bali",
          "Jawa Timur",
          "Daerah Khusus Ibukota Jakarta",
          "Jawa Barat",
          "Daerah Khusus Ibukota Jakarta",
          "Jawa Barat",
          "Daerah Khusus Ibukota Jakarta",
          "Bali",
          "Daerah Khusus Ibukota Jakarta",
          "Jawa Barat",
          "Bali",
          "Jawa Timur",
          "Daerah Khusus Ibukota Jakarta",
          "Jawa Barat",
          "Bali",
          "Jawa Timur",
          "Bali",
          "Jawa Barat",
          "Jawa Barat",
          "Jawa Barat",
          "Bali",
          "Jawa Timur",
          "Bali",
          "Jawa Barat",
          "Jawa Timur",
          "Jawa Barat",
          "Bali",
          "Daerah Khusus Ibukota Jakarta",
          "Jawa Barat",
          "Bali",
          "Daerah Khusus Ibukota Jakarta",
          "Daerah Khusus Ibukota Jakarta",
          "Jawa Timur",
          "Jawa Barat",
          "Daerah Khusus Ibukota Jakarta",
          "Bali",
          "Daerah Khusus Ibukota Jakarta",
          "Bali",
          "Daerah Khusus Ibukota Jakarta",
          "Jawa Barat",
          "Bali",
          "Daerah Khusus Ibukota Jakarta",
          "Jawa Barat",
          "Bali",
          "Jawa Barat",
          "Bali",
          "Daerah Khusus Ibukota Jakarta",
          "Bali",
          "Jawa Barat",
          "Daerah Khusus Ibukota Jakarta",
          "Daerah Khusus Ibukota Jakarta",
          "Jawa Barat",
          "Jawa Barat",
          "Daerah Khusus Ibukota Jakarta",
          "Jawa Barat",
          "Bali",
          "Daerah Khusus Ibukota Jakarta",
          "Daerah Khusus Ibukota Jakarta",
          "Jawa Timur",
          "Jawa Barat",
          "Bali",
          "Jawa Barat",
          "Daerah Khusus Ibukota Jakarta",
          "Jawa Barat",
          "Jawa Barat",
          "Bali",
          "Daerah Khusus Ibukota Jakarta",
          "Bali",
          "Daerah Khusus Ibukota Jakarta",
          "Bali",
          "Jawa Barat",
          "Jawa Timur",
          "Jawa Barat",
          "Jawa Barat",
          "Bali",
          "Jawa Barat",
          "Jawa Barat",
          "Jawa Barat",
          "Bali",
          "Jawa Barat",
          "Bali",
          "Jawa Barat",
          "Jawa Barat",
          "Jawa Barat",
          "Jawa Barat",
          "Jawa Barat",
          "Bali",
          "Jawa Timur",
          "Jawa Barat",
          "Jawa Barat",
          "Jawa Barat",
          "Bali",
          "Jawa Barat",
          "Jawa Barat",
          "Bali",
          "Jawa Barat",
          "Jawa Barat",
          "Jawa Barat",
          "Bali",
          "Jawa Barat",
          "Bali",
          "Daerah Khusus Ibukota Jakarta",
          "Jawa Barat",
          "Jawa Barat",
          "Bali",
          "Daerah Khusus Ibukota Jakarta",
          "Jawa Barat",
          "Daerah Khusus Ibukota Jakarta",
          "Jawa Barat",
          "Bali",
          "Bali",
          "Jawa Timur",
          "Jawa Barat",
          "Bali",
          "Jawa Timur",
          "Bali",
          "Jawa Barat",
          "Bali",
          "Bali",
          "Daerah Khusus Ibukota Jakarta",
          "Jawa Barat",
          "Daerah Khusus Ibukota Jakarta",
          "Banten",
          "Jawa Barat",
          "Daerah Khusus Ibukota Jakarta",
          "Jawa Barat",
          "Bali",
          "Daerah Khusus Ibukota Jakarta",
          "Bali",
          "Daerah Khusus Ibukota Jakarta",
          "Jawa Barat",
          "Bali",
          "Daerah Khusus Ibukota Jakarta",
          "Jawa Barat",
          "Bali",
          "Daerah Khusus Ibukota Jakarta",
          "Jawa Barat",
          "Jawa Timur",
          "Jawa Barat",
          "Daerah Khusus Ibukota Jakarta",
          "Jawa Barat",
          "Daerah Khusus Ibukota Jakarta",
          "Jawa Barat",
          "Bali",
          "Daerah Khusus Ibukota Jakarta",
          "Jawa Barat",
          "Daerah Khusus Ibukota Jakarta",
          "Daerah Khusus Ibukota Jakarta",
          "Jawa Barat",
          "Daerah Khusus Ibukota Jakarta",
          "Daerah Khusus Ibukota Jakarta",
          "Daerah Khusus Ibukota Jakarta",
          "Jawa Barat",
          "Daerah Khusus Ibukota Jakarta",
          "Bali",
          "Banten",
          "Daerah Khusus Ibukota Jakarta",
          "Bali",
          "Daerah Khusus Ibukota Jakarta",
          "Jawa Barat",
          "Jawa Timur",
          "Bali",
          "Daerah Khusus Ibukota Jakarta",
          "Bali",
          "Jawa Timur",
          "Daerah Khusus Ibukota Jakarta",
          "Bali",
          "Bali",
          "Daerah Khusus Ibukota Jakarta",
          "Bali",
          "Jawa Timur",
          "Daerah Khusus Ibukota Jakarta",
          "Bali",
          "Bali",
          "Jawa Timur",
          "Daerah Khusus Ibukota Jakarta",
          "Daerah Khusus Ibukota Jakarta",
          "Bali",
          "Bali",
          "Jawa Timur",
          "Daerah Khusus Ibukota Jakarta",
          "Daerah Khusus Ibukota Jakarta",
          "Jawa Barat",
          "Daerah Khusus Ibukota Jakarta",
          "Jawa Barat",
          "Bali",
          "Jawa Timur",
          "Jawa Barat",
          "Jawa Timur",
          "Bali",
          "Jawa Barat",
          "Bali",
          "Jawa Timur",
          "Bali",
          "Jawa Barat",
          "Bali",
          "Jawa Timur",
          "Bali",
          "Jawa Barat",
          "Jawa Barat",
          "Bali",
          "Jawa Timur",
          "Daerah Khusus Ibukota Jakarta",
          "Jawa Barat",
          "Bali",
          "Daerah Khusus Ibukota Jakarta",
          "Jawa Barat",
          "Bali",
          "Jawa Barat",
          "Jawa Barat",
          "Daerah Khusus Ibukota Jakarta",
          "Bali",
          "Jawa Barat",
          "Daerah Khusus Ibukota Jakarta",
          "Jawa Barat",
          "Daerah Khusus Ibukota Jakarta",
          "Bali",
          "Jawa Barat",
          "Daerah Khusus Ibukota Jakarta",
          "Jawa Barat",
          "Jawa Timur",
          "Jawa Barat",
          "Daerah Khusus Ibukota Jakarta",
          "Jawa Barat",
          "Jawa Barat",
          "Jawa Timur",
          "Jawa Timur",
          "Daerah Khusus Ibukota Jakarta",
          "Daerah Khusus Ibukota Jakarta",
          "Daerah Khusus Ibukota Jakarta",
          "Jawa Timur",
          "Bali",
          "Daerah Khusus Ibukota Jakarta",
          "Jawa Timur",
          "Jawa Timur",
          "Daerah Khusus Ibukota Jakarta",
          "Jawa Timur",
          "Bali",
          "Daerah Khusus Ibukota Jakarta",
          "Daerah Khusus Ibukota Jakarta",
          "Daerah Khusus Ibukota Jakarta",
          "Daerah Khusus Ibukota Jakarta",
          "Jawa Timur",
          "Daerah Khusus Ibukota Jakarta",
          "Daerah Khusus Ibukota Jakarta",
          "Bali",
          "Daerah Khusus Ibukota Jakarta",
          "Jawa Timur",
          "Banten",
          "Daerah Khusus Ibukota Jakarta",
          "Jawa Timur",
          "Daerah Khusus Ibukota Jakarta",
          "Bali",
          "Bali",
          "Jawa Barat",
          "Bali",
          "Daerah Khusus Ibukota Jakarta",
          "Daerah Khusus Ibukota Jakarta",
          "Jawa Barat",
          "Daerah Khusus Ibukota Jakarta",
          "Jawa Barat",
          "Jawa Barat",
          "Bali",
          "Daerah Khusus Ibukota Jakarta",
          "Jawa Barat",
          "Jawa Barat",
          "Daerah Khusus Ibukota Jakarta",
          "Bali",
          "Daerah Khusus Ibukota Jakarta",
          "Jawa Barat",
          "Daerah Khusus Ibukota Jakarta",
          "Jawa Barat",
          "Jawa Barat",
          "Jawa Timur",
          "Daerah Khusus Ibukota Jakarta",
          "Bali",
          "Jawa Barat",
          "Bali",
          "Bali",
          "Jawa Barat",
          "Jawa Timur",
          "Bali",
          "Bali",
          "Jawa Barat",
          "Daerah Khusus Ibukota Jakarta",
          "Bali",
          "Bali",
          "Jawa Barat",
          "Daerah Khusus Ibukota Jakarta",
          "Bali",
          "Bali",
          "Jawa Barat",
          "Bali",
          "Bali",
          "Daerah Khusus Ibukota Jakarta",
          "Jawa Barat",
          "Jawa Barat",
          "Jawa Timur",
          "Jawa Barat",
          "Jawa Barat",
          "Jawa Barat",
          "Jawa Barat",
          "Jawa Timur",
          "Jawa Barat",
          "Jawa Barat",
          "Jawa Timur",
          "Jawa Barat",
          "Jawa Barat",
          "Jawa Barat",
          "Jawa Timur",
          "Jawa Barat",
          "Jawa Barat",
          "Jawa Timur",
          "Jawa Barat",
          "Jawa Timur",
          "Jawa Barat",
          "Jawa Barat",
          "Jawa Timur",
          "Jawa Timur",
          "Jawa Barat",
          "Jawa Barat",
          "Jawa Timur",
          "Jawa Timur",
          "Jawa Barat",
          "Daerah Khusus Ibukota Jakarta",
          "Jawa Barat",
          "Jawa Timur",
          "Daerah Khusus Ibukota Jakarta",
          "Jawa Barat",
          "Jawa Barat",
          "Jawa Timur",
          "Jawa Timur",
          "Jawa Barat",
          "Daerah Khusus Ibukota Jakarta",
          "Jawa Barat",
          "Jawa Timur",
          "Daerah Khusus Ibukota Jakarta",
          "Jawa Timur",
          "Jawa Barat",
          "Daerah Khusus Ibukota Jakarta",
          "Daerah Khusus Ibukota Jakarta",
          "Bali",
          "Daerah Khusus Ibukota Jakarta",
          "Daerah Khusus Ibukota Jakarta",
          "Bali",
          "Jawa Timur",
          "Jawa Timur",
          "Daerah Khusus Ibukota Jakarta",
          "Daerah Khusus Ibukota Jakarta",
          "Jawa Timur",
          "Bali",
          "Jawa Timur",
          "Daerah Khusus Ibukota Jakarta",
          "Bali",
          "Jawa Timur",
          "Bali",
          "Jawa Timur",
          "Daerah Khusus Ibukota Jakarta",
          "Bali",
          "Jawa Timur",
          "Jawa Timur",
          "Daerah Khusus Ibukota Jakarta",
          "Bali",
          "Bali",
          "Daerah Khusus Ibukota Jakarta",
          "Bali",
          "Jawa Timur",
          "Bali",
          "Daerah Khusus Ibukota Jakarta",
          "Bali",
          "Bali",
          "Bali",
          "Daerah Khusus Ibukota Jakarta",
          "Bali",
          "Jawa Timur",
          "Jawa Barat",
          "Bali",
          "Jawa Timur",
          "Jawa Barat",
          "Bali",
          "Jawa Barat",
          "Jawa Barat",
          "Jawa Barat",
          "Jawa Barat",
          "Daerah Khusus Ibukota Jakarta",
          "Jawa Barat",
          "Jawa Barat",
          "Daerah Khusus Ibukota Jakarta",
          "Jawa Barat",
          "Jawa Barat",
          "Daerah Khusus Ibukota Jakarta",
          "Daerah Khusus Ibukota Jakarta",
          "Jawa Barat",
          "Daerah Khusus Ibukota Jakarta",
          "Jawa Barat",
          "Daerah Khusus Ibukota Jakarta",
          "Jawa Barat",
          "Jawa Barat",
          "Jawa Barat",
          "Jawa Barat",
          "Daerah Khusus Ibukota Jakarta",
          "Jawa Barat",
          "Daerah Khusus Ibukota Jakarta",
          "Jawa Barat",
          "Jawa Barat",
          "Jawa Barat",
          "Bali",
          "Jawa Barat",
          "Daerah Khusus Ibukota Jakarta",
          "Jawa Barat",
          "Bali",
          "Jawa Barat",
          "Bali",
          "Daerah Khusus Ibukota Jakarta",
          "Jawa Barat",
          "Bali",
          "Bali",
          "Jawa Barat",
          "Daerah Khusus Ibukota Jakarta",
          "Bali",
          "Jawa Barat",
          "Daerah Khusus Ibukota Jakarta",
          "Jawa Timur",
          "Jawa Timur",
          "Jawa Barat",
          "Bali",
          "Jawa Timur",
          "Bali",
          "Jawa Timur",
          "Bali",
          "Bali",
          "Jawa Timur",
          "Bali",
          "Jawa Timur",
          "Jawa Timur",
          "Nusa Tenggara Barat",
          "Jawa Timur",
          "Nusa Tenggara Barat",
          "Nusa Tenggara Barat",
          "Jawa Timur",
          "Nusa Tenggara Barat",
          "Nusa Tenggara Barat",
          "Nusa Tenggara Barat",
          "Nusa Tenggara Barat",
          "Jawa Timur",
          "Nusa Tenggara Barat",
          "Nusa Tenggara Barat",
          "Nusa Tenggara Barat",
          "Nusa Tenggara Barat",
          "Nusa Tenggara Barat",
          "Nusa Tenggara Barat",
          "Jawa Timur",
          "Nusa Tenggara Barat",
          "Nusa Tenggara Barat",
          "Jawa Timur",
          "Nusa Tenggara Barat",
          "Jawa Timur",
          "Nusa Tenggara Barat",
          "Nusa Tenggara Barat",
          "Nusa Tenggara Barat",
          "Nusa Tenggara Barat",
          "Nusa Tenggara Barat",
          "Nusa Tenggara Barat",
          "Jawa Tengah",
          "Jawa Tengah",
          "Jawa Tengah",
          "Jawa Tengah",
          "Jawa Tengah",
          "Jawa Tengah",
          "Jawa Tengah",
          "Jawa Tengah",
          "Jawa Tengah",
          "Jawa Timur",
          "Nusa Tenggara Barat",
          "Nusa Tenggara Barat",
          "Nusa Tenggara Barat",
          "Nusa Tenggara Barat",
          "Jawa Timur",
          "Nusa Tenggara Barat",
          "Jawa Timur",
          "Nusa Tenggara Barat",
          "Nusa Tenggara Barat",
          "Nusa Tenggara Barat",
          "Nusa Tenggara Barat",
          "Jawa Timur",
          "Jawa Timur",
          "Jawa Timur",
          "Nusa Tenggara Barat",
          "Nusa Tenggara Barat",
          "Nusa Tenggara Barat",
          "Nusa Tenggara Barat",
          "Nusa Tenggara Barat",
          "Nusa Tenggara Barat",
          "Nusa Tenggara Barat",
          "Nusa Tenggara Barat",
          "Nusa Tenggara Barat",
          "Jawa Timur",
          "Jawa Tengah",
          "Jawa Tengah",
          "Jawa Tengah",
          "Jawa Tengah",
          "Jawa Tengah",
          "Jawa Tengah",
          "Jawa Tengah",
          "Jawa Timur",
          "Nusa Tenggara Barat",
          "Nusa Tenggara Barat",
          "Nusa Tenggara Barat",
          "Jawa Timur",
          "Jawa Timur",
          "Jawa Timur",
          "Nusa Tenggara Barat",
          "Nusa Tenggara Barat",
          "Nusa Tenggara Barat",
          "Nusa Tenggara Barat",
          "Jawa Timur",
          "Jawa Timur",
          "Jawa Tengah",
          "Jawa Timur",
          "Jawa Tengah",
          "Jawa Tengah",
          "Jawa Tengah",
          "Jawa Tengah",
          "Jawa Tengah",
          "Jawa Timur",
          "Jawa Timur",
          "Jawa Tengah",
          "Jawa Tengah",
          "Jawa Tengah",
          "Jawa Tengah",
          "Jawa Tengah",
          "Nusa Tenggara Barat",
          "Nusa Tenggara Barat",
          "Jawa Timur",
          "Bali",
          "Bali",
          "Bali",
          "Jawa Barat",
          "Bali",
          "Jawa Barat",
          "Jawa Barat",
          "Jawa Barat",
          "Jawa Barat",
          "Jawa Barat",
          "Bali",
          "Jawa Barat",
          "Bali",
          "Daerah Khusus Ibukota Jakarta",
          "Jawa Timur",
          "Jawa Barat",
          "Daerah Khusus Ibukota Jakarta",
          "Jawa Barat",
          "Bali",
          "Daerah Khusus Ibukota Jakarta",
          "Bali",
          "Daerah Khusus Ibukota Jakarta",
          "Bali",
          "Daerah Khusus Ibukota Jakarta",
          "Jawa Timur",
          "Bali",
          "Jawa Timur",
          "Jawa Barat",
          "Bali",
          "Daerah Khusus Ibukota Jakarta",
          "Bali",
          "Daerah Khusus Ibukota Jakarta",
          "Bali",
          "Daerah Khusus Ibukota Jakarta",
          "Bali",
          "Daerah Khusus Ibukota Jakarta",
          "Bali",
          "Daerah Khusus Ibukota Jakarta",
          "Bali",
          "Jawa Barat",
          "Jawa Barat",
          "Jawa Barat",
          "Daerah Khusus Ibukota Jakarta",
          "Daerah Khusus Ibukota Jakarta",
          "Jawa Barat",
          "Daerah Khusus Ibukota Jakarta",
          "Daerah Khusus Ibukota Jakarta",
          "Jawa Barat",
          "Daerah Khusus Ibukota Jakarta",
          "Daerah Khusus Ibukota Jakarta",
          "Jawa Barat",
          "Daerah Khusus Ibukota Jakarta",
          "Daerah Khusus Ibukota Jakarta",
          "Jawa Barat",
          "Daerah Khusus Ibukota Jakarta",
          "Daerah Khusus Ibukota Jakarta",
          "Daerah Khusus Ibukota Jakarta",
          "Bali",
          "Jawa Barat",
          "Bali",
          "Jawa Barat",
          "Jawa Timur",
          "Daerah Khusus Ibukota Jakarta",
          "Bali",
          "Daerah Khusus Ibukota Jakarta",
          "Daerah Khusus Ibukota Jakarta",
          "Daerah Khusus Ibukota Jakarta",
          "Daerah Khusus Ibukota Jakarta",
          "Bali",
          "Daerah Khusus Ibukota Jakarta",
          "Daerah Khusus Ibukota Jakarta",
          "Daerah Khusus Ibukota Jakarta",
          "Daerah Khusus Ibukota Jakarta",
          "Bali",
          "Daerah Khusus Ibukota Jakarta",
          "Bali",
          "Daerah Khusus Ibukota Jakarta",
          "Daerah Khusus Ibukota Jakarta",
          "Daerah Khusus Ibukota Jakarta",
          "Daerah Khusus Ibukota Jakarta",
          "Daerah Khusus Ibukota Jakarta",
          "Daerah Khusus Ibukota Jakarta",
          "Daerah Khusus Ibukota Jakarta",
          "Daerah Khusus Ibukota Jakarta",
          "Daerah Khusus Ibukota Jakarta",
          "Bali",
          "Bali",
          "Daerah Khusus Ibukota Jakarta",
          "Bali",
          "Bali",
          "Daerah Khusus Ibukota Jakarta",
          "Bali",
          "Bali",
          "Daerah Khusus Ibukota Jakarta",
          "Bali",
          "Daerah Khusus Ibukota Jakarta",
          "Daerah Khusus Ibukota Jakarta",
          "Bali",
          "Daerah Khusus Ibukota Jakarta",
          "Bali",
          "Jawa Barat",
          "Bali",
          "Jawa Barat",
          "Jawa Barat",
          "Bali",
          "Bali",
          "Bali",
          "Bali",
          "Daerah Khusus Ibukota Jakarta",
          "Bali",
          "Bali",
          "Bali",
          "Bali",
          "Bali",
          "Jawa Barat",
          "Daerah Khusus Ibukota Jakarta",
          "Bali",
          "Bali",
          "Jawa Barat",
          "Bali",
          "Bali",
          "Daerah Khusus Ibukota Jakarta",
          "Bali",
          "Daerah Khusus Ibukota Jakarta",
          "Daerah Khusus Ibukota Jakarta",
          "Bali",
          "Bali",
          "Daerah Khusus Ibukota Jakarta",
          "Daerah Khusus Ibukota Jakarta",
          "Bali",
          "Bali",
          "Jawa Barat",
          "Daerah Khusus Ibukota Jakarta",
          "Bali",
          "Bali",
          "Daerah Khusus Ibukota Jakarta",
          "Bali",
          "Bali",
          "Daerah Khusus Ibukota Jakarta",
          "Daerah Khusus Ibukota Jakarta",
          "Daerah Khusus Ibukota Jakarta",
          "Daerah Khusus Ibukota Jakarta",
          "Jawa Barat",
          "Daerah Khusus Ibukota Jakarta",
          "Daerah Khusus Ibukota Jakarta",
          "Daerah Khusus Ibukota Jakarta",
          "Bali",
          "Daerah Khusus Ibukota Jakarta",
          "Daerah Khusus Ibukota Jakarta",
          "Daerah Khusus Ibukota Jakarta",
          "Bali",
          "Daerah Khusus Ibukota Jakarta",
          "Bali",
          "Bali",
          "Daerah Khusus Ibukota Jakarta",
          "Daerah Khusus Ibukota Jakarta",
          "Bali",
          "Bali",
          "Bali",
          "Daerah Khusus Ibukota Jakarta",
          "Bali",
          "Bali",
          "Daerah Khusus Ibukota Jakarta",
          "Bali",
          "Daerah Khusus Ibukota Jakarta",
          "Bali",
          "Jawa Barat",
          "Daerah Khusus Ibukota Jakarta",
          "Daerah Khusus Ibukota Jakarta",
          "Daerah Khusus Ibukota Jakarta",
          "Bali",
          "Daerah Khusus Ibukota Jakarta",
          "Bali",
          "Daerah Khusus Ibukota Jakarta",
          "Bali",
          "Jawa Barat",
          "Daerah Khusus Ibukota Jakarta",
          "Daerah Khusus Ibukota Jakarta",
          "Jawa Timur",
          "Jawa Barat",
          "Daerah Khusus Ibukota Jakarta",
          "Daerah Khusus Ibukota Jakarta",
          "Bali",
          "Jawa Barat",
          "Daerah Khusus Ibukota Jakarta",
          "Bali",
          "Daerah Khusus Ibukota Jakarta",
          "Jawa Barat",
          "Daerah Khusus Ibukota Jakarta",
          "Bali",
          "Daerah Khusus Ibukota Jakarta",
          "Jawa Timur",
          "Bali",
          "Jawa Barat",
          "Bali",
          "Jawa Timur",
          "Daerah Khusus Ibukota Jakarta",
          "Bali",
          "Jawa Timur",
          "Bali",
          "Daerah Khusus Ibukota Jakarta",
          "Bali",
          "Bali",
          "Jawa Barat",
          "Jawa Barat",
          "Jawa Timur",
          "Jawa Timur",
          "Bali",
          "Jawa Timur",
          "Bali",
          "Bali",
          "Bali",
          "Bali",
          "Jawa Barat",
          "Jawa Barat",
          "Bali",
          "Daerah Khusus Ibukota Jakarta",
          "Daerah Khusus Ibukota Jakarta",
          "Daerah Khusus Ibukota Jakarta",
          "Bali",
          "Daerah Khusus Ibukota Jakarta",
          "Jawa Timur",
          "Daerah Khusus Ibukota Jakarta",
          "Daerah Khusus Ibukota Jakarta",
          "Daerah Khusus Ibukota Jakarta",
          "Jawa Barat",
          "Bali",
          "Bali",
          "Jawa Barat",
          "Bali",
          "Daerah Khusus Ibukota Jakarta",
          "Jawa Barat",
          "Daerah Khusus Ibukota Jakarta",
          "Jawa Barat",
          "Bali",
          "Daerah Khusus Ibukota Jakarta",
          "Jawa Barat",
          "Daerah Khusus Ibukota Jakarta",
          "Bali",
          "Daerah Khusus Ibukota Jakarta",
          "Jawa Barat",
          "Bali",
          "Bali",
          "Jawa Barat",
          "Jawa Barat",
          "Jawa Timur",
          "Jawa Barat",
          "Bali",
          "Jawa Barat",
          "Bali",
          "Daerah Khusus Ibukota Jakarta",
          "Bali",
          "Jawa Barat",
          "Jawa Barat",
          "Daerah Khusus Ibukota Jakarta",
          "Jawa Barat",
          "Daerah Khusus Ibukota Jakarta",
          "Daerah Khusus Ibukota Jakarta",
          "Daerah Khusus Ibukota Jakarta",
          "Jawa Barat",
          "Jawa Barat",
          "Daerah Khusus Ibukota Jakarta",
          "Daerah Khusus Ibukota Jakarta",
          "Daerah Khusus Ibukota Jakarta",
          "Jawa Barat",
          "Daerah Khusus Ibukota Jakarta",
          "Daerah Khusus Ibukota Jakarta",
          "Jawa Barat",
          "Jawa Barat",
          "Daerah Khusus Ibukota Jakarta",
          "Bali",
          "Daerah Khusus Ibukota Jakarta",
          "Bali",
          "Daerah Khusus Ibukota Jakarta",
          "Bali",
          "Daerah Khusus Ibukota Jakarta",
          "Bali",
          "Daerah Khusus Ibukota Jakarta",
          "Daerah Khusus Ibukota Jakarta",
          "Daerah Khusus Ibukota Jakarta",
          "Daerah Khusus Ibukota Jakarta",
          "Daerah Khusus Ibukota Jakarta",
          "Bali",
          "Daerah Khusus Ibukota Jakarta",
          "Bali",
          "Daerah Khusus Ibukota Jakarta",
          "Daerah Khusus Ibukota Jakarta",
          "Bali",
          "Daerah Khusus Ibukota Jakarta",
          "Bali",
          "Daerah Khusus Ibukota Jakarta",
          "Daerah Khusus Ibukota Jakarta",
          "Bali",
          "Daerah Khusus Ibukota Jakarta",
          "Jawa Barat",
          "Daerah Khusus Ibukota Jakarta",
          "Jawa Barat",
          "Daerah Khusus Ibukota Jakarta",
          "Bali",
          "Daerah Khusus Ibukota Jakarta",
          "Jawa Barat",
          "Daerah Khusus Ibukota Jakarta",
          "Bali",
          "Bali",
          "Bali",
          "Bali",
          "Jawa Timur",
          "Bali",
          "Jawa Barat",
          "Bali",
          "Jawa Barat",
          "Bali",
          "Bali",
          "Bali",
          "Bali",
          "Jawa Barat",
          "Jawa Timur",
          "Bali",
          "Bali",
          "Jawa Barat",
          "Bali",
          "Bali",
          "Jawa Barat",
          "Daerah Khusus Ibukota Jakarta",
          "Bali",
          "Bali",
          "Bali",
          "Jawa Timur",
          "Daerah Khusus Ibukota Jakarta",
          "Jawa Barat",
          "Daerah Khusus Ibukota Jakarta",
          "Jawa Barat",
          "Daerah Khusus Ibukota Jakarta",
          "Jawa Barat",
          "Jawa Barat",
          "Daerah Khusus Ibukota Jakarta",
          "Daerah Khusus Ibukota Jakarta",
          "Jawa Timur",
          "Daerah Khusus Ibukota Jakarta",
          "Jawa Barat",
          "Daerah Khusus Ibukota Jakarta",
          "Jawa Timur",
          "Bali",
          "Jawa Barat",
          "Daerah Khusus Ibukota Jakarta",
          "Bali",
          "Bali",
          "Jawa Barat",
          "Jawa Timur",
          "Bali",
          "Bali",
          "Jawa Timur",
          "Bali",
          "Bali",
          "Jawa Barat",
          "Jawa Barat",
          "Daerah Khusus Ibukota Jakarta",
          "Jawa Barat",
          "Jawa Barat",
          "Jawa Timur",
          "Jawa Barat",
          "Daerah Khusus Ibukota Jakarta",
          "Daerah Khusus Ibukota Jakarta",
          "Daerah Khusus Ibukota Jakarta",
          "Bali",
          "Jawa Barat",
          "Daerah Khusus Ibukota Jakarta",
          "Bali",
          "Daerah Khusus Ibukota Jakarta",
          "Bali",
          "Daerah Khusus Ibukota Jakarta",
          "Bali",
          "Bali",
          "Daerah Khusus Ibukota Jakarta",
          "Bali",
          "Daerah Khusus Ibukota Jakarta",
          "Daerah Khusus Ibukota Jakarta",
          "Bali",
          "Daerah Khusus Ibukota Jakarta",
          "Bali",
          "Daerah Khusus Ibukota Jakarta",
          "Jawa Barat",
          "Bali",
          "Daerah Khusus Ibukota Jakarta",
          "Jawa Barat",
          "Daerah Khusus Ibukota Jakarta",
          "Jawa Barat",
          "Daerah Khusus Ibukota Jakarta",
          "Jawa Barat",
          "Jawa Barat",
          "Jawa Barat",
          "Jawa Barat",
          "Daerah Khusus Ibukota Jakarta",
          "Jawa Barat",
          "Daerah Khusus Ibukota Jakarta",
          "Daerah Khusus Ibukota Jakarta",
          "Daerah Khusus Ibukota Jakarta",
          "Daerah Khusus Ibukota Jakarta",
          "Daerah Khusus Ibukota Jakarta",
          "Daerah Khusus Ibukota Jakarta",
          "Daerah Khusus Ibukota Jakarta",
          "Daerah Khusus Ibukota Jakarta",
          "Daerah Khusus Ibukota Jakarta",
          "Bali",
          "Daerah Khusus Ibukota Jakarta",
          "Bali",
          "Daerah Khusus Ibukota Jakarta",
          "Bali",
          "Daerah Khusus Ibukota Jakarta",
          "Daerah Khusus Ibukota Jakarta",
          "Bali",
          "Bali",
          "Bali",
          "Bali",
          "Bali",
          "Bali",
          "Jawa Barat",
          "Bali",
          "Bali",
          "Bali",
          "Bali",
          "Daerah Khusus Ibukota Jakarta",
          "Bali",
          "Bali",
          "Bali",
          "Bali",
          "Jawa Barat",
          "Daerah Khusus Ibukota Jakarta",
          "Bali",
          "Bali",
          "Daerah Khusus Ibukota Jakarta",
          "Bali",
          "Bali",
          "Daerah Khusus Ibukota Jakarta",
          "Bali",
          "Bali",
          "Bali",
          "Bali",
          "Bali",
          "Bali",
          "Daerah Khusus Ibukota Jakarta",
          "Bali",
          "Daerah Khusus Ibukota Jakarta",
          "Bali",
          "Bali",
          "Bali",
          "Bali",
          "Bali",
          "Bali",
          "Bali",
          "Jawa Barat",
          "Bali",
          "Bali",
          "Bali",
          "Bali",
          "Jawa Barat",
          "Daerah Khusus Ibukota Jakarta",
          "Bali",
          "Daerah Khusus Ibukota Jakarta",
          "Bali",
          "Daerah Khusus Ibukota Jakarta",
          "Bali",
          "Daerah Khusus Ibukota Jakarta",
          "Bali",
          "Daerah Khusus Ibukota Jakarta",
          "Jawa Barat",
          "Bali",
          "Daerah Khusus Ibukota Jakarta",
          "Bali",
          "Daerah Khusus Ibukota Jakarta",
          "Daerah Khusus Ibukota Jakarta",
          "Daerah Khusus Ibukota Jakarta",
          "Bali",
          "Daerah Khusus Ibukota Jakarta",
          "Daerah Khusus Ibukota Jakarta",
          "Bali",
          "Daerah Khusus Ibukota Jakarta",
          "Daerah Khusus Ibukota Jakarta",
          "Bali",
          "Bali",
          "Jawa Barat",
          "Daerah Khusus Ibukota Jakarta",
          "Bali",
          "Daerah Khusus Ibukota Jakarta",
          "Jawa Barat",
          "Daerah Khusus Ibukota Jakarta",
          "Bali",
          "Jawa Barat",
          "Daerah Khusus Ibukota Jakarta",
          "Bali",
          "Jawa Barat",
          "Daerah Khusus Ibukota Jakarta",
          "Jawa Barat",
          "Bali",
          "Bali",
          "Bali",
          "Bali",
          "Bali",
          "Bali",
          "Bali",
          "Daerah Khusus Ibukota Jakarta",
          "Jawa Barat",
          "Jawa Barat",
          "Daerah Khusus Ibukota Jakarta",
          "Daerah Istimewa Yogyakarta",
          "Daerah Istimewa Yogyakarta",
          "Bali",
          "Bali",
          "Daerah Istimewa Yogyakarta",
          "Bali",
          "Daerah Istimewa Yogyakarta",
          "Bali",
          "Daerah Istimewa Yogyakarta",
          "Daerah Khusus Ibukota Jakarta",
          "Daerah Istimewa Yogyakarta",
          "Daerah Istimewa Yogyakarta",
          "Daerah Istimewa Yogyakarta",
          "Daerah Istimewa Yogyakarta",
          "Daerah Istimewa Yogyakarta",
          "Bali",
          "Daerah Istimewa Yogyakarta",
          "Bali",
          "Daerah Khusus Ibukota Jakarta",
          "Daerah Khusus Ibukota Jakarta",
          "Daerah Istimewa Yogyakarta",
          "Bali",
          "Bali",
          "Bali",
          "Daerah Istimewa Yogyakarta",
          "Bali",
          "Daerah Istimewa Yogyakarta",
          "Bali",
          "Daerah Istimewa Yogyakarta",
          "Daerah Istimewa Yogyakarta",
          "Daerah Istimewa Yogyakarta",
          "Daerah Istimewa Yogyakarta",
          "Daerah Istimewa Yogyakarta",
          "Daerah Istimewa Yogyakarta",
          "Bali",
          "Daerah Khusus Ibukota Jakarta",
          "Daerah Istimewa Yogyakarta",
          "Bali",
          "Daerah Istimewa Yogyakarta",
          "Daerah Istimewa Yogyakarta",
          "Daerah Istimewa Yogyakarta",
          "Daerah Istimewa Yogyakarta",
          "Bali",
          "Daerah Istimewa Yogyakarta",
          "Daerah Istimewa Yogyakarta",
          "Daerah Istimewa Yogyakarta",
          "Daerah Istimewa Yogyakarta",
          "Daerah Istimewa Yogyakarta",
          "Daerah Istimewa Yogyakarta",
          "Daerah Istimewa Yogyakarta",
          "Daerah Khusus Ibukota Jakarta",
          "Bali",
          "Bali",
          "Daerah Istimewa Yogyakarta",
          "Bali",
          "Daerah Istimewa Yogyakarta",
          "Daerah Khusus Ibukota Jakarta",
          "Daerah Istimewa Yogyakarta",
          "Daerah Istimewa Yogyakarta",
          "Daerah Istimewa Yogyakarta",
          "Daerah Istimewa Yogyakarta",
          "Daerah Istimewa Yogyakarta",
          "Daerah Istimewa Yogyakarta",
          "Daerah Istimewa Yogyakarta",
          "Daerah Istimewa Yogyakarta",
          "Daerah Istimewa Yogyakarta",
          "Bali",
          "Bali",
          "Bali",
          "Bali",
          "Bali",
          "Bali",
          "Bali",
          "Bali",
          "Bali",
          "Bali",
          "Bali",
          "Bali",
          "Bali",
          "Bali",
          "Bali",
          "Daerah Khusus Ibukota Jakarta",
          "Bali",
          "Daerah Khusus Ibukota Jakarta",
          "Bali",
          "Bali",
          "Bali",
          "Daerah Khusus Ibukota Jakarta",
          "Bali",
          "Bali",
          "Bali",
          "Bali",
          "Bali",
          "Bali",
          "Bali",
          "Bali",
          "Bali",
          "Daerah Khusus Ibukota Jakarta",
          "Bali",
          "Bali",
          "Daerah Istimewa Yogyakarta",
          "Bali",
          "Jawa Barat",
          "Jawa Barat",
          "Jawa Barat",
          "Jawa Barat",
          "Jawa Barat",
          "Jawa Barat",
          "Jawa Barat",
          "Jawa Barat",
          "Jawa Barat",
          "Jawa Barat",
          "Jawa Barat",
          "Jawa Barat",
          "Jawa Barat",
          "Jawa Barat",
          "Jawa Barat",
          "Jawa Barat",
          "Jawa Barat",
          "Jawa Barat",
          "Jawa Barat",
          "Jawa Barat",
          "Jawa Barat",
          "Jawa Barat",
          "Jawa Barat",
          "Jawa Barat",
          "Jawa Barat",
          "Jawa Barat",
          "Jawa Barat",
          "Jawa Barat",
          "Jawa Barat",
          "Jawa Barat",
          "Jawa Barat",
          "Jawa Barat",
          "Jawa Barat",
          "Jawa Barat",
          "Jawa Barat",
          "Jawa Barat",
          "Jawa Barat",
          "Jawa Barat",
          "Jawa Barat",
          "Jawa Barat",
          "Jawa Barat",
          "Jawa Barat",
          "Jawa Barat",
          "Jawa Barat",
          "Jawa Barat",
          "Jawa Barat",
          "Jawa Barat",
          "Jawa Barat",
          "Jawa Barat",
          "Jawa Barat",
          "Jawa Barat",
          "Jawa Barat",
          "Jawa Barat",
          "Jawa Barat",
          "Jawa Barat",
          "Jawa Barat",
          "Jawa Barat",
          "Jawa Barat",
          "Jawa Barat",
          "Jawa Barat",
          "Jawa Barat",
          "Jawa Barat",
          "Jawa Barat"
         ],
         "xaxis": "x",
         "yaxis": "y"
        }
       ],
       "layout": {
        "barmode": "relative",
        "height": 400,
        "legend": {
         "tracegroupgap": 0
        },
        "margin": {
         "t": 60
        },
        "template": {
         "data": {
          "bar": [
           {
            "error_x": {
             "color": "#2a3f5f"
            },
            "error_y": {
             "color": "#2a3f5f"
            },
            "marker": {
             "line": {
              "color": "#E5ECF6",
              "width": 0.5
             },
             "pattern": {
              "fillmode": "overlay",
              "size": 10,
              "solidity": 0.2
             }
            },
            "type": "bar"
           }
          ],
          "barpolar": [
           {
            "marker": {
             "line": {
              "color": "#E5ECF6",
              "width": 0.5
             },
             "pattern": {
              "fillmode": "overlay",
              "size": 10,
              "solidity": 0.2
             }
            },
            "type": "barpolar"
           }
          ],
          "carpet": [
           {
            "aaxis": {
             "endlinecolor": "#2a3f5f",
             "gridcolor": "white",
             "linecolor": "white",
             "minorgridcolor": "white",
             "startlinecolor": "#2a3f5f"
            },
            "baxis": {
             "endlinecolor": "#2a3f5f",
             "gridcolor": "white",
             "linecolor": "white",
             "minorgridcolor": "white",
             "startlinecolor": "#2a3f5f"
            },
            "type": "carpet"
           }
          ],
          "choropleth": [
           {
            "colorbar": {
             "outlinewidth": 0,
             "ticks": ""
            },
            "type": "choropleth"
           }
          ],
          "contour": [
           {
            "colorbar": {
             "outlinewidth": 0,
             "ticks": ""
            },
            "colorscale": [
             [
              0,
              "#0d0887"
             ],
             [
              0.1111111111111111,
              "#46039f"
             ],
             [
              0.2222222222222222,
              "#7201a8"
             ],
             [
              0.3333333333333333,
              "#9c179e"
             ],
             [
              0.4444444444444444,
              "#bd3786"
             ],
             [
              0.5555555555555556,
              "#d8576b"
             ],
             [
              0.6666666666666666,
              "#ed7953"
             ],
             [
              0.7777777777777778,
              "#fb9f3a"
             ],
             [
              0.8888888888888888,
              "#fdca26"
             ],
             [
              1,
              "#f0f921"
             ]
            ],
            "type": "contour"
           }
          ],
          "contourcarpet": [
           {
            "colorbar": {
             "outlinewidth": 0,
             "ticks": ""
            },
            "type": "contourcarpet"
           }
          ],
          "heatmap": [
           {
            "colorbar": {
             "outlinewidth": 0,
             "ticks": ""
            },
            "colorscale": [
             [
              0,
              "#0d0887"
             ],
             [
              0.1111111111111111,
              "#46039f"
             ],
             [
              0.2222222222222222,
              "#7201a8"
             ],
             [
              0.3333333333333333,
              "#9c179e"
             ],
             [
              0.4444444444444444,
              "#bd3786"
             ],
             [
              0.5555555555555556,
              "#d8576b"
             ],
             [
              0.6666666666666666,
              "#ed7953"
             ],
             [
              0.7777777777777778,
              "#fb9f3a"
             ],
             [
              0.8888888888888888,
              "#fdca26"
             ],
             [
              1,
              "#f0f921"
             ]
            ],
            "type": "heatmap"
           }
          ],
          "heatmapgl": [
           {
            "colorbar": {
             "outlinewidth": 0,
             "ticks": ""
            },
            "colorscale": [
             [
              0,
              "#0d0887"
             ],
             [
              0.1111111111111111,
              "#46039f"
             ],
             [
              0.2222222222222222,
              "#7201a8"
             ],
             [
              0.3333333333333333,
              "#9c179e"
             ],
             [
              0.4444444444444444,
              "#bd3786"
             ],
             [
              0.5555555555555556,
              "#d8576b"
             ],
             [
              0.6666666666666666,
              "#ed7953"
             ],
             [
              0.7777777777777778,
              "#fb9f3a"
             ],
             [
              0.8888888888888888,
              "#fdca26"
             ],
             [
              1,
              "#f0f921"
             ]
            ],
            "type": "heatmapgl"
           }
          ],
          "histogram": [
           {
            "marker": {
             "pattern": {
              "fillmode": "overlay",
              "size": 10,
              "solidity": 0.2
             }
            },
            "type": "histogram"
           }
          ],
          "histogram2d": [
           {
            "colorbar": {
             "outlinewidth": 0,
             "ticks": ""
            },
            "colorscale": [
             [
              0,
              "#0d0887"
             ],
             [
              0.1111111111111111,
              "#46039f"
             ],
             [
              0.2222222222222222,
              "#7201a8"
             ],
             [
              0.3333333333333333,
              "#9c179e"
             ],
             [
              0.4444444444444444,
              "#bd3786"
             ],
             [
              0.5555555555555556,
              "#d8576b"
             ],
             [
              0.6666666666666666,
              "#ed7953"
             ],
             [
              0.7777777777777778,
              "#fb9f3a"
             ],
             [
              0.8888888888888888,
              "#fdca26"
             ],
             [
              1,
              "#f0f921"
             ]
            ],
            "type": "histogram2d"
           }
          ],
          "histogram2dcontour": [
           {
            "colorbar": {
             "outlinewidth": 0,
             "ticks": ""
            },
            "colorscale": [
             [
              0,
              "#0d0887"
             ],
             [
              0.1111111111111111,
              "#46039f"
             ],
             [
              0.2222222222222222,
              "#7201a8"
             ],
             [
              0.3333333333333333,
              "#9c179e"
             ],
             [
              0.4444444444444444,
              "#bd3786"
             ],
             [
              0.5555555555555556,
              "#d8576b"
             ],
             [
              0.6666666666666666,
              "#ed7953"
             ],
             [
              0.7777777777777778,
              "#fb9f3a"
             ],
             [
              0.8888888888888888,
              "#fdca26"
             ],
             [
              1,
              "#f0f921"
             ]
            ],
            "type": "histogram2dcontour"
           }
          ],
          "mesh3d": [
           {
            "colorbar": {
             "outlinewidth": 0,
             "ticks": ""
            },
            "type": "mesh3d"
           }
          ],
          "parcoords": [
           {
            "line": {
             "colorbar": {
              "outlinewidth": 0,
              "ticks": ""
             }
            },
            "type": "parcoords"
           }
          ],
          "pie": [
           {
            "automargin": true,
            "type": "pie"
           }
          ],
          "scatter": [
           {
            "marker": {
             "colorbar": {
              "outlinewidth": 0,
              "ticks": ""
             }
            },
            "type": "scatter"
           }
          ],
          "scatter3d": [
           {
            "line": {
             "colorbar": {
              "outlinewidth": 0,
              "ticks": ""
             }
            },
            "marker": {
             "colorbar": {
              "outlinewidth": 0,
              "ticks": ""
             }
            },
            "type": "scatter3d"
           }
          ],
          "scattercarpet": [
           {
            "marker": {
             "colorbar": {
              "outlinewidth": 0,
              "ticks": ""
             }
            },
            "type": "scattercarpet"
           }
          ],
          "scattergeo": [
           {
            "marker": {
             "colorbar": {
              "outlinewidth": 0,
              "ticks": ""
             }
            },
            "type": "scattergeo"
           }
          ],
          "scattergl": [
           {
            "marker": {
             "colorbar": {
              "outlinewidth": 0,
              "ticks": ""
             }
            },
            "type": "scattergl"
           }
          ],
          "scattermapbox": [
           {
            "marker": {
             "colorbar": {
              "outlinewidth": 0,
              "ticks": ""
             }
            },
            "type": "scattermapbox"
           }
          ],
          "scatterpolar": [
           {
            "marker": {
             "colorbar": {
              "outlinewidth": 0,
              "ticks": ""
             }
            },
            "type": "scatterpolar"
           }
          ],
          "scatterpolargl": [
           {
            "marker": {
             "colorbar": {
              "outlinewidth": 0,
              "ticks": ""
             }
            },
            "type": "scatterpolargl"
           }
          ],
          "scatterternary": [
           {
            "marker": {
             "colorbar": {
              "outlinewidth": 0,
              "ticks": ""
             }
            },
            "type": "scatterternary"
           }
          ],
          "surface": [
           {
            "colorbar": {
             "outlinewidth": 0,
             "ticks": ""
            },
            "colorscale": [
             [
              0,
              "#0d0887"
             ],
             [
              0.1111111111111111,
              "#46039f"
             ],
             [
              0.2222222222222222,
              "#7201a8"
             ],
             [
              0.3333333333333333,
              "#9c179e"
             ],
             [
              0.4444444444444444,
              "#bd3786"
             ],
             [
              0.5555555555555556,
              "#d8576b"
             ],
             [
              0.6666666666666666,
              "#ed7953"
             ],
             [
              0.7777777777777778,
              "#fb9f3a"
             ],
             [
              0.8888888888888888,
              "#fdca26"
             ],
             [
              1,
              "#f0f921"
             ]
            ],
            "type": "surface"
           }
          ],
          "table": [
           {
            "cells": {
             "fill": {
              "color": "#EBF0F8"
             },
             "line": {
              "color": "white"
             }
            },
            "header": {
             "fill": {
              "color": "#C8D4E3"
             },
             "line": {
              "color": "white"
             }
            },
            "type": "table"
           }
          ]
         },
         "layout": {
          "annotationdefaults": {
           "arrowcolor": "#2a3f5f",
           "arrowhead": 0,
           "arrowwidth": 1
          },
          "autotypenumbers": "strict",
          "coloraxis": {
           "colorbar": {
            "outlinewidth": 0,
            "ticks": ""
           }
          },
          "colorscale": {
           "diverging": [
            [
             0,
             "#8e0152"
            ],
            [
             0.1,
             "#c51b7d"
            ],
            [
             0.2,
             "#de77ae"
            ],
            [
             0.3,
             "#f1b6da"
            ],
            [
             0.4,
             "#fde0ef"
            ],
            [
             0.5,
             "#f7f7f7"
            ],
            [
             0.6,
             "#e6f5d0"
            ],
            [
             0.7,
             "#b8e186"
            ],
            [
             0.8,
             "#7fbc41"
            ],
            [
             0.9,
             "#4d9221"
            ],
            [
             1,
             "#276419"
            ]
           ],
           "sequential": [
            [
             0,
             "#0d0887"
            ],
            [
             0.1111111111111111,
             "#46039f"
            ],
            [
             0.2222222222222222,
             "#7201a8"
            ],
            [
             0.3333333333333333,
             "#9c179e"
            ],
            [
             0.4444444444444444,
             "#bd3786"
            ],
            [
             0.5555555555555556,
             "#d8576b"
            ],
            [
             0.6666666666666666,
             "#ed7953"
            ],
            [
             0.7777777777777778,
             "#fb9f3a"
            ],
            [
             0.8888888888888888,
             "#fdca26"
            ],
            [
             1,
             "#f0f921"
            ]
           ],
           "sequentialminus": [
            [
             0,
             "#0d0887"
            ],
            [
             0.1111111111111111,
             "#46039f"
            ],
            [
             0.2222222222222222,
             "#7201a8"
            ],
            [
             0.3333333333333333,
             "#9c179e"
            ],
            [
             0.4444444444444444,
             "#bd3786"
            ],
            [
             0.5555555555555556,
             "#d8576b"
            ],
            [
             0.6666666666666666,
             "#ed7953"
            ],
            [
             0.7777777777777778,
             "#fb9f3a"
            ],
            [
             0.8888888888888888,
             "#fdca26"
            ],
            [
             1,
             "#f0f921"
            ]
           ]
          },
          "colorway": [
           "#636efa",
           "#EF553B",
           "#00cc96",
           "#ab63fa",
           "#FFA15A",
           "#19d3f3",
           "#FF6692",
           "#B6E880",
           "#FF97FF",
           "#FECB52"
          ],
          "font": {
           "color": "#2a3f5f"
          },
          "geo": {
           "bgcolor": "white",
           "lakecolor": "white",
           "landcolor": "#E5ECF6",
           "showlakes": true,
           "showland": true,
           "subunitcolor": "white"
          },
          "hoverlabel": {
           "align": "left"
          },
          "hovermode": "closest",
          "mapbox": {
           "style": "light"
          },
          "paper_bgcolor": "white",
          "plot_bgcolor": "#E5ECF6",
          "polar": {
           "angularaxis": {
            "gridcolor": "white",
            "linecolor": "white",
            "ticks": ""
           },
           "bgcolor": "#E5ECF6",
           "radialaxis": {
            "gridcolor": "white",
            "linecolor": "white",
            "ticks": ""
           }
          },
          "scene": {
           "xaxis": {
            "backgroundcolor": "#E5ECF6",
            "gridcolor": "white",
            "gridwidth": 2,
            "linecolor": "white",
            "showbackground": true,
            "ticks": "",
            "zerolinecolor": "white"
           },
           "yaxis": {
            "backgroundcolor": "#E5ECF6",
            "gridcolor": "white",
            "gridwidth": 2,
            "linecolor": "white",
            "showbackground": true,
            "ticks": "",
            "zerolinecolor": "white"
           },
           "zaxis": {
            "backgroundcolor": "#E5ECF6",
            "gridcolor": "white",
            "gridwidth": 2,
            "linecolor": "white",
            "showbackground": true,
            "ticks": "",
            "zerolinecolor": "white"
           }
          },
          "shapedefaults": {
           "line": {
            "color": "#2a3f5f"
           }
          },
          "ternary": {
           "aaxis": {
            "gridcolor": "white",
            "linecolor": "white",
            "ticks": ""
           },
           "baxis": {
            "gridcolor": "white",
            "linecolor": "white",
            "ticks": ""
           },
           "bgcolor": "#E5ECF6",
           "caxis": {
            "gridcolor": "white",
            "linecolor": "white",
            "ticks": ""
           }
          },
          "title": {
           "x": 0.05
          },
          "xaxis": {
           "automargin": true,
           "gridcolor": "white",
           "linecolor": "white",
           "ticks": "",
           "title": {
            "standoff": 15
           },
           "zerolinecolor": "white",
           "zerolinewidth": 2
          },
          "yaxis": {
           "automargin": true,
           "gridcolor": "white",
           "linecolor": "white",
           "ticks": "",
           "title": {
            "standoff": 15
           },
           "zerolinecolor": "white",
           "zerolinewidth": 2
          }
         }
        },
        "width": 800,
        "xaxis": {
         "anchor": "y",
         "domain": [
          0,
          1
         ],
         "title": {
          "text": "Nama Provinsi"
         }
        },
        "yaxis": {
         "anchor": "x",
         "domain": [
          0,
          1
         ],
         "title": {
          "text": "count"
         }
        }
       }
      }
     },
     "metadata": {},
     "output_type": "display_data"
    },
    {
     "data": {
      "application/vnd.plotly.v1+json": {
       "config": {
        "plotlyServerURL": "https://plot.ly"
       },
       "data": [
        {
         "alignmentgroup": "True",
         "bingroup": "x",
         "cliponaxis": false,
         "hovertemplate": "Nama Kota=%{x}<br>count=%{y}<extra></extra>",
         "legendgroup": "",
         "marker": {
          "color": "rgb(36, 86, 104)",
          "pattern": {
           "shape": ""
          }
         },
         "name": "",
         "offsetgroup": "",
         "orientation": "v",
         "showlegend": false,
         "textangle": 0,
         "textfont": {
          "size": 12
         },
         "textposition": "outside",
         "texttemplate": "%{value:.2s}",
         "type": "histogram",
         "x": [
          "kabupaten badung",
          "kota bandung",
          "kota jakarta pusat",
          "kabupaten badung",
          "kota bandung",
          "kota jakarta pusat",
          "kabupaten badung",
          "kabupaten badung",
          "kota jakarta pusat",
          "kabupaten badung",
          "kota denpasar",
          "kota jakarta barat",
          "kabupaten karangasem",
          "kota jakarta selatan",
          "kabupaten badung",
          "kota denpasar",
          "kota jakarta barat",
          "kabupaten badung",
          "kabupaten badung",
          "kota bandung",
          "kota tangerang",
          "kabupaten bandung",
          "kota bandung",
          "kota jakarta selatan",
          "kota bandung",
          "kabupaten badung",
          "kota bandung",
          "kota bandung",
          "kota bandung",
          "kabupaten badung",
          "kota malang",
          "kabupaten badung",
          "kabupaten badung",
          "kota cimahi",
          "kabupaten badung",
          "kota bandung",
          "kota batu",
          "kabupaten gianyar",
          "kota bandung",
          "kota bandung",
          "kota bandung",
          "kota denpasar",
          "kota bandung",
          "kota bandung",
          "kota bandung",
          "kota bandung",
          "kota bandung",
          "kabupaten gianyar",
          "kabupaten bandung",
          "kota jakarta selatan",
          "kabupaten badung",
          "kota jakarta pusat",
          "kabupaten malang",
          "kabupaten badung",
          "kota jakarta selatan",
          "kota jakarta selatan",
          "kota denpasar",
          "kota jakarta selatan",
          "kota jakarta utara",
          "kabupaten badung",
          "kota jakarta utara",
          "kota jakarta barat",
          "kabupaten badung",
          "kota jakarta pusat",
          "kota jakarta selatan",
          "kabupaten badung",
          "kota jakarta barat",
          "kabupaten badung",
          "kota jakarta utara",
          "kota denpasar",
          "kota jakarta selatan",
          "kota jakarta pusat",
          "kabupaten jembrana",
          "kabupaten gianyar",
          "kota bandung",
          "kota jakarta selatan",
          "kabupaten bandung barat",
          "kota jakarta barat",
          "kabupaten kabupaten subang",
          "kabupaten bandung",
          "kota jakarta pusat",
          "kota bandung",
          "kota jakarta selatan",
          "kabupaten bandung",
          "kota jakarta utara",
          "kota bandung",
          "kota jakarta pusat",
          "kota jakarta pusat",
          "kota bandung",
          "kota jakarta selatan",
          "kabupaten bandung barat",
          "kabupaten badung",
          "kota jakarta selatan",
          "kabupaten bandung barat",
          "kabupaten bandung barat",
          "kota bandung",
          "kota bandung",
          "kabupaten badung",
          "kota bandung",
          "kabupaten badung",
          "kota jakarta selatan",
          "kota bandung",
          "kota jakarta pusat",
          "kota bandung",
          "kabupaten badung",
          "kabupaten badung",
          "kota jakarta selatan",
          "kabupaten bandung",
          "kota jakarta pusat",
          "kabupaten bandung barat",
          "kabupaten badung",
          "kota bandung",
          "kota bandung",
          "kota jakarta pusat",
          "kabupaten bandung barat",
          "kabupaten buleleng",
          "kota bandung",
          "kota jakarta barat",
          "kabupaten gianyar",
          "kota batu",
          "kabupaten badung",
          "kota bandung",
          "kota jakarta pusat",
          "kabupaten gianyar",
          "kota bandung",
          "kota jakarta pusat",
          "kabupaten badung",
          "kabupaten bandung barat",
          "kabupaten badung",
          "kota jakarta selatan",
          "kabupaten badung",
          "kota bandung",
          "kota jakarta selatan",
          "kabupaten gianyar",
          "kabupaten badung",
          "kota jakarta selatan",
          "kota batu",
          "kabupaten badung",
          "kota denpasar",
          "kota cimahi",
          "kota jakarta selatan",
          "kabupaten bandung barat",
          "kabupaten bandung barat",
          "kota bandung",
          "kabupaten badung",
          "kabupaten badung",
          "kota bandung",
          "kota bandung",
          "kabupaten badung",
          "kota batu",
          "kota bandung",
          "kabupaten badung",
          "kota malang",
          "kabupaten badung",
          "kota bandung",
          "kabupaten badung",
          "kabupaten kabupaten subang",
          "kabupaten malang",
          "kota denpasar",
          "kota bandung",
          "kabupaten badung",
          "kabupaten sumedang",
          "kota bandung",
          "kota bandung",
          "kota bandung",
          "kota malang",
          "kota jakarta selatan",
          "kota jakarta selatan",
          "kabupaten badung",
          "kota jakarta selatan",
          "kabupaten bandung barat",
          "kota jakarta utara",
          "kabupaten bandung",
          "kota jakarta selatan",
          "kabupaten majalengka",
          "kota bandung",
          "kota bandung",
          "kota bandung",
          "kabupaten bandung barat",
          "kabupaten badung",
          "kota bandung",
          "kota jakarta selatan",
          "kabupaten badung",
          "kabupaten badung",
          "kota bandung",
          "kota jakarta selatan",
          "kota jakarta selatan",
          "kota bandung",
          "kota jakarta barat",
          "kota malang",
          "kabupaten bandung barat",
          "kota jakarta pusat",
          "kota bandung",
          "kota jakarta selatan",
          "kabupaten badung",
          "kota jakarta selatan",
          "kabupaten badung",
          "kabupaten badung",
          "kabupaten badung",
          "kota jakarta selatan",
          "kota denpasar",
          "kota jakarta selatan",
          "kabupaten badung",
          "kabupaten badung",
          "kota jakarta utara",
          "kota denpasar",
          "kota jakarta barat",
          "kabupaten badung",
          "kota denpasar",
          "kota jakarta pusat",
          "kota jakarta barat",
          "kabupaten badung",
          "kota jakarta timur",
          "kota jakarta pusat",
          "kota jakarta pusat",
          "kabupaten badung",
          "kota jakarta pusat",
          "kota jakarta utara",
          "kota jakarta pusat",
          "kota jakarta barat",
          "kota tangerang",
          "kota jakarta pusat",
          "kota jakarta selatan",
          "kota bandung",
          "kabupaten badung",
          "kota jakarta utara",
          "kabupaten sumedang",
          "kota jakarta pusat",
          "kota bandung",
          "kabupaten bandung",
          "kota jakarta selatan",
          "kota bandung",
          "kabupaten badung",
          "kota jakarta selatan",
          "kabupaten badung",
          "kabupaten badung",
          "kota jakarta pusat",
          "kabupaten bandung barat",
          "kota jakarta barat",
          "kota bandung",
          "kota denpasar",
          "kota jakarta pusat",
          "kabupaten badung",
          "kabupaten malang",
          "kota jakarta selatan",
          "kota bandung",
          "kota jakarta selatan",
          "kota bandung",
          "kota jakarta barat",
          "kota denpasar",
          "kota jakarta selatan",
          "kota bandung",
          "kabupaten buleleng",
          "kota malang",
          "kota jakarta selatan",
          "kota bandung",
          "kabupaten badung",
          "kota batu",
          "kabupaten gianyar",
          "kabupaten bandung barat",
          "kota bandung",
          "kota bandung",
          "kabupaten badung",
          "kota batu",
          "kabupaten badung",
          "kota bandung",
          "kota malang",
          "kota bandung",
          "kabupaten badung",
          "kota jakarta barat",
          "kota bandung",
          "kabupaten badung",
          "kota jakarta pusat",
          "kota jakarta barat",
          "kota batu",
          "kota bandung",
          "kota jakarta pusat",
          "kabupaten badung",
          "kota jakarta barat",
          "kabupaten badung",
          "kota jakarta barat",
          "kota bandung",
          "kabupaten badung",
          "kota jakarta pusat",
          "kabupaten bandung",
          "kabupaten badung",
          "kota bandung",
          "kabupaten badung",
          "kota jakarta pusat",
          "kabupaten buleleng",
          "kota bandung",
          "kota jakarta pusat",
          "kota jakarta selatan",
          "kota bandung",
          "kota bandung",
          "kota jakarta timur",
          "kota bandung",
          "kabupaten badung",
          "kota jakarta selatan",
          "kota jakarta pusat",
          "kota batu",
          "kota bandung",
          "kabupaten badung",
          "kota bandung",
          "kota jakarta barat",
          "kota bandung",
          "kota bandung",
          "kabupaten badung",
          "kota jakarta selatan",
          "kabupaten badung",
          "kota jakarta selatan",
          "kabupaten badung",
          "kota bandung",
          "kota malang",
          "kota bandung",
          "kota bandung",
          "kota denpasar",
          "kota bandung",
          "kota bandung",
          "kota bandung",
          "kabupaten gianyar",
          "kabupaten bandung barat",
          "kabupaten badung",
          "kabupaten bandung barat",
          "kabupaten bandung barat",
          "kota bandung",
          "kota cimahi",
          "kota bandung",
          "kabupaten badung",
          "kota malang",
          "kota bandung",
          "kota bandung",
          "kota bandung",
          "kabupaten badung",
          "kabupaten kabupaten subang",
          "kota bandung",
          "kabupaten badung",
          "kota bandung",
          "kabupaten bandung barat",
          "kota bandung",
          "kabupaten badung",
          "kabupaten bandung",
          "kabupaten badung",
          "kota jakarta pusat",
          "kota bandung",
          "kota bandung",
          "kabupaten badung",
          "kota jakarta selatan",
          "kota bandung",
          "kota jakarta utara",
          "kabupaten bandung barat",
          "kabupaten badung",
          "kabupaten badung",
          "kota batu",
          "kabupaten bandung barat",
          "kabupaten badung",
          "kota malang",
          "kabupaten badung",
          "kota bandung",
          "kabupaten badung",
          "kabupaten gianyar",
          "kota jakarta pusat",
          "kota bandung",
          "kota jakarta pusat",
          "kota tangerang",
          "kota bandung",
          "kota jakarta pusat",
          "kota bandung",
          "kabupaten badung",
          "kota jakarta pusat",
          "kabupaten badung",
          "kota jakarta selatan",
          "kota bandung",
          "kabupaten badung",
          "kota jakarta selatan",
          "kota bandung",
          "kabupaten badung",
          "kota jakarta pusat",
          "kota bandung",
          "kota malang",
          "kota bandung",
          "kota jakarta pusat",
          "kota bandung",
          "kota jakarta selatan",
          "kota bandung",
          "kabupaten badung",
          "kota jakarta selatan",
          "kota bandung",
          "kota jakarta selatan",
          "kota jakarta timur",
          "kota bandung",
          "kota jakarta barat",
          "kota jakarta selatan",
          "kota jakarta selatan",
          "kota bandung",
          "kota jakarta timur",
          "kabupaten badung",
          "kota tangerang",
          "kota jakarta barat",
          "kabupaten badung",
          "kota jakarta utara",
          "kota bandung",
          "kota batu",
          "kota denpasar",
          "kota jakarta pusat",
          "kabupaten badung",
          "kota batu",
          "kota jakarta barat",
          "kabupaten badung",
          "kabupaten badung",
          "kota jakarta barat",
          "kabupaten badung",
          "kota batu",
          "kota jakarta selatan",
          "kabupaten gianyar",
          "kabupaten badung",
          "kabupaten malang",
          "kota jakarta utara",
          "kota jakarta selatan",
          "kabupaten badung",
          "kabupaten badung",
          "kota malang",
          "kota jakarta pusat",
          "kota jakarta selatan",
          "kota bandung",
          "kota jakarta utara",
          "kota bandung",
          "kabupaten badung",
          "kota malang",
          "kabupaten bandung barat",
          "kabupaten malang",
          "kabupaten badung",
          "kota bandung",
          "kota denpasar",
          "kota batu",
          "kabupaten badung",
          "kota bandung",
          "kabupaten badung",
          "kota malang",
          "kabupaten badung",
          "kabupaten bandung",
          "kota bandung",
          "kota denpasar",
          "kota batu",
          "kota jakarta utara",
          "kabupaten bandung",
          "kabupaten gianyar",
          "kota jakarta utara",
          "kota bandung",
          "kabupaten badung",
          "kota bandung",
          "kota bandung",
          "kota jakarta selatan",
          "kabupaten badung",
          "kota bandung",
          "kota jakarta pusat",
          "kota bandung",
          "kota jakarta selatan",
          "kabupaten badung",
          "kota bandung",
          "kota jakarta selatan",
          "kota bandung",
          "kota batu",
          "kota bandung",
          "kota jakarta utara",
          "kota bandung",
          "kota bandung",
          "kota batu",
          "kabupaten malang",
          "kota jakarta pusat",
          "kota jakarta utara",
          "kota jakarta utara",
          "kota batu",
          "kota denpasar",
          "kota jakarta pusat",
          "kota malang",
          "kota malang",
          "kota jakarta pusat",
          "kota batu",
          "kabupaten badung",
          "kota jakarta pusat",
          "kota jakarta pusat",
          "kota jakarta selatan",
          "kota jakarta pusat",
          "kota malang",
          "kota jakarta timur",
          "kota jakarta timur",
          "kabupaten badung",
          "kota jakarta selatan",
          "kota batu",
          "kota tangerang",
          "kota jakarta utara",
          "kota malang",
          "kota jakarta pusat",
          "kota denpasar",
          "kabupaten badung",
          "kota bandung",
          "kabupaten badung",
          "kota jakarta selatan",
          "kota jakarta selatan",
          "kota bandung",
          "kota jakarta selatan",
          "kota bandung",
          "kota bandung",
          "kabupaten gianyar",
          "kota jakarta selatan",
          "kabupaten bandung barat",
          "kota bandung",
          "kota jakarta pusat",
          "kabupaten gianyar",
          "kota jakarta pusat",
          "kota bandung",
          "kota jakarta selatan",
          "kota bekasi",
          "kota bandung",
          "kota malang",
          "kota jakarta pusat",
          "kabupaten badung",
          "kabupaten bandung barat",
          "kabupaten badung",
          "kabupaten badung",
          "kota bandung",
          "kota malang",
          "kabupaten badung",
          "kota denpasar",
          "kota bandung",
          "kota jakarta selatan",
          "kabupaten badung",
          "kota denpasar",
          "kota bandung",
          "kota jakarta selatan",
          "kabupaten badung",
          "kabupaten badung",
          "kota bandung",
          "kabupaten badung",
          "kabupaten gianyar",
          "kota jakarta utara",
          "kota bandung",
          "kota cirebon",
          "kota malang",
          "kota bandung",
          "kabupaten cirebon",
          "kabupaten bandung barat",
          "kabupaten cirebon",
          "kota malang",
          "kota cirebon",
          "kota bandung",
          "kota batu",
          "kota cirebon",
          "kota bandung",
          "kota bandung",
          "kota malang",
          "kota cirebon",
          "kota bandung",
          "kota batu",
          "kota bandung",
          "kota malang",
          "kota cirebon",
          "kota bandung",
          "kota malang",
          "kota malang",
          "kabupaten bandung barat",
          "kota bandung",
          "kota batu",
          "kota malang",
          "kota cirebon",
          "kota jakarta selatan",
          "kota bandung",
          "kota malang",
          "kota jakarta selatan",
          "kabupaten cirebon",
          "kota bandung",
          "kabupaten malang",
          "kota malang",
          "kota cirebon",
          "kota jakarta selatan",
          "kota bandung",
          "kota malang",
          "kota jakarta pusat",
          "kota malang",
          "kota bandung",
          "kota jakarta barat",
          "kota jakarta pusat",
          "kabupaten badung",
          "kota jakarta pusat",
          "kota jakarta selatan",
          "kabupaten badung",
          "kota malang",
          "kota batu",
          "kota jakarta barat",
          "kota jakarta selatan",
          "kota malang",
          "kabupaten badung",
          "kota malang",
          "kota jakarta utara",
          "kabupaten badung",
          "kota batu",
          "kabupaten badung",
          "kabupaten malang",
          "kota jakarta selatan",
          "kabupaten badung",
          "kota malang",
          "kota batu",
          "kota jakarta pusat",
          "kabupaten badung",
          "kota denpasar",
          "kota jakarta utara",
          "kabupaten badung",
          "kota malang",
          "kabupaten badung",
          "kota jakarta utara",
          "kabupaten badung",
          "kota denpasar",
          "kabupaten badung",
          "kota jakarta selatan",
          "kabupaten badung",
          "kota batu",
          "kabupaten kabupaten subang",
          "kabupaten klungkung",
          "kabupaten malang",
          "kabupaten cirebon",
          "kabupaten gianyar",
          "kota bandung",
          "kota bandung",
          "kota bandung",
          "kabupaten cirebon",
          "kota jakarta selatan",
          "kota bandung",
          "kota bandung",
          "kota jakarta selatan",
          "kota cirebon",
          "kota bandung",
          "kota jakarta pusat",
          "kota jakarta selatan",
          "kota bandung",
          "kota jakarta selatan",
          "kota cirebon",
          "kota jakarta selatan",
          "kota bandung",
          "kota bandung",
          "kota bandung",
          "kota bandung",
          "kota jakarta selatan",
          "kota bandung",
          "kota jakarta selatan",
          "kota bandung",
          "kota cirebon",
          "kabupaten bandung barat",
          "kabupaten badung",
          "kota cirebon",
          "kota jakarta pusat",
          "kota bandung",
          "kabupaten badung",
          "kota bandung",
          "kabupaten badung",
          "kota jakarta pusat",
          "kota bandung",
          "kabupaten badung",
          "kabupaten badung",
          "kota cirebon",
          "kota jakarta pusat",
          "kabupaten badung",
          "kota cirebon",
          "kota jakarta pusat",
          "kabupaten malang",
          "kota malang",
          "kota cirebon",
          "kabupaten badung",
          "kota batu",
          "kabupaten badung",
          "kota malang",
          "kabupaten badung",
          "kabupaten badung",
          "kota batu",
          "kabupaten badung",
          "kota malang",
          "kota batu",
          "kabupaten lombok barat",
          "kota batu",
          "kabupaten lombok tengah",
          "kota mataram",
          "kota surabaya",
          "kabupaten lombok tengah",
          "kabupaten lombok utara",
          "kabupaten lombok tengah",
          "kabupaten lombok utara",
          "kota surabaya",
          "kabupaten lombok tengah",
          "kota mataram",
          "kota mataram",
          "kabupaten lombok tengah",
          "kota mataram",
          "kabupaten lombok tengah",
          "kota batu",
          "kabupaten lombok barat",
          "kota mataram",
          "kota surabaya",
          "kabupaten lombok barat",
          "kota batu",
          "kabupaten lombok utara",
          "kabupaten lombok barat",
          "kabupaten lombok utara",
          "kabupaten lombok barat",
          "kabupaten lombok tengah",
          "kabupaten lombok barat",
          "kabupaten karanganyar",
          "kota surakarta",
          "kota surakarta",
          "kota surakarta",
          "kota surakarta",
          "kabupaten sukoharjo",
          "kota surakarta",
          "kota surakarta",
          "kabupaten boyolali",
          "kota batu",
          "kabupaten lombok barat",
          "kabupaten lombok barat",
          "kabupaten lombok barat",
          "kabupaten lombok barat",
          "kota batu",
          "kabupaten lombok barat",
          "kabupaten sidoarjo",
          "kabupaten lombok barat",
          "kabupaten lombok barat",
          "kota mataram",
          "kabupaten lombok barat",
          "kota batu",
          "kota surabaya",
          "kota batu",
          "kabupaten lombok tengah",
          "kota mataram",
          "kota mataram",
          "kota mataram",
          "kabupaten lombok tengah",
          "kabupaten lombok tengah",
          "kota mataram",
          "kabupaten lombok tengah",
          "kota mataram",
          "kota batu",
          "kota surakarta",
          "kabupaten sukoharjo",
          "kota surakarta",
          "kota surakarta",
          "kota surakarta",
          "kabupaten sukoharjo",
          "kota surakarta",
          "kota batu",
          "kabupaten lombok barat",
          "kabupaten lombok barat",
          "kabupaten lombok tengah",
          "kota batu",
          "kota surabaya",
          "kota batu",
          "kota mataram",
          "kabupaten lombok timur",
          "kabupaten lombok tengah",
          "kota mataram",
          "kota surabaya",
          "kota batu",
          "kota surakarta",
          "kota batu",
          "kota surakarta",
          "kabupaten sukoharjo",
          "kota surakarta",
          "kota surakarta",
          "kota surakarta",
          "kota batu",
          "kota batu",
          "kabupaten karanganyar",
          "kota surakarta",
          "kabupaten sukoharjo",
          "kota surakarta",
          "kabupaten boyolali",
          "kabupaten lombok barat",
          "kabupaten lombok barat",
          "kota batu",
          "kota denpasar",
          "kabupaten karangasem",
          "kabupaten gianyar",
          "kota bandung",
          "kabupaten badung",
          "kota bandung",
          "kota bandung",
          "kota bandung",
          "kota bandung",
          "kota bandung",
          "kabupaten tabanan",
          "kabupaten bandung barat",
          "kabupaten badung",
          "kota jakarta selatan",
          "kota malang",
          "kota bandung",
          "kota jakarta pusat",
          "kabupaten bandung barat",
          "kabupaten badung",
          "kota jakarta selatan",
          "kabupaten badung",
          "kota jakarta barat",
          "kabupaten badung",
          "kota jakarta pusat",
          "kota batu",
          "kabupaten gianyar",
          "kota malang",
          "kabupaten bandung barat",
          "kabupaten badung",
          "kota jakarta pusat",
          "kabupaten badung",
          "kota jakarta barat",
          "kabupaten badung",
          "kota jakarta pusat",
          "kabupaten bangli",
          "kota jakarta selatan",
          "kabupaten badung",
          "kota jakarta barat",
          "kabupaten badung",
          "kabupaten bandung",
          "kota bandung",
          "kota bandung",
          "kota jakarta barat",
          "kota jakarta barat",
          "kota bandung",
          "kota jakarta selatan",
          "kota jakarta selatan",
          "kota bandung",
          "kota jakarta pusat",
          "kota jakarta selatan",
          "kota bandung",
          "kota jakarta pusat",
          "kota jakarta pusat",
          "kota bandung",
          "kota jakarta pusat",
          "kota jakarta barat",
          "kota jakarta barat",
          "kota denpasar",
          "kota bandung",
          "kabupaten badung",
          "kabupaten subang",
          "kota malang",
          "kota jakarta selatan",
          "kabupaten badung",
          "kota jakarta selatan",
          "kota jakarta pusat",
          "kota jakarta pusat",
          "kota jakarta selatan",
          "kabupaten badung",
          "kota jakarta pusat",
          "kota jakarta timur",
          "kota jakarta selatan",
          "kota jakarta pusat",
          "kabupaten badung",
          "kota jakarta selatan",
          "kabupaten gianyar",
          "kota jakarta pusat",
          "kota jakarta utara",
          "kota jakarta barat",
          "kota jakarta selatan",
          "kota jakarta selatan",
          "kota jakarta utara",
          "kota jakarta barat",
          "kota jakarta selatan",
          "kota jakarta pusat",
          "kabupaten gianyar",
          "kabupaten buleleng",
          "kota jakarta barat",
          "kabupaten badung",
          "kabupaten badung",
          "kota jakarta selatan",
          "kabupaten buleleng",
          "kabupaten badung",
          "kota jakarta barat",
          "kabupaten gianyar",
          "kota jakarta barat",
          "kota jakarta selatan",
          "kabupaten badung",
          "kota jakarta pusat",
          "kabupaten badung",
          "kabupaten bandung barat",
          "kabupaten badung",
          "kabupaten bandung barat",
          "kabupaten bandung barat",
          "kabupaten badung",
          "kabupaten badung",
          "kabupaten badung",
          "kota denpasar",
          "kota jakarta pusat",
          "kabupaten gianyar",
          "kabupaten badung",
          "kabupaten badung",
          "kabupaten badung",
          "kabupaten gianyar",
          "kabupaten kabupaten subang",
          "kota jakarta pusat",
          "kabupaten badung",
          "kabupaten badung",
          "kabupaten bandung barat",
          "kabupaten badung",
          "kabupaten badung",
          "kota jakarta selatan",
          "kota denpasar",
          "kota jakarta pusat",
          "kota jakarta pusat",
          "kabupaten badung",
          "kota denpasar",
          "kota jakarta barat",
          "kota jakarta selatan",
          "kabupaten buleleng",
          "kabupaten badung",
          "kabupaten bandung barat",
          "kota jakarta timur",
          "kabupaten buleleng",
          "kabupaten gianyar",
          "kota jakarta barat",
          "kabupaten badung",
          "kabupaten badung",
          "kota jakarta selatan",
          "kota jakarta pusat",
          "kota jakarta selatan",
          "kota jakarta selatan",
          "kota bandung",
          "kota jakarta selatan",
          "kota jakarta barat",
          "kota jakarta pusat",
          "kabupaten badung",
          "kota jakarta selatan",
          "kota jakarta selatan",
          "kota jakarta pusat",
          "kabupaten gianyar",
          "kota jakarta barat",
          "kota denpasar",
          "kabupaten buleleng",
          "kota jakarta timur",
          "kota jakarta pusat",
          "kabupaten badung",
          "kabupaten badung",
          "kabupaten badung",
          "kota jakarta utara",
          "kabupaten badung",
          "kabupaten badung",
          "kota jakarta selatan",
          "kabupaten badung",
          "kota jakarta barat",
          "kabupaten badung",
          "kota bandung",
          "kota jakarta pusat",
          "kota jakarta pusat",
          "kota jakarta pusat",
          "kabupaten badung",
          "kota jakarta utara",
          "kota denpasar",
          "kota jakarta pusat",
          "kabupaten badung",
          "kota bandung",
          "kota jakarta barat",
          "kota jakarta pusat",
          "kota batu",
          "kabupaten kabupaten subang",
          "kota jakarta selatan",
          "kota jakarta pusat",
          "kabupaten badung",
          "kota bandung",
          "kota jakarta pusat",
          "kabupaten gianyar",
          "kota jakarta pusat",
          "kabupaten bandung barat",
          "kota jakarta selatan",
          "kabupaten badung",
          "kota jakarta selatan",
          "kota malang",
          "kabupaten gianyar",
          "kabupaten bandung",
          "kabupaten badung",
          "kota malang",
          "kota jakarta selatan",
          "kota denpasar",
          "kota malang",
          "kabupaten gianyar",
          "kota jakarta selatan",
          "kabupaten badung",
          "kabupaten gianyar",
          "kota bandung",
          "kota bandung",
          "kota batu",
          "kota batu",
          "kabupaten badung",
          "kota batu",
          "kabupaten badung",
          "kabupaten badung",
          "kabupaten badung",
          "kabupaten gianyar",
          "kota bandung",
          "kota bandung",
          "kabupaten badung",
          "kota jakarta barat",
          "kota jakarta barat",
          "kota jakarta pusat",
          "kabupaten badung",
          "kota jakarta utara",
          "kota malang",
          "kota jakarta barat",
          "kota jakarta pusat",
          "kota jakarta timur",
          "kota bandung",
          "kabupaten badung",
          "kabupaten gianyar",
          "kota cimahi",
          "kabupaten badung",
          "kota jakarta selatan",
          "kota bandung",
          "kota jakarta pusat",
          "kota bandung",
          "kabupaten badung",
          "kota jakarta pusat",
          "kota bandung",
          "kota jakarta pusat",
          "kabupaten gianyar",
          "kota jakarta barat",
          "kota bandung",
          "kabupaten badung",
          "kabupaten tabanan",
          "kota bandung",
          "kota bandung",
          "kota malang",
          "kota bandung",
          "kabupaten badung",
          "kota bandung",
          "kabupaten badung",
          "kota jakarta selatan",
          "kabupaten gianyar",
          "kabupaten bandung barat",
          "kabupaten bandung barat",
          "kota jakarta barat",
          "kota bandung",
          "kota jakarta pusat",
          "kota jakarta selatan",
          "kota jakarta selatan",
          "kota bandung",
          "kabupaten bandung barat",
          "kota jakarta pusat",
          "kota jakarta selatan",
          "kota jakarta selatan",
          "kabupaten bandung",
          "kota jakarta barat",
          "kota jakarta selatan",
          "kota cimahi",
          "kabupaten bandung barat",
          "kota jakarta selatan",
          "kabupaten karangasem",
          "kota jakarta timur",
          "kabupaten badung",
          "kota jakarta barat",
          "kabupaten gianyar",
          "kota jakarta pusat",
          "kabupaten badung",
          "kota jakarta pusat",
          "kota jakarta pusat",
          "kota jakarta pusat",
          "kota jakarta barat",
          "kota jakarta barat",
          "kabupaten badung",
          "kota jakarta utara",
          "kota denpasar",
          "kota jakarta pusat",
          "kota jakarta pusat",
          "kota denpasar",
          "kota jakarta selatan",
          "kabupaten badung",
          "kota jakarta barat",
          "kota jakarta pusat",
          "kota denpasar",
          "kota jakarta barat",
          "kota bandung",
          "kota jakarta selatan",
          "kabupaten bandung",
          "kota jakarta timur",
          "kota denpasar",
          "kota jakarta pusat",
          "kota bandung",
          "kota jakarta pusat",
          "kabupaten gianyar",
          "kabupaten badung",
          "kabupaten badung",
          "kabupaten gianyar",
          "kota malang",
          "kabupaten badung",
          "kota bandung",
          "kabupaten badung",
          "kota bandung",
          "kabupaten badung",
          "kabupaten badung",
          "kabupaten badung",
          "kabupaten badung",
          "kota bandung",
          "kabupaten malang",
          "kabupaten badung",
          "kabupaten tabanan",
          "kota bandung",
          "kabupaten badung",
          "kabupaten gianyar",
          "kabupaten bandung barat",
          "kota jakarta pusat",
          "kabupaten badung",
          "kabupaten badung",
          "kabupaten badung",
          "kota malang",
          "kota jakarta timur",
          "kabupaten bandung barat",
          "kota jakarta selatan",
          "kota bandung",
          "kota jakarta selatan",
          "kota bandung",
          "kota bandung",
          "kota jakarta selatan",
          "kota jakarta selatan",
          "kota batu",
          "kota jakarta pusat",
          "kabupaten bandung barat",
          "kota jakarta pusat",
          "kota malang",
          "kabupaten badung",
          "kota bandung",
          "kota jakarta timur",
          "kabupaten badung",
          "kabupaten gianyar",
          "kabupaten bandung barat",
          "kabupaten malang",
          "kota denpasar",
          "kota denpasar",
          "kota batu",
          "kabupaten badung",
          "kabupaten badung",
          "kota bandung",
          "kabupaten bandung barat",
          "kota jakarta pusat",
          "bandung city",
          "kabupaten bandung barat",
          "kabupaten malang",
          "kota bandung",
          "kota jakarta barat",
          "kota jakarta pusat",
          "kota jakarta selatan",
          "kabupaten gianyar",
          "kabupaten subang",
          "kota jakarta pusat",
          "kabupaten badung",
          "kota jakarta selatan",
          "kabupaten badung",
          "kota jakarta selatan",
          "kabupaten badung",
          "kabupaten badung",
          "kota jakarta pusat",
          "kabupaten buleleng",
          "kota jakarta barat",
          "kota jakarta pusat",
          "kabupaten badung",
          "kota jakarta barat",
          "kabupaten badung",
          "kota jakarta pusat",
          "kota bandung",
          "kabupaten klungkung",
          "kota jakarta pusat",
          "kota bandung",
          "kota jakarta selatan",
          "kota bandung",
          "kota jakarta utara",
          "kabupaten bandung barat",
          "kabupaten bandung barat",
          "kota bandung",
          "kota bandung",
          "kota jakarta selatan",
          "kabupaten bandung",
          "kota jakarta pusat",
          "kota jakarta pusat",
          "kota jakarta selatan",
          "kota jakarta pusat",
          "kota jakarta pusat",
          "kota jakarta selatan",
          "kota jakarta selatan",
          "kota jakarta selatan",
          "kota jakarta barat",
          "kabupaten gianyar",
          "kabupaten kepulauan seribu",
          "kabupaten badung",
          "kabupaten kepulauan seribu",
          "kabupaten badung",
          "kota jakarta barat",
          "kota jakarta selatan",
          "kabupaten badung",
          "kabupaten badung",
          "kota denpasar",
          "kota denpasar",
          "kota denpasar",
          "kota denpasar",
          "kabupaten bandung barat",
          "kabupaten badung",
          "kota denpasar",
          "kabupaten badung",
          "kota denpasar",
          "kota jakarta selatan",
          "kabupaten badung",
          "kota denpasar",
          "kota denpasar",
          "kabupaten karangasem",
          "kabupaten bandung",
          "kota jakarta selatan",
          "kabupaten gianyar",
          "kabupaten gianyar",
          "kota jakarta barat",
          "kabupaten badung",
          "kabupaten badung",
          "kota jakarta barat",
          "kabupaten buleleng",
          "kabupaten tabanan",
          "kabupaten badung",
          "kabupaten buleleng",
          "kabupaten badung",
          "kabupaten gianyar",
          "kota jakarta selatan",
          "kabupaten badung",
          "kota jakarta pusat",
          "kota denpasar",
          "kabupaten badung",
          "kabupaten gianyar",
          "kabupaten badung",
          "kabupaten badung",
          "kabupaten gianyar",
          "kabupaten buleleng",
          "kabupaten bandung barat",
          "kabupaten badung",
          "kabupaten bangli",
          "kabupaten badung",
          "kabupaten badung",
          "kabupaten bandung barat",
          "kota jakarta barat",
          "kabupaten gianyar",
          "kota jakarta barat",
          "kabupaten tabanan",
          "kota jakarta utara",
          "kabupaten badung",
          "kota jakarta selatan",
          "kota denpasar",
          "kota jakarta selatan",
          "kabupaten bandung barat",
          "kabupaten badung",
          "kota jakarta selatan",
          "kota denpasar",
          "kota jakarta pusat",
          "kota jakarta timur",
          "kota jakarta pusat",
          "kota denpasar",
          "kota jakarta barat",
          "kota jakarta timur",
          "kota denpasar",
          "kota jakarta pusat",
          "kota jakarta utara",
          "kota denpasar",
          "kabupaten badung",
          "kota bandung",
          "kota jakarta selatan",
          "kabupaten buleleng",
          "kota jakarta selatan",
          "kabupaten bandung barat",
          "kota jakarta selatan",
          "kabupaten badung",
          "kota bandung",
          "kota jakarta selatan",
          "kabupaten badung",
          "kota cimahi",
          "kota jakarta timur",
          "kabupaten bandung barat",
          "kota denpasar",
          "kabupaten badung",
          "kota denpasar",
          "kabupaten gianyar",
          "kabupaten klungkung",
          "kabupaten gianyar",
          "kabupaten gianyar",
          "kota jakarta pusat",
          "kabupaten subang",
          "kabupaten garut",
          "kota jakarta selatan",
          "kabupaten sleman",
          "kota yogyakarta",
          "kabupaten tabanan",
          "kabupaten badung",
          "kabupaten sleman",
          "kabupaten badung",
          "kabupaten sleman",
          "kabupaten buleleng",
          "kabupaten sleman",
          "kota jakarta selatan",
          "kabupaten sleman",
          "kabupaten sleman",
          "kabupaten sleman",
          "kota yogyakarta",
          "kabupaten sleman",
          "kota denpasar",
          "kota yogyakarta",
          "kabupaten badung",
          "kota jakarta pusat",
          "kabupaten kepulauan seribu",
          "kota yogyakarta",
          "kabupaten gianyar",
          "kabupaten gianyar",
          "kabupaten badung",
          "kabupaten sleman",
          "kota denpasar",
          "kota yogyakarta",
          "kabupaten badung",
          "kota yogyakarta",
          "kabupaten sleman",
          "kota yogyakarta",
          "kota yogyakarta",
          "kota yogyakarta",
          "kota yogyakarta",
          "kabupaten gianyar",
          "kota jakarta selatan",
          "kabupaten sleman",
          "kabupaten tabanan",
          "kota yogyakarta",
          "kota yogyakarta",
          "kota yogyakarta",
          "kabupaten sleman",
          "kabupaten badung",
          "kota yogyakarta",
          "kabupaten sleman",
          "kota yogyakarta",
          "kabupaten sleman",
          "kota yogyakarta",
          "kota yogyakarta",
          "kabupaten sleman",
          "kota jakarta barat",
          "kabupaten klungkung",
          "kabupaten buleleng",
          "kota yogyakarta",
          "kabupaten karangasem",
          "kabupaten bantul",
          "kota jakarta barat",
          "kota yogyakarta",
          "kota yogyakarta",
          "kota yogyakarta",
          "kabupaten sleman",
          "kabupaten sleman",
          "kota yogyakarta",
          "kota yogyakarta",
          "kabupaten sleman",
          "kota yogyakarta",
          "kabupaten badung",
          "kabupaten karangasem",
          "kabupaten jembrana",
          "kabupaten gianyar",
          "kabupaten badung",
          "kota denpasar",
          "kabupaten badung",
          "kabupaten badung",
          "kota denpasar",
          "kabupaten badung",
          "kota denpasar",
          "kabupaten buleleng",
          "kabupaten jembrana",
          "kabupaten badung",
          "kabupaten badung",
          "kota jakarta selatan",
          "kabupaten badung",
          "kota jakarta pusat",
          "kabupaten karangasem",
          "kabupaten gianyar",
          "kabupaten badung",
          "kota jakarta barat",
          "kabupaten badung",
          "kabupaten klungkung",
          "kabupaten badung",
          "kabupaten badung",
          "kota denpasar",
          "kabupaten badung",
          "kabupaten badung",
          "kabupaten badung",
          "kabupaten badung",
          "kota jakarta barat",
          "kabupaten gianyar",
          "kabupaten gianyar",
          "kota yogyakarta",
          "kabupaten badung",
          "kabupaten pangandaran",
          "kabupaten cianjur",
          "kabupaten bogor",
          "kabupaten bogor",
          "kabupaten cianjur",
          "kabupaten pangandaran",
          "kabupaten pangandaran",
          "kabupaten ciamis",
          "kabupaten bogor",
          "kabupaten bogor",
          "kabupaten bandung barat",
          "kabupaten bogor",
          "kabupaten bogor",
          "kabupaten majalengka",
          "kabupaten bogor",
          "kabupaten pangandaran",
          "kabupaten cianjur",
          "kabupaten cianjur",
          "kabupaten bogor",
          "kabupaten bogor",
          "kabupaten bogor",
          "kabupaten bogor",
          "kabupaten subang",
          "kabupaten cianjur",
          "kabupaten bogor",
          "kabupaten bogor",
          "kabupaten pangandaran",
          "kabupaten bogor",
          "kabupaten bogor",
          "kabupaten bogor",
          "kabupaten pangandaran",
          "kabupaten ciamis",
          "kabupaten bogor",
          "kabupaten bandung barat",
          "kabupaten bogor",
          "kabupaten cianjur",
          "kabupaten cianjur",
          "kabupaten cianjur",
          "kabupaten cianjur",
          "kabupaten cianjur",
          "kabupaten bogor",
          "kabupaten kabupaten subang",
          "kabupaten bogor",
          "kabupaten bogor",
          "kabupaten bandung barat",
          "kabupaten pangandaran",
          "kabupaten pangandaran",
          "kabupaten pangandaran",
          "kabupaten bogor",
          "kabupaten bogor",
          "kabupaten cianjur",
          "kabupaten ciamis",
          "kabupaten bogor",
          "kabupaten pangandaran",
          "kabupaten cianjur",
          "kabupaten cianjur",
          "kabupaten bogor",
          "kabupaten cianjur",
          "kabupaten bogor",
          "kabupaten bogor",
          "kabupaten bogor",
          "kabupaten bogor",
          "kabupaten cianjur"
         ],
         "xaxis": "x",
         "yaxis": "y"
        }
       ],
       "layout": {
        "barmode": "relative",
        "height": 400,
        "legend": {
         "tracegroupgap": 0
        },
        "margin": {
         "t": 60
        },
        "template": {
         "data": {
          "bar": [
           {
            "error_x": {
             "color": "#2a3f5f"
            },
            "error_y": {
             "color": "#2a3f5f"
            },
            "marker": {
             "line": {
              "color": "#E5ECF6",
              "width": 0.5
             },
             "pattern": {
              "fillmode": "overlay",
              "size": 10,
              "solidity": 0.2
             }
            },
            "type": "bar"
           }
          ],
          "barpolar": [
           {
            "marker": {
             "line": {
              "color": "#E5ECF6",
              "width": 0.5
             },
             "pattern": {
              "fillmode": "overlay",
              "size": 10,
              "solidity": 0.2
             }
            },
            "type": "barpolar"
           }
          ],
          "carpet": [
           {
            "aaxis": {
             "endlinecolor": "#2a3f5f",
             "gridcolor": "white",
             "linecolor": "white",
             "minorgridcolor": "white",
             "startlinecolor": "#2a3f5f"
            },
            "baxis": {
             "endlinecolor": "#2a3f5f",
             "gridcolor": "white",
             "linecolor": "white",
             "minorgridcolor": "white",
             "startlinecolor": "#2a3f5f"
            },
            "type": "carpet"
           }
          ],
          "choropleth": [
           {
            "colorbar": {
             "outlinewidth": 0,
             "ticks": ""
            },
            "type": "choropleth"
           }
          ],
          "contour": [
           {
            "colorbar": {
             "outlinewidth": 0,
             "ticks": ""
            },
            "colorscale": [
             [
              0,
              "#0d0887"
             ],
             [
              0.1111111111111111,
              "#46039f"
             ],
             [
              0.2222222222222222,
              "#7201a8"
             ],
             [
              0.3333333333333333,
              "#9c179e"
             ],
             [
              0.4444444444444444,
              "#bd3786"
             ],
             [
              0.5555555555555556,
              "#d8576b"
             ],
             [
              0.6666666666666666,
              "#ed7953"
             ],
             [
              0.7777777777777778,
              "#fb9f3a"
             ],
             [
              0.8888888888888888,
              "#fdca26"
             ],
             [
              1,
              "#f0f921"
             ]
            ],
            "type": "contour"
           }
          ],
          "contourcarpet": [
           {
            "colorbar": {
             "outlinewidth": 0,
             "ticks": ""
            },
            "type": "contourcarpet"
           }
          ],
          "heatmap": [
           {
            "colorbar": {
             "outlinewidth": 0,
             "ticks": ""
            },
            "colorscale": [
             [
              0,
              "#0d0887"
             ],
             [
              0.1111111111111111,
              "#46039f"
             ],
             [
              0.2222222222222222,
              "#7201a8"
             ],
             [
              0.3333333333333333,
              "#9c179e"
             ],
             [
              0.4444444444444444,
              "#bd3786"
             ],
             [
              0.5555555555555556,
              "#d8576b"
             ],
             [
              0.6666666666666666,
              "#ed7953"
             ],
             [
              0.7777777777777778,
              "#fb9f3a"
             ],
             [
              0.8888888888888888,
              "#fdca26"
             ],
             [
              1,
              "#f0f921"
             ]
            ],
            "type": "heatmap"
           }
          ],
          "heatmapgl": [
           {
            "colorbar": {
             "outlinewidth": 0,
             "ticks": ""
            },
            "colorscale": [
             [
              0,
              "#0d0887"
             ],
             [
              0.1111111111111111,
              "#46039f"
             ],
             [
              0.2222222222222222,
              "#7201a8"
             ],
             [
              0.3333333333333333,
              "#9c179e"
             ],
             [
              0.4444444444444444,
              "#bd3786"
             ],
             [
              0.5555555555555556,
              "#d8576b"
             ],
             [
              0.6666666666666666,
              "#ed7953"
             ],
             [
              0.7777777777777778,
              "#fb9f3a"
             ],
             [
              0.8888888888888888,
              "#fdca26"
             ],
             [
              1,
              "#f0f921"
             ]
            ],
            "type": "heatmapgl"
           }
          ],
          "histogram": [
           {
            "marker": {
             "pattern": {
              "fillmode": "overlay",
              "size": 10,
              "solidity": 0.2
             }
            },
            "type": "histogram"
           }
          ],
          "histogram2d": [
           {
            "colorbar": {
             "outlinewidth": 0,
             "ticks": ""
            },
            "colorscale": [
             [
              0,
              "#0d0887"
             ],
             [
              0.1111111111111111,
              "#46039f"
             ],
             [
              0.2222222222222222,
              "#7201a8"
             ],
             [
              0.3333333333333333,
              "#9c179e"
             ],
             [
              0.4444444444444444,
              "#bd3786"
             ],
             [
              0.5555555555555556,
              "#d8576b"
             ],
             [
              0.6666666666666666,
              "#ed7953"
             ],
             [
              0.7777777777777778,
              "#fb9f3a"
             ],
             [
              0.8888888888888888,
              "#fdca26"
             ],
             [
              1,
              "#f0f921"
             ]
            ],
            "type": "histogram2d"
           }
          ],
          "histogram2dcontour": [
           {
            "colorbar": {
             "outlinewidth": 0,
             "ticks": ""
            },
            "colorscale": [
             [
              0,
              "#0d0887"
             ],
             [
              0.1111111111111111,
              "#46039f"
             ],
             [
              0.2222222222222222,
              "#7201a8"
             ],
             [
              0.3333333333333333,
              "#9c179e"
             ],
             [
              0.4444444444444444,
              "#bd3786"
             ],
             [
              0.5555555555555556,
              "#d8576b"
             ],
             [
              0.6666666666666666,
              "#ed7953"
             ],
             [
              0.7777777777777778,
              "#fb9f3a"
             ],
             [
              0.8888888888888888,
              "#fdca26"
             ],
             [
              1,
              "#f0f921"
             ]
            ],
            "type": "histogram2dcontour"
           }
          ],
          "mesh3d": [
           {
            "colorbar": {
             "outlinewidth": 0,
             "ticks": ""
            },
            "type": "mesh3d"
           }
          ],
          "parcoords": [
           {
            "line": {
             "colorbar": {
              "outlinewidth": 0,
              "ticks": ""
             }
            },
            "type": "parcoords"
           }
          ],
          "pie": [
           {
            "automargin": true,
            "type": "pie"
           }
          ],
          "scatter": [
           {
            "marker": {
             "colorbar": {
              "outlinewidth": 0,
              "ticks": ""
             }
            },
            "type": "scatter"
           }
          ],
          "scatter3d": [
           {
            "line": {
             "colorbar": {
              "outlinewidth": 0,
              "ticks": ""
             }
            },
            "marker": {
             "colorbar": {
              "outlinewidth": 0,
              "ticks": ""
             }
            },
            "type": "scatter3d"
           }
          ],
          "scattercarpet": [
           {
            "marker": {
             "colorbar": {
              "outlinewidth": 0,
              "ticks": ""
             }
            },
            "type": "scattercarpet"
           }
          ],
          "scattergeo": [
           {
            "marker": {
             "colorbar": {
              "outlinewidth": 0,
              "ticks": ""
             }
            },
            "type": "scattergeo"
           }
          ],
          "scattergl": [
           {
            "marker": {
             "colorbar": {
              "outlinewidth": 0,
              "ticks": ""
             }
            },
            "type": "scattergl"
           }
          ],
          "scattermapbox": [
           {
            "marker": {
             "colorbar": {
              "outlinewidth": 0,
              "ticks": ""
             }
            },
            "type": "scattermapbox"
           }
          ],
          "scatterpolar": [
           {
            "marker": {
             "colorbar": {
              "outlinewidth": 0,
              "ticks": ""
             }
            },
            "type": "scatterpolar"
           }
          ],
          "scatterpolargl": [
           {
            "marker": {
             "colorbar": {
              "outlinewidth": 0,
              "ticks": ""
             }
            },
            "type": "scatterpolargl"
           }
          ],
          "scatterternary": [
           {
            "marker": {
             "colorbar": {
              "outlinewidth": 0,
              "ticks": ""
             }
            },
            "type": "scatterternary"
           }
          ],
          "surface": [
           {
            "colorbar": {
             "outlinewidth": 0,
             "ticks": ""
            },
            "colorscale": [
             [
              0,
              "#0d0887"
             ],
             [
              0.1111111111111111,
              "#46039f"
             ],
             [
              0.2222222222222222,
              "#7201a8"
             ],
             [
              0.3333333333333333,
              "#9c179e"
             ],
             [
              0.4444444444444444,
              "#bd3786"
             ],
             [
              0.5555555555555556,
              "#d8576b"
             ],
             [
              0.6666666666666666,
              "#ed7953"
             ],
             [
              0.7777777777777778,
              "#fb9f3a"
             ],
             [
              0.8888888888888888,
              "#fdca26"
             ],
             [
              1,
              "#f0f921"
             ]
            ],
            "type": "surface"
           }
          ],
          "table": [
           {
            "cells": {
             "fill": {
              "color": "#EBF0F8"
             },
             "line": {
              "color": "white"
             }
            },
            "header": {
             "fill": {
              "color": "#C8D4E3"
             },
             "line": {
              "color": "white"
             }
            },
            "type": "table"
           }
          ]
         },
         "layout": {
          "annotationdefaults": {
           "arrowcolor": "#2a3f5f",
           "arrowhead": 0,
           "arrowwidth": 1
          },
          "autotypenumbers": "strict",
          "coloraxis": {
           "colorbar": {
            "outlinewidth": 0,
            "ticks": ""
           }
          },
          "colorscale": {
           "diverging": [
            [
             0,
             "#8e0152"
            ],
            [
             0.1,
             "#c51b7d"
            ],
            [
             0.2,
             "#de77ae"
            ],
            [
             0.3,
             "#f1b6da"
            ],
            [
             0.4,
             "#fde0ef"
            ],
            [
             0.5,
             "#f7f7f7"
            ],
            [
             0.6,
             "#e6f5d0"
            ],
            [
             0.7,
             "#b8e186"
            ],
            [
             0.8,
             "#7fbc41"
            ],
            [
             0.9,
             "#4d9221"
            ],
            [
             1,
             "#276419"
            ]
           ],
           "sequential": [
            [
             0,
             "#0d0887"
            ],
            [
             0.1111111111111111,
             "#46039f"
            ],
            [
             0.2222222222222222,
             "#7201a8"
            ],
            [
             0.3333333333333333,
             "#9c179e"
            ],
            [
             0.4444444444444444,
             "#bd3786"
            ],
            [
             0.5555555555555556,
             "#d8576b"
            ],
            [
             0.6666666666666666,
             "#ed7953"
            ],
            [
             0.7777777777777778,
             "#fb9f3a"
            ],
            [
             0.8888888888888888,
             "#fdca26"
            ],
            [
             1,
             "#f0f921"
            ]
           ],
           "sequentialminus": [
            [
             0,
             "#0d0887"
            ],
            [
             0.1111111111111111,
             "#46039f"
            ],
            [
             0.2222222222222222,
             "#7201a8"
            ],
            [
             0.3333333333333333,
             "#9c179e"
            ],
            [
             0.4444444444444444,
             "#bd3786"
            ],
            [
             0.5555555555555556,
             "#d8576b"
            ],
            [
             0.6666666666666666,
             "#ed7953"
            ],
            [
             0.7777777777777778,
             "#fb9f3a"
            ],
            [
             0.8888888888888888,
             "#fdca26"
            ],
            [
             1,
             "#f0f921"
            ]
           ]
          },
          "colorway": [
           "#636efa",
           "#EF553B",
           "#00cc96",
           "#ab63fa",
           "#FFA15A",
           "#19d3f3",
           "#FF6692",
           "#B6E880",
           "#FF97FF",
           "#FECB52"
          ],
          "font": {
           "color": "#2a3f5f"
          },
          "geo": {
           "bgcolor": "white",
           "lakecolor": "white",
           "landcolor": "#E5ECF6",
           "showlakes": true,
           "showland": true,
           "subunitcolor": "white"
          },
          "hoverlabel": {
           "align": "left"
          },
          "hovermode": "closest",
          "mapbox": {
           "style": "light"
          },
          "paper_bgcolor": "white",
          "plot_bgcolor": "#E5ECF6",
          "polar": {
           "angularaxis": {
            "gridcolor": "white",
            "linecolor": "white",
            "ticks": ""
           },
           "bgcolor": "#E5ECF6",
           "radialaxis": {
            "gridcolor": "white",
            "linecolor": "white",
            "ticks": ""
           }
          },
          "scene": {
           "xaxis": {
            "backgroundcolor": "#E5ECF6",
            "gridcolor": "white",
            "gridwidth": 2,
            "linecolor": "white",
            "showbackground": true,
            "ticks": "",
            "zerolinecolor": "white"
           },
           "yaxis": {
            "backgroundcolor": "#E5ECF6",
            "gridcolor": "white",
            "gridwidth": 2,
            "linecolor": "white",
            "showbackground": true,
            "ticks": "",
            "zerolinecolor": "white"
           },
           "zaxis": {
            "backgroundcolor": "#E5ECF6",
            "gridcolor": "white",
            "gridwidth": 2,
            "linecolor": "white",
            "showbackground": true,
            "ticks": "",
            "zerolinecolor": "white"
           }
          },
          "shapedefaults": {
           "line": {
            "color": "#2a3f5f"
           }
          },
          "ternary": {
           "aaxis": {
            "gridcolor": "white",
            "linecolor": "white",
            "ticks": ""
           },
           "baxis": {
            "gridcolor": "white",
            "linecolor": "white",
            "ticks": ""
           },
           "bgcolor": "#E5ECF6",
           "caxis": {
            "gridcolor": "white",
            "linecolor": "white",
            "ticks": ""
           }
          },
          "title": {
           "x": 0.05
          },
          "xaxis": {
           "automargin": true,
           "gridcolor": "white",
           "linecolor": "white",
           "ticks": "",
           "title": {
            "standoff": 15
           },
           "zerolinecolor": "white",
           "zerolinewidth": 2
          },
          "yaxis": {
           "automargin": true,
           "gridcolor": "white",
           "linecolor": "white",
           "ticks": "",
           "title": {
            "standoff": 15
           },
           "zerolinecolor": "white",
           "zerolinewidth": 2
          }
         }
        },
        "width": 800,
        "xaxis": {
         "anchor": "y",
         "domain": [
          0,
          1
         ],
         "title": {
          "text": "Nama Kota"
         }
        },
        "yaxis": {
         "anchor": "x",
         "domain": [
          0,
          1
         ],
         "title": {
          "text": "count"
         }
        }
       }
      }
     },
     "metadata": {},
     "output_type": "display_data"
    },
    {
     "data": {
      "text/plain": [
       "<Figure size 432x216 with 0 Axes>"
      ]
     },
     "metadata": {},
     "output_type": "display_data"
    },
    {
     "data": {
      "text/plain": [
       "<Figure size 432x216 with 0 Axes>"
      ]
     },
     "metadata": {},
     "output_type": "display_data"
    },
    {
     "data": {
      "text/plain": [
       "<Figure size 432x216 with 0 Axes>"
      ]
     },
     "metadata": {},
     "output_type": "display_data"
    }
   ],
   "source": [
    "# Membuat barplot untuk tiap kolom kategorikal\n",
    "categorical_cols = ['Room Type','Nama Provinsi', 'Nama Kota']\n",
    "for items in categorical_cols:\n",
    "    plt.figure(figsize=(6,3))\n",
    "    fig = px.histogram(data, x=data[items],text_auto='.2s', color_discrete_sequence=px.colors.sequential.Aggrnyl, width=800, height=400)\n",
    "    fig.update_traces(textfont_size=12, textangle=0, textposition=\"outside\", cliponaxis=False)\n",
    "    fig.show()\n"
   ]
  },
  {
   "cell_type": "markdown",
   "metadata": {},
   "source": [
    "> Pada kolom Room Type, terdapat 5 kategori berbeda. Room type terbanyak pada data adalah deluxe room dengan jumlah sebanyak 490 data. Disusul oleh room dengan tipe standard. Dan terdapat value villa, sebanyak 57 data. Dan Suite yang merupakan kasta tertinggi suatu room type pada hotel hanya memiliki 68 data. Ini menunjukkan bahwa tipe standard atau deluxe mendominasi pada data. Sementara type superior yang merupakan kelas atau type room yang berada diantara deluxe dan standard, memiliki jumlah data yang lebih sedikit diantara keduanya."
   ]
  },
  {
   "cell_type": "markdown",
   "metadata": {},
   "source": [
    "> Pada kolom provinsi, pada data terbanyak adalah provinsi Bali, disusul oleh DKI Jakarta dan Jawa Barat. Dengan itu bisa kita simpulkan bahwa data yang kita gunakan sekarang merupakan data yang memiliki informasi mengenai hotel yang hanya berada di provinsi yang besar saja. "
   ]
  },
  {
   "cell_type": "markdown",
   "metadata": {},
   "source": [
    "> Lalu pada kolom nama kota, kabupaten Badung menjadi kabupaten yang memiliki jumlah hotel terbanyak pada data. Dengan jumlah 274 data, kita bisa katakan bahwa kabupaten badung tersebut merupakan kabupaten yang dijadikan tujuan bagi para wisatawan dengan jumlah hotel terbanyak diantara kabupaten lainnya pada dataset. "
   ]
  },
  {
   "cell_type": "markdown",
   "metadata": {},
   "source": [
    "> Mari kita lihat bagaimana persebaran hotel berdasarkan bintang pada kota badung."
   ]
  },
  {
   "cell_type": "code",
   "execution_count": 10,
   "metadata": {},
   "outputs": [
    {
     "data": {
      "text/html": [
       "<div>\n",
       "<style scoped>\n",
       "    .dataframe tbody tr th:only-of-type {\n",
       "        vertical-align: middle;\n",
       "    }\n",
       "\n",
       "    .dataframe tbody tr th {\n",
       "        vertical-align: top;\n",
       "    }\n",
       "\n",
       "    .dataframe thead th {\n",
       "        text-align: right;\n",
       "    }\n",
       "</style>\n",
       "<table border=\"1\" class=\"dataframe\">\n",
       "  <thead>\n",
       "    <tr style=\"text-align: right;\">\n",
       "      <th></th>\n",
       "      <th>Nama Hotel</th>\n",
       "      <th>Alamat Hotel</th>\n",
       "      <th>Nama Kota</th>\n",
       "      <th>Nama Provinsi</th>\n",
       "      <th>Room Type</th>\n",
       "      <th>Deskripsi Room</th>\n",
       "      <th>Rating</th>\n",
       "      <th>Stars</th>\n",
       "      <th>Gambar</th>\n",
       "      <th>lat</th>\n",
       "      <th>long</th>\n",
       "    </tr>\n",
       "  </thead>\n",
       "  <tbody>\n",
       "    <tr>\n",
       "      <th>0</th>\n",
       "      <td>Ananta Legian Hotel</td>\n",
       "      <td>Jalan Wekudara No.539, Legian, Badung - Bali, ...</td>\n",
       "      <td>kabupaten badung</td>\n",
       "      <td>Bali</td>\n",
       "      <td>Deluxe</td>\n",
       "      <td>AC,Air Mineral,Kopi, Teh,Minibar,Televisi,Desk...</td>\n",
       "      <td>4.00</td>\n",
       "      <td>4</td>\n",
       "      <td>https://ik.imagekit.io/tvlk/generic-asset/dgXf...</td>\n",
       "      <td>-8.697605</td>\n",
       "      <td>115.164112</td>\n",
       "    </tr>\n",
       "    <tr>\n",
       "      <th>3</th>\n",
       "      <td>Hadi Poetra Hotel</td>\n",
       "      <td>Jalan Raya Kuta No.323 , Kuta Badung- Bali , K...</td>\n",
       "      <td>kabupaten badung</td>\n",
       "      <td>Bali</td>\n",
       "      <td>Deluxe</td>\n",
       "      <td>Ruang bebas asap rokok</td>\n",
       "      <td>4.02</td>\n",
       "      <td>3</td>\n",
       "      <td>https://ik.imagekit.io/tvlk/generic-asset/dgXf...</td>\n",
       "      <td>-8.728234</td>\n",
       "      <td>115.176679</td>\n",
       "    </tr>\n",
       "    <tr>\n",
       "      <th>6</th>\n",
       "      <td>Hideaway Villas Bali Uluwatu by Kanaan Hospita...</td>\n",
       "      <td>Jl. Bangbang Bendot Gang Hideaway, Uluwatu, Ku...</td>\n",
       "      <td>kabupaten badung</td>\n",
       "      <td>Bali</td>\n",
       "      <td>Standard</td>\n",
       "      <td>AC,Air Mineral,Kopi, Teh,Televisi,Desk,Brankas...</td>\n",
       "      <td>4.07</td>\n",
       "      <td>5</td>\n",
       "      <td>https://ik.imagekit.io/tvlk/generic-asset/dgXf...</td>\n",
       "      <td>-8.824969</td>\n",
       "      <td>115.136479</td>\n",
       "    </tr>\n",
       "    <tr>\n",
       "      <th>7</th>\n",
       "      <td>The Jayakarta Bali Beach Resort &amp; Spa</td>\n",
       "      <td>Jl. Werkudara, Legian, Kuta, Bali, Indonesia, ...</td>\n",
       "      <td>kabupaten badung</td>\n",
       "      <td>Bali</td>\n",
       "      <td>Standard</td>\n",
       "      <td>Akses internet</td>\n",
       "      <td>4.00</td>\n",
       "      <td>4</td>\n",
       "      <td>https://ik.imagekit.io/tvlk/generic-asset/dgXf...</td>\n",
       "      <td>-8.699500</td>\n",
       "      <td>115.167213</td>\n",
       "    </tr>\n",
       "    <tr>\n",
       "      <th>9</th>\n",
       "      <td>Rofa Kuta Hotel</td>\n",
       "      <td>Jalan Nakula Timur No.9, Legian, Kuta, Bali, I...</td>\n",
       "      <td>kabupaten badung</td>\n",
       "      <td>Bali</td>\n",
       "      <td>Superior</td>\n",
       "      <td>AC,Air Mineral,Kopi, Teh,Televisi,Desk</td>\n",
       "      <td>4.08</td>\n",
       "      <td>3</td>\n",
       "      <td>https://ik.imagekit.io/tvlk/generic-asset/dgXf...</td>\n",
       "      <td>-8.699033</td>\n",
       "      <td>115.175136</td>\n",
       "    </tr>\n",
       "    <tr>\n",
       "      <th>...</th>\n",
       "      <td>...</td>\n",
       "      <td>...</td>\n",
       "      <td>...</td>\n",
       "      <td>...</td>\n",
       "      <td>...</td>\n",
       "      <td>...</td>\n",
       "      <td>...</td>\n",
       "      <td>...</td>\n",
       "      <td>...</td>\n",
       "      <td>...</td>\n",
       "      <td>...</td>\n",
       "    </tr>\n",
       "    <tr>\n",
       "      <th>1373</th>\n",
       "      <td>The Legian 777</td>\n",
       "      <td>Jalan Patimura 777, Legian, Kuta, Bali, Indone...</td>\n",
       "      <td>kabupaten badung</td>\n",
       "      <td>Bali</td>\n",
       "      <td>Standard</td>\n",
       "      <td>Ruang bebas asap rokok</td>\n",
       "      <td>3.12</td>\n",
       "      <td>3</td>\n",
       "      <td>https://ik.imagekit.io/tvlk/generic-asset/dgXf...</td>\n",
       "      <td>-8.712013</td>\n",
       "      <td>115.173939</td>\n",
       "    </tr>\n",
       "    <tr>\n",
       "      <th>1374</th>\n",
       "      <td>The Yogasari Seminyak</td>\n",
       "      <td>Jalan Dewi Saraswati III, Block IIA, No.9, Sem...</td>\n",
       "      <td>kabupaten badung</td>\n",
       "      <td>Bali</td>\n",
       "      <td>Villa</td>\n",
       "      <td>AC,Air Mineral,Kopi, Teh,Kulkas,Televisi,Desk,...</td>\n",
       "      <td>4.08</td>\n",
       "      <td>4</td>\n",
       "      <td>https://ik.imagekit.io/tvlk/generic-asset/dgXf...</td>\n",
       "      <td>-8.686054</td>\n",
       "      <td>115.174345</td>\n",
       "    </tr>\n",
       "    <tr>\n",
       "      <th>1375</th>\n",
       "      <td>18 Suite Villa Deluxe</td>\n",
       "      <td>Jalan Kartika Plaza Gang Pudak Sari, Kuta, Bad...</td>\n",
       "      <td>kabupaten badung</td>\n",
       "      <td>Bali</td>\n",
       "      <td>Deluxe</td>\n",
       "      <td>AC,Kipas angin,Air Mineral,In-house movie,Kopi...</td>\n",
       "      <td>4.08</td>\n",
       "      <td>4</td>\n",
       "      <td>https://ik.imagekit.io/tvlk/generic-asset/dgXf...</td>\n",
       "      <td>-8.731517</td>\n",
       "      <td>115.169121</td>\n",
       "    </tr>\n",
       "    <tr>\n",
       "      <th>1376</th>\n",
       "      <td>Vico Hotel</td>\n",
       "      <td>Jalan Pratama 81 Bidadari Line, Nusa Dua, Tanj...</td>\n",
       "      <td>kabupaten badung</td>\n",
       "      <td>Bali</td>\n",
       "      <td>Standard</td>\n",
       "      <td>Ruang bebas asap rokok</td>\n",
       "      <td>4.42</td>\n",
       "      <td>1</td>\n",
       "      <td>https://ik.imagekit.io/tvlk/generic-asset/dgXf...</td>\n",
       "      <td>-8.756105</td>\n",
       "      <td>115.221540</td>\n",
       "    </tr>\n",
       "    <tr>\n",
       "      <th>1381</th>\n",
       "      <td>Asher Bali Transit</td>\n",
       "      <td>Jalan Bandara Ngurah Rai Baru No 1 Tuban, Tuba...</td>\n",
       "      <td>kabupaten badung</td>\n",
       "      <td>Bali</td>\n",
       "      <td>Superior</td>\n",
       "      <td>AC,Air Mineral,Televisi,Desk,Blackout curtains</td>\n",
       "      <td>4.43</td>\n",
       "      <td>2</td>\n",
       "      <td>https://ik.imagekit.io/tvlk/generic-asset/dgXf...</td>\n",
       "      <td>-8.743195</td>\n",
       "      <td>115.180024</td>\n",
       "    </tr>\n",
       "  </tbody>\n",
       "</table>\n",
       "<p>274 rows × 11 columns</p>\n",
       "</div>"
      ],
      "text/plain": [
       "                                             Nama Hotel  \\\n",
       "0                                   Ananta Legian Hotel   \n",
       "3                                     Hadi Poetra Hotel   \n",
       "6     Hideaway Villas Bali Uluwatu by Kanaan Hospita...   \n",
       "7                 The Jayakarta Bali Beach Resort & Spa   \n",
       "9                                       Rofa Kuta Hotel   \n",
       "...                                                 ...   \n",
       "1373                                     The Legian 777   \n",
       "1374                              The Yogasari Seminyak   \n",
       "1375                              18 Suite Villa Deluxe   \n",
       "1376                                         Vico Hotel   \n",
       "1381                                 Asher Bali Transit   \n",
       "\n",
       "                                           Alamat Hotel         Nama Kota  \\\n",
       "0     Jalan Wekudara No.539, Legian, Badung - Bali, ...  kabupaten badung   \n",
       "3     Jalan Raya Kuta No.323 , Kuta Badung- Bali , K...  kabupaten badung   \n",
       "6     Jl. Bangbang Bendot Gang Hideaway, Uluwatu, Ku...  kabupaten badung   \n",
       "7     Jl. Werkudara, Legian, Kuta, Bali, Indonesia, ...  kabupaten badung   \n",
       "9     Jalan Nakula Timur No.9, Legian, Kuta, Bali, I...  kabupaten badung   \n",
       "...                                                 ...               ...   \n",
       "1373  Jalan Patimura 777, Legian, Kuta, Bali, Indone...  kabupaten badung   \n",
       "1374  Jalan Dewi Saraswati III, Block IIA, No.9, Sem...  kabupaten badung   \n",
       "1375  Jalan Kartika Plaza Gang Pudak Sari, Kuta, Bad...  kabupaten badung   \n",
       "1376  Jalan Pratama 81 Bidadari Line, Nusa Dua, Tanj...  kabupaten badung   \n",
       "1381  Jalan Bandara Ngurah Rai Baru No 1 Tuban, Tuba...  kabupaten badung   \n",
       "\n",
       "     Nama Provinsi Room Type  \\\n",
       "0             Bali    Deluxe   \n",
       "3             Bali    Deluxe   \n",
       "6             Bali  Standard   \n",
       "7             Bali  Standard   \n",
       "9             Bali  Superior   \n",
       "...            ...       ...   \n",
       "1373          Bali  Standard   \n",
       "1374          Bali     Villa   \n",
       "1375          Bali    Deluxe   \n",
       "1376          Bali  Standard   \n",
       "1381          Bali  Superior   \n",
       "\n",
       "                                         Deskripsi Room  Rating  Stars  \\\n",
       "0     AC,Air Mineral,Kopi, Teh,Minibar,Televisi,Desk...    4.00      4   \n",
       "3                                Ruang bebas asap rokok    4.02      3   \n",
       "6     AC,Air Mineral,Kopi, Teh,Televisi,Desk,Brankas...    4.07      5   \n",
       "7                                        Akses internet    4.00      4   \n",
       "9                AC,Air Mineral,Kopi, Teh,Televisi,Desk    4.08      3   \n",
       "...                                                 ...     ...    ...   \n",
       "1373                             Ruang bebas asap rokok    3.12      3   \n",
       "1374  AC,Air Mineral,Kopi, Teh,Kulkas,Televisi,Desk,...    4.08      4   \n",
       "1375  AC,Kipas angin,Air Mineral,In-house movie,Kopi...    4.08      4   \n",
       "1376                             Ruang bebas asap rokok    4.42      1   \n",
       "1381     AC,Air Mineral,Televisi,Desk,Blackout curtains    4.43      2   \n",
       "\n",
       "                                                 Gambar       lat        long  \n",
       "0     https://ik.imagekit.io/tvlk/generic-asset/dgXf... -8.697605  115.164112  \n",
       "3     https://ik.imagekit.io/tvlk/generic-asset/dgXf... -8.728234  115.176679  \n",
       "6     https://ik.imagekit.io/tvlk/generic-asset/dgXf... -8.824969  115.136479  \n",
       "7     https://ik.imagekit.io/tvlk/generic-asset/dgXf... -8.699500  115.167213  \n",
       "9     https://ik.imagekit.io/tvlk/generic-asset/dgXf... -8.699033  115.175136  \n",
       "...                                                 ...       ...         ...  \n",
       "1373  https://ik.imagekit.io/tvlk/generic-asset/dgXf... -8.712013  115.173939  \n",
       "1374  https://ik.imagekit.io/tvlk/generic-asset/dgXf... -8.686054  115.174345  \n",
       "1375  https://ik.imagekit.io/tvlk/generic-asset/dgXf... -8.731517  115.169121  \n",
       "1376  https://ik.imagekit.io/tvlk/generic-asset/dgXf... -8.756105  115.221540  \n",
       "1381  https://ik.imagekit.io/tvlk/generic-asset/dgXf... -8.743195  115.180024  \n",
       "\n",
       "[274 rows x 11 columns]"
      ]
     },
     "execution_count": 10,
     "metadata": {},
     "output_type": "execute_result"
    }
   ],
   "source": [
    "dataexp = data.copy()\n",
    "dataexp = dataexp[dataexp['Nama Kota']=='kabupaten badung']\n",
    "dataexp"
   ]
  },
  {
   "cell_type": "code",
   "execution_count": 11,
   "metadata": {},
   "outputs": [],
   "source": [
    "# Membuat dataset berdasarkan room type\n",
    "dataexp = pd.DataFrame(dataexp.groupby(by='Room Type')[['Room Type']].count().rename(columns={'Room Type': 'count'}))\n",
    "dataexp.reset_index(inplace=True)"
   ]
  },
  {
   "cell_type": "code",
   "execution_count": 18,
   "metadata": {},
   "outputs": [
    {
     "data": {
      "application/vnd.plotly.v1+json": {
       "config": {
        "plotlyServerURL": "https://plot.ly"
       },
       "data": [
        {
         "domain": {
          "x": [
           0,
           1
          ],
          "y": [
           0,
           1
          ]
         },
         "hole": 0.3,
         "hovertemplate": "Room Type=%{label}<br>count=%{value}<extra></extra>",
         "labels": [
          "Deluxe",
          "Standard",
          "Suite",
          "Superior",
          "Villa"
         ],
         "legendgroup": "",
         "name": "",
         "showlegend": true,
         "type": "pie",
         "values": [
          115,
          47,
          13,
          81,
          18
         ]
        }
       ],
       "layout": {
        "legend": {
         "tracegroupgap": 0
        },
        "piecolorway": [
         "rgb(36, 86, 104)",
         "rgb(15, 114, 121)",
         "rgb(13, 143, 129)",
         "rgb(57, 171, 126)",
         "rgb(110, 197, 116)",
         "rgb(169, 220, 103)",
         "rgb(237, 239, 93)"
        ],
        "template": {
         "data": {
          "bar": [
           {
            "error_x": {
             "color": "#2a3f5f"
            },
            "error_y": {
             "color": "#2a3f5f"
            },
            "marker": {
             "line": {
              "color": "#E5ECF6",
              "width": 0.5
             },
             "pattern": {
              "fillmode": "overlay",
              "size": 10,
              "solidity": 0.2
             }
            },
            "type": "bar"
           }
          ],
          "barpolar": [
           {
            "marker": {
             "line": {
              "color": "#E5ECF6",
              "width": 0.5
             },
             "pattern": {
              "fillmode": "overlay",
              "size": 10,
              "solidity": 0.2
             }
            },
            "type": "barpolar"
           }
          ],
          "carpet": [
           {
            "aaxis": {
             "endlinecolor": "#2a3f5f",
             "gridcolor": "white",
             "linecolor": "white",
             "minorgridcolor": "white",
             "startlinecolor": "#2a3f5f"
            },
            "baxis": {
             "endlinecolor": "#2a3f5f",
             "gridcolor": "white",
             "linecolor": "white",
             "minorgridcolor": "white",
             "startlinecolor": "#2a3f5f"
            },
            "type": "carpet"
           }
          ],
          "choropleth": [
           {
            "colorbar": {
             "outlinewidth": 0,
             "ticks": ""
            },
            "type": "choropleth"
           }
          ],
          "contour": [
           {
            "colorbar": {
             "outlinewidth": 0,
             "ticks": ""
            },
            "colorscale": [
             [
              0,
              "#0d0887"
             ],
             [
              0.1111111111111111,
              "#46039f"
             ],
             [
              0.2222222222222222,
              "#7201a8"
             ],
             [
              0.3333333333333333,
              "#9c179e"
             ],
             [
              0.4444444444444444,
              "#bd3786"
             ],
             [
              0.5555555555555556,
              "#d8576b"
             ],
             [
              0.6666666666666666,
              "#ed7953"
             ],
             [
              0.7777777777777778,
              "#fb9f3a"
             ],
             [
              0.8888888888888888,
              "#fdca26"
             ],
             [
              1,
              "#f0f921"
             ]
            ],
            "type": "contour"
           }
          ],
          "contourcarpet": [
           {
            "colorbar": {
             "outlinewidth": 0,
             "ticks": ""
            },
            "type": "contourcarpet"
           }
          ],
          "heatmap": [
           {
            "colorbar": {
             "outlinewidth": 0,
             "ticks": ""
            },
            "colorscale": [
             [
              0,
              "#0d0887"
             ],
             [
              0.1111111111111111,
              "#46039f"
             ],
             [
              0.2222222222222222,
              "#7201a8"
             ],
             [
              0.3333333333333333,
              "#9c179e"
             ],
             [
              0.4444444444444444,
              "#bd3786"
             ],
             [
              0.5555555555555556,
              "#d8576b"
             ],
             [
              0.6666666666666666,
              "#ed7953"
             ],
             [
              0.7777777777777778,
              "#fb9f3a"
             ],
             [
              0.8888888888888888,
              "#fdca26"
             ],
             [
              1,
              "#f0f921"
             ]
            ],
            "type": "heatmap"
           }
          ],
          "heatmapgl": [
           {
            "colorbar": {
             "outlinewidth": 0,
             "ticks": ""
            },
            "colorscale": [
             [
              0,
              "#0d0887"
             ],
             [
              0.1111111111111111,
              "#46039f"
             ],
             [
              0.2222222222222222,
              "#7201a8"
             ],
             [
              0.3333333333333333,
              "#9c179e"
             ],
             [
              0.4444444444444444,
              "#bd3786"
             ],
             [
              0.5555555555555556,
              "#d8576b"
             ],
             [
              0.6666666666666666,
              "#ed7953"
             ],
             [
              0.7777777777777778,
              "#fb9f3a"
             ],
             [
              0.8888888888888888,
              "#fdca26"
             ],
             [
              1,
              "#f0f921"
             ]
            ],
            "type": "heatmapgl"
           }
          ],
          "histogram": [
           {
            "marker": {
             "pattern": {
              "fillmode": "overlay",
              "size": 10,
              "solidity": 0.2
             }
            },
            "type": "histogram"
           }
          ],
          "histogram2d": [
           {
            "colorbar": {
             "outlinewidth": 0,
             "ticks": ""
            },
            "colorscale": [
             [
              0,
              "#0d0887"
             ],
             [
              0.1111111111111111,
              "#46039f"
             ],
             [
              0.2222222222222222,
              "#7201a8"
             ],
             [
              0.3333333333333333,
              "#9c179e"
             ],
             [
              0.4444444444444444,
              "#bd3786"
             ],
             [
              0.5555555555555556,
              "#d8576b"
             ],
             [
              0.6666666666666666,
              "#ed7953"
             ],
             [
              0.7777777777777778,
              "#fb9f3a"
             ],
             [
              0.8888888888888888,
              "#fdca26"
             ],
             [
              1,
              "#f0f921"
             ]
            ],
            "type": "histogram2d"
           }
          ],
          "histogram2dcontour": [
           {
            "colorbar": {
             "outlinewidth": 0,
             "ticks": ""
            },
            "colorscale": [
             [
              0,
              "#0d0887"
             ],
             [
              0.1111111111111111,
              "#46039f"
             ],
             [
              0.2222222222222222,
              "#7201a8"
             ],
             [
              0.3333333333333333,
              "#9c179e"
             ],
             [
              0.4444444444444444,
              "#bd3786"
             ],
             [
              0.5555555555555556,
              "#d8576b"
             ],
             [
              0.6666666666666666,
              "#ed7953"
             ],
             [
              0.7777777777777778,
              "#fb9f3a"
             ],
             [
              0.8888888888888888,
              "#fdca26"
             ],
             [
              1,
              "#f0f921"
             ]
            ],
            "type": "histogram2dcontour"
           }
          ],
          "mesh3d": [
           {
            "colorbar": {
             "outlinewidth": 0,
             "ticks": ""
            },
            "type": "mesh3d"
           }
          ],
          "parcoords": [
           {
            "line": {
             "colorbar": {
              "outlinewidth": 0,
              "ticks": ""
             }
            },
            "type": "parcoords"
           }
          ],
          "pie": [
           {
            "automargin": true,
            "type": "pie"
           }
          ],
          "scatter": [
           {
            "marker": {
             "colorbar": {
              "outlinewidth": 0,
              "ticks": ""
             }
            },
            "type": "scatter"
           }
          ],
          "scatter3d": [
           {
            "line": {
             "colorbar": {
              "outlinewidth": 0,
              "ticks": ""
             }
            },
            "marker": {
             "colorbar": {
              "outlinewidth": 0,
              "ticks": ""
             }
            },
            "type": "scatter3d"
           }
          ],
          "scattercarpet": [
           {
            "marker": {
             "colorbar": {
              "outlinewidth": 0,
              "ticks": ""
             }
            },
            "type": "scattercarpet"
           }
          ],
          "scattergeo": [
           {
            "marker": {
             "colorbar": {
              "outlinewidth": 0,
              "ticks": ""
             }
            },
            "type": "scattergeo"
           }
          ],
          "scattergl": [
           {
            "marker": {
             "colorbar": {
              "outlinewidth": 0,
              "ticks": ""
             }
            },
            "type": "scattergl"
           }
          ],
          "scattermapbox": [
           {
            "marker": {
             "colorbar": {
              "outlinewidth": 0,
              "ticks": ""
             }
            },
            "type": "scattermapbox"
           }
          ],
          "scatterpolar": [
           {
            "marker": {
             "colorbar": {
              "outlinewidth": 0,
              "ticks": ""
             }
            },
            "type": "scatterpolar"
           }
          ],
          "scatterpolargl": [
           {
            "marker": {
             "colorbar": {
              "outlinewidth": 0,
              "ticks": ""
             }
            },
            "type": "scatterpolargl"
           }
          ],
          "scatterternary": [
           {
            "marker": {
             "colorbar": {
              "outlinewidth": 0,
              "ticks": ""
             }
            },
            "type": "scatterternary"
           }
          ],
          "surface": [
           {
            "colorbar": {
             "outlinewidth": 0,
             "ticks": ""
            },
            "colorscale": [
             [
              0,
              "#0d0887"
             ],
             [
              0.1111111111111111,
              "#46039f"
             ],
             [
              0.2222222222222222,
              "#7201a8"
             ],
             [
              0.3333333333333333,
              "#9c179e"
             ],
             [
              0.4444444444444444,
              "#bd3786"
             ],
             [
              0.5555555555555556,
              "#d8576b"
             ],
             [
              0.6666666666666666,
              "#ed7953"
             ],
             [
              0.7777777777777778,
              "#fb9f3a"
             ],
             [
              0.8888888888888888,
              "#fdca26"
             ],
             [
              1,
              "#f0f921"
             ]
            ],
            "type": "surface"
           }
          ],
          "table": [
           {
            "cells": {
             "fill": {
              "color": "#EBF0F8"
             },
             "line": {
              "color": "white"
             }
            },
            "header": {
             "fill": {
              "color": "#C8D4E3"
             },
             "line": {
              "color": "white"
             }
            },
            "type": "table"
           }
          ]
         },
         "layout": {
          "annotationdefaults": {
           "arrowcolor": "#2a3f5f",
           "arrowhead": 0,
           "arrowwidth": 1
          },
          "autotypenumbers": "strict",
          "coloraxis": {
           "colorbar": {
            "outlinewidth": 0,
            "ticks": ""
           }
          },
          "colorscale": {
           "diverging": [
            [
             0,
             "#8e0152"
            ],
            [
             0.1,
             "#c51b7d"
            ],
            [
             0.2,
             "#de77ae"
            ],
            [
             0.3,
             "#f1b6da"
            ],
            [
             0.4,
             "#fde0ef"
            ],
            [
             0.5,
             "#f7f7f7"
            ],
            [
             0.6,
             "#e6f5d0"
            ],
            [
             0.7,
             "#b8e186"
            ],
            [
             0.8,
             "#7fbc41"
            ],
            [
             0.9,
             "#4d9221"
            ],
            [
             1,
             "#276419"
            ]
           ],
           "sequential": [
            [
             0,
             "#0d0887"
            ],
            [
             0.1111111111111111,
             "#46039f"
            ],
            [
             0.2222222222222222,
             "#7201a8"
            ],
            [
             0.3333333333333333,
             "#9c179e"
            ],
            [
             0.4444444444444444,
             "#bd3786"
            ],
            [
             0.5555555555555556,
             "#d8576b"
            ],
            [
             0.6666666666666666,
             "#ed7953"
            ],
            [
             0.7777777777777778,
             "#fb9f3a"
            ],
            [
             0.8888888888888888,
             "#fdca26"
            ],
            [
             1,
             "#f0f921"
            ]
           ],
           "sequentialminus": [
            [
             0,
             "#0d0887"
            ],
            [
             0.1111111111111111,
             "#46039f"
            ],
            [
             0.2222222222222222,
             "#7201a8"
            ],
            [
             0.3333333333333333,
             "#9c179e"
            ],
            [
             0.4444444444444444,
             "#bd3786"
            ],
            [
             0.5555555555555556,
             "#d8576b"
            ],
            [
             0.6666666666666666,
             "#ed7953"
            ],
            [
             0.7777777777777778,
             "#fb9f3a"
            ],
            [
             0.8888888888888888,
             "#fdca26"
            ],
            [
             1,
             "#f0f921"
            ]
           ]
          },
          "colorway": [
           "#636efa",
           "#EF553B",
           "#00cc96",
           "#ab63fa",
           "#FFA15A",
           "#19d3f3",
           "#FF6692",
           "#B6E880",
           "#FF97FF",
           "#FECB52"
          ],
          "font": {
           "color": "#2a3f5f"
          },
          "geo": {
           "bgcolor": "white",
           "lakecolor": "white",
           "landcolor": "#E5ECF6",
           "showlakes": true,
           "showland": true,
           "subunitcolor": "white"
          },
          "hoverlabel": {
           "align": "left"
          },
          "hovermode": "closest",
          "mapbox": {
           "style": "light"
          },
          "paper_bgcolor": "white",
          "plot_bgcolor": "#E5ECF6",
          "polar": {
           "angularaxis": {
            "gridcolor": "white",
            "linecolor": "white",
            "ticks": ""
           },
           "bgcolor": "#E5ECF6",
           "radialaxis": {
            "gridcolor": "white",
            "linecolor": "white",
            "ticks": ""
           }
          },
          "scene": {
           "xaxis": {
            "backgroundcolor": "#E5ECF6",
            "gridcolor": "white",
            "gridwidth": 2,
            "linecolor": "white",
            "showbackground": true,
            "ticks": "",
            "zerolinecolor": "white"
           },
           "yaxis": {
            "backgroundcolor": "#E5ECF6",
            "gridcolor": "white",
            "gridwidth": 2,
            "linecolor": "white",
            "showbackground": true,
            "ticks": "",
            "zerolinecolor": "white"
           },
           "zaxis": {
            "backgroundcolor": "#E5ECF6",
            "gridcolor": "white",
            "gridwidth": 2,
            "linecolor": "white",
            "showbackground": true,
            "ticks": "",
            "zerolinecolor": "white"
           }
          },
          "shapedefaults": {
           "line": {
            "color": "#2a3f5f"
           }
          },
          "ternary": {
           "aaxis": {
            "gridcolor": "white",
            "linecolor": "white",
            "ticks": ""
           },
           "baxis": {
            "gridcolor": "white",
            "linecolor": "white",
            "ticks": ""
           },
           "bgcolor": "#E5ECF6",
           "caxis": {
            "gridcolor": "white",
            "linecolor": "white",
            "ticks": ""
           }
          },
          "title": {
           "x": 0.05
          },
          "xaxis": {
           "automargin": true,
           "gridcolor": "white",
           "linecolor": "white",
           "ticks": "",
           "title": {
            "standoff": 15
           },
           "zerolinecolor": "white",
           "zerolinewidth": 2
          },
          "yaxis": {
           "automargin": true,
           "gridcolor": "white",
           "linecolor": "white",
           "ticks": "",
           "title": {
            "standoff": 15
           },
           "zerolinecolor": "white",
           "zerolinewidth": 2
          }
         }
        },
        "title": {
         "text": "Perbandingan jumlah Room Type di Kabupaten Badung"
        }
       }
      }
     },
     "metadata": {},
     "output_type": "display_data"
    }
   ],
   "source": [
    "# Melihat proporsi room type \n",
    "fig = px.pie(dataexp, values='count',names='Room Type', title='Perbandingan jumlah Room Type di Kabupaten Badung', color_discrete_sequence=px.colors.sequential.Aggrnyl)\n",
    "fig.update_traces(hole=.3)\n",
    "fig.show()"
   ]
  },
  {
   "cell_type": "markdown",
   "metadata": {},
   "source": [
    "> Bisa kita lihat bahwa di Kabupaten Badung Room Type Deluxe merupakan kategori terbanyak yang ada di Hotel di Kabupaten Badung. Disusul dengan tipe superior dengan jumlah 81. Disini kita bisa mengetahui bahwa hotel-hotel yang berada di Kabupaten Badung, merupakan hotel yang memiliki room type yang cukup mewah, mengingat Deluxe merupakan room type yang 1 level dibawah suite."
   ]
  },
  {
   "cell_type": "markdown",
   "metadata": {},
   "source": [
    "> Mari kita lihat sebaran dari rating pada kabupaten tersebut"
   ]
  },
  {
   "cell_type": "markdown",
   "metadata": {},
   "source": [
    "n\n",
    "n\\hd\\ataexp = data.copy()\n",
    "dataexp = dataexp[dataexp['Nama Kota']=='kabupaten badung']\n",
    "sns.histplot(dataexp['Rating'], bins=30)"
   ]
  },
  {
   "cell_type": "markdown",
   "metadata": {},
   "source": [
    "Jika kita melihat diagram batang diatas, hotel-hotel yang berada di Kabupaten Badung memang memiliki rating yang cukup baik, dimana rata-rata rating kebanyakan berada pada nilai 4 atau lebih besar."
   ]
  }
 ],
 "metadata": {
  "kernelspec": {
   "display_name": "Python 3.9.12 ('base')",
   "language": "python",
   "name": "python3"
  },
  "language_info": {
   "codemirror_mode": {
    "name": "ipython",
    "version": 3
   },
   "file_extension": ".py",
   "mimetype": "text/x-python",
   "name": "python",
   "nbconvert_exporter": "python",
   "pygments_lexer": "ipython3",
   "version": "3.9.12"
  },
  "orig_nbformat": 4,
  "vscode": {
   "interpreter": {
    "hash": "ff4f85d6e04298634172ac5d8264e7e9b556b95639fe52ebb9425c4d4cba0c9c"
   }
  }
 },
 "nbformat": 4,
 "nbformat_minor": 2
}
