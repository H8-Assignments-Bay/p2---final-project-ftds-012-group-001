{
  "nbformat": 4,
  "nbformat_minor": 0,
  "metadata": {
    "colab": {
      "name": "fp.ipynb",
      "provenance": [],
      "collapsed_sections": [],
      "toc_visible": true
    },
    "kernelspec": {
      "name": "python3",
      "display_name": "Python 3"
    },
    "language_info": {
      "name": "python"
    }
  },
  "cells": [
    {
      "cell_type": "markdown",
      "source": [
        "# 1 - Perkenalan\n",
        "\n",
        "> Bab pengenalan harus diisi dengan identitas, query yang telah kalian buat pada Google Cloud Platform!, dan objective yang ingin dicapai."
      ],
      "metadata": {
        "id": "TXGYOj42Ys0h"
      }
    },
    {
      "cell_type": "markdown",
      "source": [
        "Nama : Fahmi Hamzah dan Hillidatul Ilmi\n",
        "\n",
        "Batch : FTDS-012\n",
        "\n",
        "Kelompok : Final Project Kelompok 1\n",
        "\n",
        "Dataset : Harga Hotel ClickSpace. Dataset ini berasal dari scarping data secara manual untuk pembuatan aplikasi website ClickSpace.\n",
        "\n",
        "Objective : Tujuan dari kumpulan data adalah untuk memprediksi harga hotel, berdasarkan pengukuran dari beberapa variabel fitur seperti Nama Hotel, Nama Kota, Provinsi, Latitude, Longitude, Luas Kamar, Kapasitas\tdan Rating. Berdasarkan hal ini, maka kami akan menanalisis kisaran harga hotel dengan metode Linear Regression."
      ],
      "metadata": {
        "id": "OwZjvquRaGzM"
      }
    },
    {
      "cell_type": "markdown",
      "source": [
        "# 2 - Import Libraries\n",
        "\n",
        "> Cell pertama pada notebook harus berisi dan hanya berisi semua library yang digunakan dalam project."
      ],
      "metadata": {
        "id": "vhURbvcnYw4c"
      }
    },
    {
      "cell_type": "code",
      "execution_count": 1,
      "metadata": {
        "colab": {
          "base_uri": "https://localhost:8080/"
        },
        "id": "bHL7_dHUYsGj",
        "outputId": "29c0a28e-1fde-4ec3-fddf-9fc2bef42989"
      },
      "outputs": [
        {
          "output_type": "stream",
          "name": "stdout",
          "text": [
            "Looking in indexes: https://pypi.org/simple, https://us-python.pkg.dev/colab-wheels/public/simple/\n",
            "Requirement already satisfied: folium in /usr/local/lib/python3.7/dist-packages (0.12.1.post1)\n",
            "Requirement already satisfied: branca>=0.3.0 in /usr/local/lib/python3.7/dist-packages (from folium) (0.5.0)\n",
            "Requirement already satisfied: requests in /usr/local/lib/python3.7/dist-packages (from folium) (2.23.0)\n",
            "Requirement already satisfied: jinja2>=2.9 in /usr/local/lib/python3.7/dist-packages (from folium) (2.11.3)\n",
            "Requirement already satisfied: numpy in /usr/local/lib/python3.7/dist-packages (from folium) (1.21.6)\n",
            "Requirement already satisfied: MarkupSafe>=0.23 in /usr/local/lib/python3.7/dist-packages (from jinja2>=2.9->folium) (2.0.1)\n",
            "Requirement already satisfied: urllib3!=1.25.0,!=1.25.1,<1.26,>=1.21.1 in /usr/local/lib/python3.7/dist-packages (from requests->folium) (1.24.3)\n",
            "Requirement already satisfied: certifi>=2017.4.17 in /usr/local/lib/python3.7/dist-packages (from requests->folium) (2022.6.15)\n",
            "Requirement already satisfied: idna<3,>=2.5 in /usr/local/lib/python3.7/dist-packages (from requests->folium) (2.10)\n",
            "Requirement already satisfied: chardet<4,>=3.0.2 in /usr/local/lib/python3.7/dist-packages (from requests->folium) (3.0.4)\n",
            "Looking in indexes: https://pypi.org/simple, https://us-python.pkg.dev/colab-wheels/public/simple/\n",
            "Requirement already satisfied: feature-engine in /usr/local/lib/python3.7/dist-packages (1.4.0)\n",
            "Requirement already satisfied: scikit-learn>=1.0.0 in /usr/local/lib/python3.7/dist-packages (from feature-engine) (1.0.2)\n",
            "Requirement already satisfied: numpy>=1.18.2 in /usr/local/lib/python3.7/dist-packages (from feature-engine) (1.21.6)\n",
            "Requirement already satisfied: scipy>=1.4.1 in /usr/local/lib/python3.7/dist-packages (from feature-engine) (1.7.3)\n",
            "Requirement already satisfied: pandas>=1.0.3 in /usr/local/lib/python3.7/dist-packages (from feature-engine) (1.3.5)\n",
            "Requirement already satisfied: statsmodels>=0.11.1 in /usr/local/lib/python3.7/dist-packages (from feature-engine) (0.13.2)\n",
            "Requirement already satisfied: python-dateutil>=2.7.3 in /usr/local/lib/python3.7/dist-packages (from pandas>=1.0.3->feature-engine) (2.8.2)\n",
            "Requirement already satisfied: pytz>=2017.3 in /usr/local/lib/python3.7/dist-packages (from pandas>=1.0.3->feature-engine) (2022.1)\n",
            "Requirement already satisfied: six>=1.5 in /usr/local/lib/python3.7/dist-packages (from python-dateutil>=2.7.3->pandas>=1.0.3->feature-engine) (1.15.0)\n",
            "Requirement already satisfied: joblib>=0.11 in /usr/local/lib/python3.7/dist-packages (from scikit-learn>=1.0.0->feature-engine) (1.1.0)\n",
            "Requirement already satisfied: threadpoolctl>=2.0.0 in /usr/local/lib/python3.7/dist-packages (from scikit-learn>=1.0.0->feature-engine) (3.1.0)\n",
            "Requirement already satisfied: packaging>=21.3 in /usr/local/lib/python3.7/dist-packages (from statsmodels>=0.11.1->feature-engine) (21.3)\n",
            "Requirement already satisfied: patsy>=0.5.2 in /usr/local/lib/python3.7/dist-packages (from statsmodels>=0.11.1->feature-engine) (0.5.2)\n",
            "Requirement already satisfied: pyparsing!=3.0.5,>=2.0.2 in /usr/local/lib/python3.7/dist-packages (from packaging>=21.3->statsmodels>=0.11.1->feature-engine) (3.0.9)\n"
          ]
        }
      ],
      "source": [
        "# Mendefinisikan Libraries\n",
        "\n",
        "# library memangil dataset dan data\n",
        "import pandas as pd\n",
        "import numpy as np \n",
        "\n",
        "# library visualisasi data \n",
        "!pip install folium\n",
        "import folium\n",
        "import matplotlib.pyplot as plt \n",
        "import seaborn as sns \n",
        "import plotly.express as px \n",
        "\n",
        "# library preprocessing data\n",
        "!pip install feature-engine\n",
        "from sklearn.model_selection import train_test_split \n",
        "from feature_engine.outliers import Winsorizer \n",
        "from sklearn.preprocessing import MinMaxScaler,OneHotEncoder,LabelEncoder\n",
        "from sklearn.compose import ColumnTransformer\n",
        "\n",
        "# library model algoritma\n",
        "from sklearn.linear_model import LinearRegression\n",
        "from sklearn.feature_selection import chi2,SelectKBest\n",
        "from sklearn.pipeline import Pipeline\n",
        "\n",
        "# librry evaluation model algoritma\n",
        "from sklearn.metrics import mean_absolute_error,mean_squared_error,r2_score\n",
        "import warnings\n",
        "warnings.filterwarnings('ignore')"
      ]
    },
    {
      "cell_type": "markdown",
      "source": [
        "library yang akan kami gunakan untuk mengerjakan final project mengenai harga hotel ini dari library numpy, pandas, matplotlib, seaborn dan beberapa modul sklearn yang bervariasi untuk penggunaan dalam mendukung jalannya suatu model."
      ],
      "metadata": {
        "id": "hvlrQfPweZem"
      }
    },
    {
      "cell_type": "markdown",
      "source": [
        "# 3 - Data Loading\n",
        "\n",
        "> Bagian ini berisi proses penyiapan data sebelum dilakukan eksplorasi data lebih lanjut. Proses Data Loading dapat berupa memberi nama baru untuk setiap kolom, mengecek ukuran dataset, dll."
      ],
      "metadata": {
        "id": "ytY04KJ6ZB7-"
      }
    },
    {
      "cell_type": "code",
      "source": [
        "# Menampilkan data yang akan digunakan dalam analisis atau memuat dari kumpulan data \n",
        "data = pd.read_csv('https://raw.githubusercontent.com/H8-Assignments-Bay/p2---final-project-ftds-012-group-001/main/dataset/detailhotel_modif.csv')\n",
        "data"
      ],
      "metadata": {
        "colab": {
          "base_uri": "https://localhost:8080/",
          "height": 606
        },
        "id": "LwnUuDh2ZJnf",
        "outputId": "d2f62b9c-44ae-4190-b20f-7de72e3fea1d"
      },
      "execution_count": 2,
      "outputs": [
        {
          "output_type": "execute_result",
          "data": {
            "text/plain": [
              "      Unnamed: 0                       Nama Hotel             Nama Kota  \\\n",
              "0              0                grandkemang Hotel  Kota Jakarta Selatan   \n",
              "1              1             Royal Kuningan Hotel  Kota Jakarta Selatan   \n",
              "2              2  The Grove Suites by GRAND ASTON  Kota Jakarta Selatan   \n",
              "3              3   Millennium Hotel Sirih Jakarta    Kota Jakarta Pusat   \n",
              "4              4          Aryaduta Suite Semanggi  Kota Jakarta Selatan   \n",
              "...          ...                              ...                   ...   \n",
              "1496        1496                PIA Hotel Cirebon          Kota Cirebon   \n",
              "1497        1497            Hotel Syariah Cordova          Kota Cirebon   \n",
              "1498        1498            Hotel Victory Cirebon     Kabupaten Cirebon   \n",
              "1499        1499           Aurora Hotel Siliwangi          Kota Cirebon   \n",
              "1500        1500  DEDY JAYA CILEDUG HOTEL CIREBON     Kabupaten Cirebon   \n",
              "\n",
              "                           Provinsi  Latitude   Longitude  Luas Kamar  \\\n",
              "0     Daerah Khusus Ibukota Jakarta -6.255564  106.810793          22   \n",
              "1     Daerah Khusus Ibukota Jakarta -6.209102  106.830704          30   \n",
              "2     Daerah Khusus Ibukota Jakarta -6.220000  106.835112          34   \n",
              "3     Daerah Khusus Ibukota Jakarta -6.180000  106.816708          30   \n",
              "4     Daerah Khusus Ibukota Jakarta -6.217762  106.816398          32   \n",
              "...                             ...       ...         ...         ...   \n",
              "1496                     Jawa Barat -6.709959  108.550699          15   \n",
              "1497                     Jawa Barat -6.704522  108.557343          38   \n",
              "1498                     Jawa Barat -6.710000  108.539290          17   \n",
              "1499                     Jawa Barat -6.707524  108.559091          35   \n",
              "1500                     Jawa Barat -6.906359  108.744844          20   \n",
              "\n",
              "      Kapasitas  Rating    Harga  \n",
              "0             3    4.03   543750  \n",
              "1             4    4.42   609768  \n",
              "2             2    4.58  1134955  \n",
              "3             1    4.05   764599  \n",
              "4             3    4.42  1057500  \n",
              "...         ...     ...      ...  \n",
              "1496          3    4.25   225000  \n",
              "1497          3    3.15   154630  \n",
              "1498          2    4.00   289750  \n",
              "1499          2    4.05   228000  \n",
              "1500          2    4.00   414000  \n",
              "\n",
              "[1501 rows x 10 columns]"
            ],
            "text/html": [
              "\n",
              "  <div id=\"df-579f5dc0-c8e3-4acf-83cf-792d0a5f56a0\">\n",
              "    <div class=\"colab-df-container\">\n",
              "      <div>\n",
              "<style scoped>\n",
              "    .dataframe tbody tr th:only-of-type {\n",
              "        vertical-align: middle;\n",
              "    }\n",
              "\n",
              "    .dataframe tbody tr th {\n",
              "        vertical-align: top;\n",
              "    }\n",
              "\n",
              "    .dataframe thead th {\n",
              "        text-align: right;\n",
              "    }\n",
              "</style>\n",
              "<table border=\"1\" class=\"dataframe\">\n",
              "  <thead>\n",
              "    <tr style=\"text-align: right;\">\n",
              "      <th></th>\n",
              "      <th>Unnamed: 0</th>\n",
              "      <th>Nama Hotel</th>\n",
              "      <th>Nama Kota</th>\n",
              "      <th>Provinsi</th>\n",
              "      <th>Latitude</th>\n",
              "      <th>Longitude</th>\n",
              "      <th>Luas Kamar</th>\n",
              "      <th>Kapasitas</th>\n",
              "      <th>Rating</th>\n",
              "      <th>Harga</th>\n",
              "    </tr>\n",
              "  </thead>\n",
              "  <tbody>\n",
              "    <tr>\n",
              "      <th>0</th>\n",
              "      <td>0</td>\n",
              "      <td>grandkemang Hotel</td>\n",
              "      <td>Kota Jakarta Selatan</td>\n",
              "      <td>Daerah Khusus Ibukota Jakarta</td>\n",
              "      <td>-6.255564</td>\n",
              "      <td>106.810793</td>\n",
              "      <td>22</td>\n",
              "      <td>3</td>\n",
              "      <td>4.03</td>\n",
              "      <td>543750</td>\n",
              "    </tr>\n",
              "    <tr>\n",
              "      <th>1</th>\n",
              "      <td>1</td>\n",
              "      <td>Royal Kuningan Hotel</td>\n",
              "      <td>Kota Jakarta Selatan</td>\n",
              "      <td>Daerah Khusus Ibukota Jakarta</td>\n",
              "      <td>-6.209102</td>\n",
              "      <td>106.830704</td>\n",
              "      <td>30</td>\n",
              "      <td>4</td>\n",
              "      <td>4.42</td>\n",
              "      <td>609768</td>\n",
              "    </tr>\n",
              "    <tr>\n",
              "      <th>2</th>\n",
              "      <td>2</td>\n",
              "      <td>The Grove Suites by GRAND ASTON</td>\n",
              "      <td>Kota Jakarta Selatan</td>\n",
              "      <td>Daerah Khusus Ibukota Jakarta</td>\n",
              "      <td>-6.220000</td>\n",
              "      <td>106.835112</td>\n",
              "      <td>34</td>\n",
              "      <td>2</td>\n",
              "      <td>4.58</td>\n",
              "      <td>1134955</td>\n",
              "    </tr>\n",
              "    <tr>\n",
              "      <th>3</th>\n",
              "      <td>3</td>\n",
              "      <td>Millennium Hotel Sirih Jakarta</td>\n",
              "      <td>Kota Jakarta Pusat</td>\n",
              "      <td>Daerah Khusus Ibukota Jakarta</td>\n",
              "      <td>-6.180000</td>\n",
              "      <td>106.816708</td>\n",
              "      <td>30</td>\n",
              "      <td>1</td>\n",
              "      <td>4.05</td>\n",
              "      <td>764599</td>\n",
              "    </tr>\n",
              "    <tr>\n",
              "      <th>4</th>\n",
              "      <td>4</td>\n",
              "      <td>Aryaduta Suite Semanggi</td>\n",
              "      <td>Kota Jakarta Selatan</td>\n",
              "      <td>Daerah Khusus Ibukota Jakarta</td>\n",
              "      <td>-6.217762</td>\n",
              "      <td>106.816398</td>\n",
              "      <td>32</td>\n",
              "      <td>3</td>\n",
              "      <td>4.42</td>\n",
              "      <td>1057500</td>\n",
              "    </tr>\n",
              "    <tr>\n",
              "      <th>...</th>\n",
              "      <td>...</td>\n",
              "      <td>...</td>\n",
              "      <td>...</td>\n",
              "      <td>...</td>\n",
              "      <td>...</td>\n",
              "      <td>...</td>\n",
              "      <td>...</td>\n",
              "      <td>...</td>\n",
              "      <td>...</td>\n",
              "      <td>...</td>\n",
              "    </tr>\n",
              "    <tr>\n",
              "      <th>1496</th>\n",
              "      <td>1496</td>\n",
              "      <td>PIA Hotel Cirebon</td>\n",
              "      <td>Kota Cirebon</td>\n",
              "      <td>Jawa Barat</td>\n",
              "      <td>-6.709959</td>\n",
              "      <td>108.550699</td>\n",
              "      <td>15</td>\n",
              "      <td>3</td>\n",
              "      <td>4.25</td>\n",
              "      <td>225000</td>\n",
              "    </tr>\n",
              "    <tr>\n",
              "      <th>1497</th>\n",
              "      <td>1497</td>\n",
              "      <td>Hotel Syariah Cordova</td>\n",
              "      <td>Kota Cirebon</td>\n",
              "      <td>Jawa Barat</td>\n",
              "      <td>-6.704522</td>\n",
              "      <td>108.557343</td>\n",
              "      <td>38</td>\n",
              "      <td>3</td>\n",
              "      <td>3.15</td>\n",
              "      <td>154630</td>\n",
              "    </tr>\n",
              "    <tr>\n",
              "      <th>1498</th>\n",
              "      <td>1498</td>\n",
              "      <td>Hotel Victory Cirebon</td>\n",
              "      <td>Kabupaten Cirebon</td>\n",
              "      <td>Jawa Barat</td>\n",
              "      <td>-6.710000</td>\n",
              "      <td>108.539290</td>\n",
              "      <td>17</td>\n",
              "      <td>2</td>\n",
              "      <td>4.00</td>\n",
              "      <td>289750</td>\n",
              "    </tr>\n",
              "    <tr>\n",
              "      <th>1499</th>\n",
              "      <td>1499</td>\n",
              "      <td>Aurora Hotel Siliwangi</td>\n",
              "      <td>Kota Cirebon</td>\n",
              "      <td>Jawa Barat</td>\n",
              "      <td>-6.707524</td>\n",
              "      <td>108.559091</td>\n",
              "      <td>35</td>\n",
              "      <td>2</td>\n",
              "      <td>4.05</td>\n",
              "      <td>228000</td>\n",
              "    </tr>\n",
              "    <tr>\n",
              "      <th>1500</th>\n",
              "      <td>1500</td>\n",
              "      <td>DEDY JAYA CILEDUG HOTEL CIREBON</td>\n",
              "      <td>Kabupaten Cirebon</td>\n",
              "      <td>Jawa Barat</td>\n",
              "      <td>-6.906359</td>\n",
              "      <td>108.744844</td>\n",
              "      <td>20</td>\n",
              "      <td>2</td>\n",
              "      <td>4.00</td>\n",
              "      <td>414000</td>\n",
              "    </tr>\n",
              "  </tbody>\n",
              "</table>\n",
              "<p>1501 rows × 10 columns</p>\n",
              "</div>\n",
              "      <button class=\"colab-df-convert\" onclick=\"convertToInteractive('df-579f5dc0-c8e3-4acf-83cf-792d0a5f56a0')\"\n",
              "              title=\"Convert this dataframe to an interactive table.\"\n",
              "              style=\"display:none;\">\n",
              "        \n",
              "  <svg xmlns=\"http://www.w3.org/2000/svg\" height=\"24px\"viewBox=\"0 0 24 24\"\n",
              "       width=\"24px\">\n",
              "    <path d=\"M0 0h24v24H0V0z\" fill=\"none\"/>\n",
              "    <path d=\"M18.56 5.44l.94 2.06.94-2.06 2.06-.94-2.06-.94-.94-2.06-.94 2.06-2.06.94zm-11 1L8.5 8.5l.94-2.06 2.06-.94-2.06-.94L8.5 2.5l-.94 2.06-2.06.94zm10 10l.94 2.06.94-2.06 2.06-.94-2.06-.94-.94-2.06-.94 2.06-2.06.94z\"/><path d=\"M17.41 7.96l-1.37-1.37c-.4-.4-.92-.59-1.43-.59-.52 0-1.04.2-1.43.59L10.3 9.45l-7.72 7.72c-.78.78-.78 2.05 0 2.83L4 21.41c.39.39.9.59 1.41.59.51 0 1.02-.2 1.41-.59l7.78-7.78 2.81-2.81c.8-.78.8-2.07 0-2.86zM5.41 20L4 18.59l7.72-7.72 1.47 1.35L5.41 20z\"/>\n",
              "  </svg>\n",
              "      </button>\n",
              "      \n",
              "  <style>\n",
              "    .colab-df-container {\n",
              "      display:flex;\n",
              "      flex-wrap:wrap;\n",
              "      gap: 12px;\n",
              "    }\n",
              "\n",
              "    .colab-df-convert {\n",
              "      background-color: #E8F0FE;\n",
              "      border: none;\n",
              "      border-radius: 50%;\n",
              "      cursor: pointer;\n",
              "      display: none;\n",
              "      fill: #1967D2;\n",
              "      height: 32px;\n",
              "      padding: 0 0 0 0;\n",
              "      width: 32px;\n",
              "    }\n",
              "\n",
              "    .colab-df-convert:hover {\n",
              "      background-color: #E2EBFA;\n",
              "      box-shadow: 0px 1px 2px rgba(60, 64, 67, 0.3), 0px 1px 3px 1px rgba(60, 64, 67, 0.15);\n",
              "      fill: #174EA6;\n",
              "    }\n",
              "\n",
              "    [theme=dark] .colab-df-convert {\n",
              "      background-color: #3B4455;\n",
              "      fill: #D2E3FC;\n",
              "    }\n",
              "\n",
              "    [theme=dark] .colab-df-convert:hover {\n",
              "      background-color: #434B5C;\n",
              "      box-shadow: 0px 1px 3px 1px rgba(0, 0, 0, 0.15);\n",
              "      filter: drop-shadow(0px 1px 2px rgba(0, 0, 0, 0.3));\n",
              "      fill: #FFFFFF;\n",
              "    }\n",
              "  </style>\n",
              "\n",
              "      <script>\n",
              "        const buttonEl =\n",
              "          document.querySelector('#df-579f5dc0-c8e3-4acf-83cf-792d0a5f56a0 button.colab-df-convert');\n",
              "        buttonEl.style.display =\n",
              "          google.colab.kernel.accessAllowed ? 'block' : 'none';\n",
              "\n",
              "        async function convertToInteractive(key) {\n",
              "          const element = document.querySelector('#df-579f5dc0-c8e3-4acf-83cf-792d0a5f56a0');\n",
              "          const dataTable =\n",
              "            await google.colab.kernel.invokeFunction('convertToInteractive',\n",
              "                                                     [key], {});\n",
              "          if (!dataTable) return;\n",
              "\n",
              "          const docLinkHtml = 'Like what you see? Visit the ' +\n",
              "            '<a target=\"_blank\" href=https://colab.research.google.com/notebooks/data_table.ipynb>data table notebook</a>'\n",
              "            + ' to learn more about interactive tables.';\n",
              "          element.innerHTML = '';\n",
              "          dataTable['output_type'] = 'display_data';\n",
              "          await google.colab.output.renderOutput(dataTable, element);\n",
              "          const docLink = document.createElement('div');\n",
              "          docLink.innerHTML = docLinkHtml;\n",
              "          element.appendChild(docLink);\n",
              "        }\n",
              "      </script>\n",
              "    </div>\n",
              "  </div>\n",
              "  "
            ]
          },
          "metadata": {},
          "execution_count": 2
        }
      ]
    },
    {
      "cell_type": "markdown",
      "source": [
        "Dataset Harga Hotel terdiri dari 10 kolom dengan 9 parameter fitur, 1 parameter target dengan identifikasi unik 1501 pengamatan kisaran harga. Sembilan kolom tersebut adalah sebagai berikut :\n",
        "- Nama Hotel : Fitur ini memberikan informasi mengenai nama-nama hotel yang menyediakan jasa inap dan juga menyediakan makanan dan minuman bagi tamu yang datang serta mempunyai fasilitas jasa lannya. Yang mana semua fasilitasnya juga di peruntukkan bagi masyarakat umum.\n",
        "- Nama Kota : Fitur ini memberikan informasi mengenai wilayah dari permukiman yang meyediakan fasilitas seperti hotel, untuk tempat inap parawisatawan.\n",
        "- Provinsi : Fitur ini memberikan informasi mengenai wilayah tersturktur yang tersedia berbagai macam aktivitas, seperti hotal tempat persedian inap parawisatawan.\n",
        "- Latitude : Latitude atau Garis Lintang adalah garis yang menentukan jarak di sebelah utara atau selatan Khatulistiwa, tempat koordinat lokasi hotel.\n",
        "- Longitude atau Garis Bujur adalah garis yang membentang dari utara ke selatan, tempat koordinat lokasi hotel. \n",
        "- Luas Kamar : Fitur ini memberikan infomasi mengenai luas ruangan tempat penginapan dari panjang dan bangunan kamar hotel dengan satuan meter persegi (m2).\n",
        "Kapasitas : fitur ini memberikan informasi mengenai daya tampung yang bisa di isi oleh parawisatawan dalam luas kamar hotel.\n",
        "- Rating : fitur ini suatu penilaian yang terstandarisasi terhadap fasilitas dan keyamanan hotel berdasarkan pengalaman parawisatawan sebelumnya yang telah merasakan tempat penginapan tersebur."
      ],
      "metadata": {
        "id": "QlF_a3Riez_C"
      }
    },
    {
      "cell_type": "code",
      "source": [
        "# Duplicate Data\n",
        "data_copy = data.copy()"
      ],
      "metadata": {
        "id": "oHMs9YtsZNp4"
      },
      "execution_count": 3,
      "outputs": []
    },
    {
      "cell_type": "markdown",
      "source": [
        "Mengandakan(duplicate) dataset nya, jika ada perubahan kolom atau atribut tetap bisa dibandingkan dengan dataset asli. Fungsi dari pengandaan agar data asli masih bisa digunakan jika ada beberapa perubahan isi dari dataset."
      ],
      "metadata": {
        "id": "YSKRSRGfjPEd"
      }
    },
    {
      "cell_type": "code",
      "source": [
        "# Mengecek ukuran dataset yang akan digunakan\n",
        "print(data.shape)"
      ],
      "metadata": {
        "colab": {
          "base_uri": "https://localhost:8080/"
        },
        "id": "tTnIwWrZZQ7v",
        "outputId": "56540479-d1cd-43d0-92b7-30c2a75ec6b5"
      },
      "execution_count": 4,
      "outputs": [
        {
          "output_type": "stream",
          "name": "stdout",
          "text": [
            "(1501, 10)\n"
          ]
        }
      ]
    },
    {
      "cell_type": "markdown",
      "source": [
        "Berdasarkan perintah .shape bahwa ukuran dataset harga hotel terdiri dari 1501 baris dan 10 kolom."
      ],
      "metadata": {
        "id": "MMSBOAhIjT18"
      }
    },
    {
      "cell_type": "code",
      "source": [
        "# Melihat Nama-Nama kolom dari tabel dataset kartu kredit default\n",
        "data.columns"
      ],
      "metadata": {
        "colab": {
          "base_uri": "https://localhost:8080/"
        },
        "id": "IxMqbzv_ZT6R",
        "outputId": "8b433be8-f826-4e08-8d08-71f8b59db42e"
      },
      "execution_count": 5,
      "outputs": [
        {
          "output_type": "execute_result",
          "data": {
            "text/plain": [
              "Index(['Unnamed: 0', 'Nama Hotel', 'Nama Kota', 'Provinsi', 'Latitude',\n",
              "       'Longitude', 'Luas Kamar', 'Kapasitas', 'Rating', 'Harga'],\n",
              "      dtype='object')"
            ]
          },
          "metadata": {},
          "execution_count": 5
        }
      ]
    },
    {
      "cell_type": "markdown",
      "source": [
        "Nama-Nama kolom telah dideskripsikan sebelumnya, kolom-kolom ini memiliki nilai ukuran yang berbeda-beda setiap hotel."
      ],
      "metadata": {
        "id": "cwTLGsF0jeKN"
      }
    },
    {
      "cell_type": "code",
      "source": [
        "data['Nama Kota'].unique()"
      ],
      "metadata": {
        "colab": {
          "base_uri": "https://localhost:8080/"
        },
        "id": "3Xtc4hkgcrd0",
        "outputId": "12cf7576-6746-4264-c75e-cdb90325fa04"
      },
      "execution_count": 49,
      "outputs": [
        {
          "output_type": "execute_result",
          "data": {
            "text/plain": [
              "array(['Kota Jakarta Selatan', 'Kota Jakarta Pusat', 'Kota Jakarta Barat',\n",
              "       'Kota Jakarta Timur', 'Kota Jakarta Utara', 'Kota Tangerang',\n",
              "       'Kota Bekasi', 'Kota Bandung', 'Kabupaten Bandung Barat',\n",
              "       'Kabupaten Subang', 'Kabupaten Sumedang', 'Kabupaten Bandung',\n",
              "       'Kota Cimahi', 'Kota Surabaya', 'Kabupaten Sidoarjo',\n",
              "       'Kabupaten Sleman', 'Kota Yogyakarta', 'Kabupaten Bantul',\n",
              "       'Kabupaten Gunung Kidul', 'Kota Medan', 'Kabupaten Deli Serdang',\n",
              "       'Kota Semarang', 'Kabupaten Semarang', 'Kota Malang',\n",
              "       'Kabupaten Malang', 'Kota Batu', 'Kabupaten Magelang',\n",
              "       'Kabupaten Badung', 'Kabupaten Gianyar', 'Kabupaten Buleleng',\n",
              "       'Kabupaten Lombok Barat', 'Kabupaten Lombok Tengah',\n",
              "       'Kota Mataram', 'Kabupaten Lombok Pusat', 'Kota Denpasar',\n",
              "       'Kabupaten Lombok Utara', 'Kuta', 'Kuta Lombok',\n",
              "       'Kabupaten Jembrana', 'Kabupaten Klungkung',\n",
              "       'Kabupaten Lombok Timur', 'Lombok', 'Kabupaten Karangasem',\n",
              "       'Kabupaten Bangli', 'Kabupaten Tabanan', 'Kota Cirebon',\n",
              "       'Kabupaten Cirebon'], dtype=object)"
            ]
          },
          "metadata": {},
          "execution_count": 49
        }
      ]
    },
    {
      "cell_type": "code",
      "source": [
        "# Mengecek informasi dataset dari tabel kartu kredit default\n",
        "data.info()"
      ],
      "metadata": {
        "colab": {
          "base_uri": "https://localhost:8080/"
        },
        "id": "fB5-ShysZYZs",
        "outputId": "e71b5e70-804c-45f1-f724-9569701e5923"
      },
      "execution_count": 6,
      "outputs": [
        {
          "output_type": "stream",
          "name": "stdout",
          "text": [
            "<class 'pandas.core.frame.DataFrame'>\n",
            "RangeIndex: 1501 entries, 0 to 1500\n",
            "Data columns (total 10 columns):\n",
            " #   Column      Non-Null Count  Dtype  \n",
            "---  ------      --------------  -----  \n",
            " 0   Unnamed: 0  1501 non-null   int64  \n",
            " 1   Nama Hotel  1501 non-null   object \n",
            " 2   Nama Kota   1501 non-null   object \n",
            " 3   Provinsi    1501 non-null   object \n",
            " 4   Latitude    1501 non-null   float64\n",
            " 5   Longitude   1501 non-null   float64\n",
            " 6   Luas Kamar  1501 non-null   int64  \n",
            " 7   Kapasitas   1501 non-null   int64  \n",
            " 8   Rating      1501 non-null   float64\n",
            " 9   Harga       1501 non-null   int64  \n",
            "dtypes: float64(3), int64(4), object(3)\n",
            "memory usage: 117.4+ KB\n"
          ]
        }
      ]
    },
    {
      "cell_type": "markdown",
      "source": [
        "Berdasarkan perintah data.info() bahwa tabel harga hotel memiliki sekitar 10 kolom, dimana kolom Nama Hotel, Nama Kota dan Provinsi teridentifikasi sebagai type object atau kolom string. Sedangkan kolom Latitude, Longitude, Luas Kamar, Kapasitas, Rating dan Harga teridentifikasi sebagai type float/int atau kolom numerik."
      ],
      "metadata": {
        "id": "Ap2WG0lnjkS3"
      }
    },
    {
      "cell_type": "markdown",
      "source": [
        "# 4 - Exploratory Data Analysis (EDA)\n",
        "\n",
        "> Bagian ini berisi eksplorasi data pada dataset diatas dengan menggunakan query, grouping, visualisasi sederhana, dan lain sebagainya."
      ],
      "metadata": {
        "id": "JzSb-FzcZxAM"
      }
    },
    {
      "cell_type": "code",
      "source": [
        "# Visualisasi diagram batang mengenai beberapa provinsi yang memiliki tempat penginapan hotel\n",
        "sns.set_theme(style=\"darkgrid\")\n",
        "data['Provinsi'].value_counts().plot(kind='bar',figsize=(20,5))"
      ],
      "metadata": {
        "colab": {
          "base_uri": "https://localhost:8080/",
          "height": 475
        },
        "id": "Re0Z3wTMuhu4",
        "outputId": "d5d2126b-5c79-4ed1-e29b-8b552f47b39e"
      },
      "execution_count": 7,
      "outputs": [
        {
          "output_type": "execute_result",
          "data": {
            "text/plain": [
              "<matplotlib.axes._subplots.AxesSubplot at 0x7f78059e9810>"
            ]
          },
          "metadata": {},
          "execution_count": 7
        },
        {
          "output_type": "display_data",
          "data": {
            "text/plain": [
              "<Figure size 1440x360 with 1 Axes>"
            ],
            "image/png": "[encoded data removed]"
          },
          "metadata": {}
        }
      ]
    },
    {
      "cell_type": "markdown",
      "source": [
        "Berdasarkan hasil visualisasi bahwa provinsi Jawa timur lebih memiliki banya referensi tempat hotel yang bisa menjadi pilihan untuk tempat menginap dibandingkan provinsi lainnya, urutan kedua provinsi bali sebagai jumlah hotel yang memiliki beberapa referensi tempat penginapan, lalu diikuti beberapa provinsi lainnya. Kabupaten Bandung menempati tempat terakhir yang memiliki sediki tempat hotel yang bisa di inap oleh parawisataan."
      ],
      "metadata": {
        "id": "QJcKF4qC8lO1"
      }
    },
    {
      "cell_type": "code",
      "source": [
        "# Visualisasi diagram batang mengenai beberapa kota yang memiliki tempat penginapan hotel\n",
        "data['Nama Kota'].value_counts().plot(kind='bar',figsize=(20,5))"
      ],
      "metadata": {
        "colab": {
          "base_uri": "https://localhost:8080/",
          "height": 456
        },
        "id": "B5dLKJSfwoJ4",
        "outputId": "f73a8efb-dc54-4169-e8ed-c716d3651670"
      },
      "execution_count": 8,
      "outputs": [
        {
          "output_type": "execute_result",
          "data": {
            "text/plain": [
              "<matplotlib.axes._subplots.AxesSubplot at 0x7f78058f1990>"
            ]
          },
          "metadata": {},
          "execution_count": 8
        },
        {
          "output_type": "display_data",
          "data": {
            "text/plain": [
              "<Figure size 1440x360 with 1 Axes>"
            ],
            "image/png": "[encoded data removed]"
          },
          "metadata": {}
        }
      ]
    },
    {
      "cell_type": "markdown",
      "source": [
        "Berdasarkan hasil visualisasi bahwa Kabupaten Bandung lebih memiliki banya referensi tempat hotel yang bisa menjadi pilihan untuk tempat menginap dibandingkan provinsi lainnya, urutan kedua Kota Semarang sebagai jumlah hotel yang memiliki beberapa referensi tempat penginapan, lalu diikuti beberapa provinsi lainnya. Malang city menempati tempat terakhir yang memiliki sediki tempat hotel yang bisa di inap oleh parawisataan."
      ],
      "metadata": {
        "id": "mKTYiEIqqIkN"
      }
    },
    {
      "cell_type": "code",
      "source": [
        "# Melihat perbandingan kisaran harga hotel di beberapa provinsi indonesia\n",
        "print(data.groupby(by=['Provinsi'])['Harga'].mean().sort_values(), '\\n')"
      ],
      "metadata": {
        "colab": {
          "base_uri": "https://localhost:8080/"
        },
        "id": "HrPp4_qrw5kq",
        "outputId": "8da68238-4e40-450b-8036-5e2b22e082f3"
      },
      "execution_count": 9,
      "outputs": [
        {
          "output_type": "stream",
          "name": "stdout",
          "text": [
            "Provinsi\n",
            "Central Java                     1.504783e+05\n",
            "Sumatera Utara                   2.430041e+05\n",
            "Banten                           4.495100e+05\n",
            "Jawa Tengah                      4.721973e+05\n",
            "Jawa Timur                       5.169394e+05\n",
            "Nusa Tenggara Barat              5.959141e+05\n",
            "Daerah Istimewa Yogyakarta       6.304164e+05\n",
            "Jawa Barat                       7.947998e+05\n",
            "Daerah Khusus Ibukota Jakarta    8.319768e+05\n",
            "Special Region of Yogyakarta     9.500000e+05\n",
            "Bali                             1.309811e+06\n",
            "Name: Harga, dtype: float64 \n",
            "\n"
          ]
        }
      ]
    },
    {
      "cell_type": "markdown",
      "source": [
        "Berdasarkan hasil visualisasi, bahwa Provinsi Bali memiliki kisaran harga rata-rata yang biayanya lebih mahal dibandingkan provinsi lainnya yaitu Rp. 1.309.811, Provinsi West Nusa Tenggara memiliki kisaran harga rata-rata yang biayanya di urutan kedua yaitu Rp. 950.000. Terlihat bahwa indonesia bagian tengah atau pulau wilayah sekitaran Nusa Tenggara memiliki harga hotel yang biayanya sangat tinggi. Sedangkkan North Sumatra memiliki kisaran harga hotel yang sangat murah jika dibandingkan provinsi lainnya yaitu Rp. 150.478."
      ],
      "metadata": {
        "id": "rNM3YhUJGOry"
      }
    },
    {
      "cell_type": "code",
      "source": [
        "# Melihat perbandingan luas kamar hotel di beberapa provinsi indonesia\n",
        "print(data.groupby(by=['Provinsi'])['Luas Kamar'].mean().sort_values(), '\\n')"
      ],
      "metadata": {
        "colab": {
          "base_uri": "https://localhost:8080/"
        },
        "id": "dYvP7TYKxS_4",
        "outputId": "83e5c7f4-7e08-415f-9aae-809b4622f371"
      },
      "execution_count": 10,
      "outputs": [
        {
          "output_type": "stream",
          "name": "stdout",
          "text": [
            "Provinsi\n",
            "Banten                           17.000000\n",
            "Central Java                     20.200000\n",
            "Sumatera Utara                   22.112903\n",
            "Jawa Tengah                      23.030488\n",
            "Daerah Istimewa Yogyakarta       23.057143\n",
            "Jawa Barat                       24.867925\n",
            "Nusa Tenggara Barat              25.745342\n",
            "Daerah Khusus Ibukota Jakarta    25.992537\n",
            "Jawa Timur                       26.911854\n",
            "Bali                             31.512635\n",
            "Special Region of Yogyakarta     40.000000\n",
            "Name: Luas Kamar, dtype: float64 \n",
            "\n"
          ]
        }
      ]
    },
    {
      "cell_type": "markdown",
      "source": [
        "Berdasarkan hasil visualisasi, bahwa hotel di Provinsi Yogyakarta memiliki rata-rata luas kamar ruangan yang luas yaitu sekitar 40 m^2, jika dibandingkan provinsi lain. Sedangkan hotel di wilayah Banten memiliki rata-rata luas kamar ruangan yang kecil yaitu sekitar 17m^2."
      ],
      "metadata": {
        "id": "oSuSwjAvHoyD"
      }
    },
    {
      "cell_type": "code",
      "source": [
        "# Melihat perbandingan kapasitas daya tampung hotel di beberapa provinsi indonesia\n",
        "print(data.groupby(by=['Provinsi'])['Kapasitas'].mean().sort_values(), '\\n')"
      ],
      "metadata": {
        "colab": {
          "base_uri": "https://localhost:8080/"
        },
        "id": "fK5qt_z8xbfQ",
        "outputId": "dc318e8a-2528-4944-c607-964ff362b9c3"
      },
      "execution_count": 11,
      "outputs": [
        {
          "output_type": "stream",
          "name": "stdout",
          "text": [
            "Provinsi\n",
            "Central Java                     2.200000\n",
            "Sumatera Utara                   2.258065\n",
            "Daerah Khusus Ibukota Jakarta    2.589552\n",
            "Nusa Tenggara Barat              2.614907\n",
            "Jawa Barat                       2.685535\n",
            "Bali                             2.707581\n",
            "Jawa Tengah                      2.762195\n",
            "Daerah Istimewa Yogyakarta       2.864286\n",
            "Banten                           3.000000\n",
            "Special Region of Yogyakarta     3.000000\n",
            "Jawa Timur                       3.231003\n",
            "Name: Kapasitas, dtype: float64 \n",
            "\n"
          ]
        }
      ]
    },
    {
      "cell_type": "markdown",
      "source": [
        "Berdasarkan hasil visualisasi, bahwa Provinsi Jawa Timur, Yogyakarta, Bandung memiliki rata-rata daya tampung dari semua hotel di wilayah tersebut sebanyak 3 orang. Sedangkan Provinsi North Sumatra dan Centrl Java memiliki rata-rata daya tampung dari semua hotel di wilayah tersebut sebanyak 2 orang."
      ],
      "metadata": {
        "id": "3Nfgda5MJ3ca"
      }
    },
    {
      "cell_type": "code",
      "source": [
        "# Hasil Statistika deskriptif terhadap fitur numerik\n",
        "data.describe()[1:].T.style.background_gradient(cmap='Greens_r')"
      ],
      "metadata": {
        "colab": {
          "base_uri": "https://localhost:8080/",
          "height": 269
        },
        "id": "AvnjqPY7xjXv",
        "outputId": "f7c6582e-3205-41b2-8d88-ba59ea77f5c1"
      },
      "execution_count": 12,
      "outputs": [
        {
          "output_type": "execute_result",
          "data": {
            "text/plain": [
              "<pandas.io.formats.style.Styler at 0x7f78058df1d0>"
            ],
            "text/html": [
              "<style type=\"text/css\">\n",
              "#T_876be_row0_col0, #T_876be_row0_col1, #T_876be_row0_col2, #T_876be_row0_col3, #T_876be_row0_col4, #T_876be_row0_col5, #T_876be_row0_col6, #T_876be_row1_col0, #T_876be_row1_col1, #T_876be_row1_col2, #T_876be_row1_col3, #T_876be_row1_col4, #T_876be_row1_col5, #T_876be_row1_col6, #T_876be_row2_col2, #T_876be_row2_col3, #T_876be_row2_col4, #T_876be_row2_col5, #T_876be_row3_col0, #T_876be_row3_col1, #T_876be_row3_col2, #T_876be_row3_col3, #T_876be_row3_col4, #T_876be_row3_col5, #T_876be_row3_col6, #T_876be_row4_col0, #T_876be_row4_col1, #T_876be_row4_col2, #T_876be_row4_col3, #T_876be_row4_col4, #T_876be_row4_col5, #T_876be_row4_col6, #T_876be_row5_col0, #T_876be_row5_col1, #T_876be_row5_col2, #T_876be_row5_col3, #T_876be_row5_col4, #T_876be_row5_col5, #T_876be_row5_col6 {\n",
              "  background-color: #00441b;\n",
              "  color: #f1f1f1;\n",
              "}\n",
              "#T_876be_row2_col0, #T_876be_row2_col1, #T_876be_row2_col6, #T_876be_row6_col2, #T_876be_row6_col3, #T_876be_row6_col4, #T_876be_row6_col5 {\n",
              "  background-color: #f7fcf5;\n",
              "  color: #000000;\n",
              "}\n",
              "#T_876be_row6_col0 {\n",
              "  background-color: #107a37;\n",
              "  color: #f1f1f1;\n",
              "}\n",
              "#T_876be_row6_col1 {\n",
              "  background-color: #00491d;\n",
              "  color: #f1f1f1;\n",
              "}\n",
              "#T_876be_row6_col6 {\n",
              "  background-color: #00481d;\n",
              "  color: #f1f1f1;\n",
              "}\n",
              "</style>\n",
              "<table id=\"T_876be_\" class=\"dataframe\">\n",
              "  <thead>\n",
              "    <tr>\n",
              "      <th class=\"blank level0\" >&nbsp;</th>\n",
              "      <th class=\"col_heading level0 col0\" >mean</th>\n",
              "      <th class=\"col_heading level0 col1\" >std</th>\n",
              "      <th class=\"col_heading level0 col2\" >min</th>\n",
              "      <th class=\"col_heading level0 col3\" >25%</th>\n",
              "      <th class=\"col_heading level0 col4\" >50%</th>\n",
              "      <th class=\"col_heading level0 col5\" >75%</th>\n",
              "      <th class=\"col_heading level0 col6\" >max</th>\n",
              "    </tr>\n",
              "  </thead>\n",
              "  <tbody>\n",
              "    <tr>\n",
              "      <th id=\"T_876be_level0_row0\" class=\"row_heading level0 row0\" >Unnamed: 0</th>\n",
              "      <td id=\"T_876be_row0_col0\" class=\"data row0 col0\" >750.000000</td>\n",
              "      <td id=\"T_876be_row0_col1\" class=\"data row0 col1\" >433.445691</td>\n",
              "      <td id=\"T_876be_row0_col2\" class=\"data row0 col2\" >0.000000</td>\n",
              "      <td id=\"T_876be_row0_col3\" class=\"data row0 col3\" >375.000000</td>\n",
              "      <td id=\"T_876be_row0_col4\" class=\"data row0 col4\" >750.000000</td>\n",
              "      <td id=\"T_876be_row0_col5\" class=\"data row0 col5\" >1125.000000</td>\n",
              "      <td id=\"T_876be_row0_col6\" class=\"data row0 col6\" >1500.000000</td>\n",
              "    </tr>\n",
              "    <tr>\n",
              "      <th id=\"T_876be_level0_row1\" class=\"row_heading level0 row1\" >Latitude</th>\n",
              "      <td id=\"T_876be_row1_col0\" class=\"data row1 col0\" >-4.694611</td>\n",
              "      <td id=\"T_876be_row1_col1\" class=\"data row1 col1\" >3.991544</td>\n",
              "      <td id=\"T_876be_row1_col2\" class=\"data row1 col2\" >-8.890000</td>\n",
              "      <td id=\"T_876be_row1_col3\" class=\"data row1 col3\" >-7.790000</td>\n",
              "      <td id=\"T_876be_row1_col4\" class=\"data row1 col4\" >-6.920000</td>\n",
              "      <td id=\"T_876be_row1_col5\" class=\"data row1 col5\" >-0.000000</td>\n",
              "      <td id=\"T_876be_row1_col6\" class=\"data row1 col6\" >3.772937</td>\n",
              "    </tr>\n",
              "    <tr>\n",
              "      <th id=\"T_876be_level0_row2\" class=\"row_heading level0 row2\" >Longitude</th>\n",
              "      <td id=\"T_876be_row2_col0\" class=\"data row2 col0\" >3945925.161352</td>\n",
              "      <td id=\"T_876be_row2_col1\" class=\"data row2 col1\" >62305510.564896</td>\n",
              "      <td id=\"T_876be_row2_col2\" class=\"data row2 col2\" >98.607708</td>\n",
              "      <td id=\"T_876be_row2_col3\" class=\"data row2 col3\" >107.632386</td>\n",
              "      <td id=\"T_876be_row2_col4\" class=\"data row2 col4\" >112.512882</td>\n",
              "      <td id=\"T_876be_row2_col5\" class=\"data row2 col5\" >115.167470</td>\n",
              "      <td id=\"T_876be_row2_col6\" class=\"data row2 col6\" >988750710.000000</td>\n",
              "    </tr>\n",
              "    <tr>\n",
              "      <th id=\"T_876be_level0_row3\" class=\"row_heading level0 row3\" >Luas Kamar</th>\n",
              "      <td id=\"T_876be_row3_col0\" class=\"data row3 col0\" >26.107928</td>\n",
              "      <td id=\"T_876be_row3_col1\" class=\"data row3 col1\" >10.150157</td>\n",
              "      <td id=\"T_876be_row3_col2\" class=\"data row3 col2\" >5.000000</td>\n",
              "      <td id=\"T_876be_row3_col3\" class=\"data row3 col3\" >18.000000</td>\n",
              "      <td id=\"T_876be_row3_col4\" class=\"data row3 col4\" >24.000000</td>\n",
              "      <td id=\"T_876be_row3_col5\" class=\"data row3 col5\" >32.000000</td>\n",
              "      <td id=\"T_876be_row3_col6\" class=\"data row3 col6\" >57.000000</td>\n",
              "    </tr>\n",
              "    <tr>\n",
              "      <th id=\"T_876be_level0_row4\" class=\"row_heading level0 row4\" >Kapasitas</th>\n",
              "      <td id=\"T_876be_row4_col0\" class=\"data row4 col0\" >2.780147</td>\n",
              "      <td id=\"T_876be_row4_col1\" class=\"data row4 col1\" >1.263183</td>\n",
              "      <td id=\"T_876be_row4_col2\" class=\"data row4 col2\" >0.000000</td>\n",
              "      <td id=\"T_876be_row4_col3\" class=\"data row4 col3\" >2.000000</td>\n",
              "      <td id=\"T_876be_row4_col4\" class=\"data row4 col4\" >3.000000</td>\n",
              "      <td id=\"T_876be_row4_col5\" class=\"data row4 col5\" >3.000000</td>\n",
              "      <td id=\"T_876be_row4_col6\" class=\"data row4 col6\" >19.000000</td>\n",
              "    </tr>\n",
              "    <tr>\n",
              "      <th id=\"T_876be_level0_row5\" class=\"row_heading level0 row5\" >Rating</th>\n",
              "      <td id=\"T_876be_row5_col0\" class=\"data row5 col0\" >4.154750</td>\n",
              "      <td id=\"T_876be_row5_col1\" class=\"data row5 col1\" >0.375801</td>\n",
              "      <td id=\"T_876be_row5_col2\" class=\"data row5 col2\" >2.100000</td>\n",
              "      <td id=\"T_876be_row5_col3\" class=\"data row5 col3\" >4.030000</td>\n",
              "      <td id=\"T_876be_row5_col4\" class=\"data row5 col4\" >4.080000</td>\n",
              "      <td id=\"T_876be_row5_col5\" class=\"data row5 col5\" >4.420000</td>\n",
              "      <td id=\"T_876be_row5_col6\" class=\"data row5 col6\" >5.250000</td>\n",
              "    </tr>\n",
              "    <tr>\n",
              "      <th id=\"T_876be_level0_row6\" class=\"row_heading level0 row6\" >Harga</th>\n",
              "      <td id=\"T_876be_row6_col0\" class=\"data row6 col0\" >710110.518987</td>\n",
              "      <td id=\"T_876be_row6_col1\" class=\"data row6 col1\" >1050687.793600</td>\n",
              "      <td id=\"T_876be_row6_col2\" class=\"data row6 col2\" >49500.000000</td>\n",
              "      <td id=\"T_876be_row6_col3\" class=\"data row6 col3\" >247353.000000</td>\n",
              "      <td id=\"T_876be_row6_col4\" class=\"data row6 col4\" >401310.000000</td>\n",
              "      <td id=\"T_876be_row6_col5\" class=\"data row6 col5\" >720020.000000</td>\n",
              "      <td id=\"T_876be_row6_col6\" class=\"data row6 col6\" >14000000.000000</td>\n",
              "    </tr>\n",
              "  </tbody>\n",
              "</table>\n"
            ]
          },
          "metadata": {},
          "execution_count": 12
        }
      ]
    },
    {
      "cell_type": "markdown",
      "source": [
        "Berdasarkan hasil central tendency, diperoleh beberapa informasi sebagai berikut :\n",
        "1. Kisaran Harga rata-rata hotel termahal yang ada di indonesia sebesar Rp. 14.000.000 sedangkan Harga rata-rata hotel termurah yang ada di indonesia sebesar Rp. 49.5000.\n",
        "2. Luas Kamar sebesar 57 m^2 merupakan ukuran yang cukup besar untuk hotel berbentuk Villa keluarga.\n",
        "3. Hotel di indonesia memiliki rating terbaik berupa bintang.\n",
        "4. Kapasitas daya tampung yang ummumnya bisa untuk 19 orangg atau bisa lebih."
      ],
      "metadata": {
        "id": "ghKy3EBuKioc"
      }
    },
    {
      "cell_type": "code",
      "source": [
        "# menampilkan salah satu lokasi hotel\n",
        "world_map = folium.Map(location=[-6.255564, 106.810793], zoom_start=8)\n",
        "world_map"
      ],
      "metadata": {
        "colab": {
          "base_uri": "https://localhost:8080/",
          "height": 675
        },
        "id": "aP7QRy__0yAy",
        "outputId": "5cafa9b6-a43b-4124-b1f9-d9670439603d"
      },
      "execution_count": 13,
      "outputs": [
        {
          "output_type": "execute_result",
          "data": {
            "text/plain": [
              "<folium.folium.Map at 0x7f780527a750>"
            ],
            "text/html": [
              "<div style=\"width:100%;\"><div style=\"position:relative;width:100%;height:0;padding-bottom:60%;\"><span style=\"color:#565656\">Make this Notebook Trusted to load map: File -> Trust Notebook</span><iframe srcdoc=\"&lt;!DOCTYPE html&gt;\n",
              "&lt;head&gt;    \n",
              "    &lt;meta http-equiv=&quot;content-type&quot; content=&quot;text/html; charset=UTF-8&quot; /&gt;\n",
              "    \n",
              "        &lt;script&gt;\n",
              "            L_NO_TOUCH = false;\n",
              "            L_DISABLE_3D = false;\n",
              "        &lt;/script&gt;\n",
              "    \n",
              "    &lt;style&gt;html, body {width: 100%;height: 100%;margin: 0;padding: 0;}&lt;/style&gt;\n",
              "    &lt;style&gt;#map {position:absolute;top:0;bottom:0;right:0;left:0;}&lt;/style&gt;\n",
              "    &lt;script src=&quot;https://cdn.jsdelivr.net/npm/leaflet@1.6.0/dist/leaflet.js&quot;&gt;&lt;/script&gt;\n",
              "    &lt;script src=&quot;https://code.jquery.com/jquery-1.12.4.min.js&quot;&gt;&lt;/script&gt;\n",
              "    &lt;script src=&quot;https://maxcdn.bootstrapcdn.com/bootstrap/3.2.0/js/bootstrap.min.js&quot;&gt;&lt;/script&gt;\n",
              "    &lt;script src=&quot;https://cdnjs.cloudflare.com/ajax/libs/Leaflet.awesome-markers/2.0.2/leaflet.awesome-markers.js&quot;&gt;&lt;/script&gt;\n",
              "    &lt;link rel=&quot;stylesheet&quot; href=&quot;https://cdn.jsdelivr.net/npm/leaflet@1.6.0/dist/leaflet.css&quot;/&gt;\n",
              "    &lt;link rel=&quot;stylesheet&quot; href=&quot;https://maxcdn.bootstrapcdn.com/bootstrap/3.2.0/css/bootstrap.min.css&quot;/&gt;\n",
              "    &lt;link rel=&quot;stylesheet&quot; href=&quot;https://maxcdn.bootstrapcdn.com/bootstrap/3.2.0/css/bootstrap-theme.min.css&quot;/&gt;\n",
              "    &lt;link rel=&quot;stylesheet&quot; href=&quot;https://maxcdn.bootstrapcdn.com/font-awesome/4.6.3/css/font-awesome.min.css&quot;/&gt;\n",
              "    &lt;link rel=&quot;stylesheet&quot; href=&quot;https://cdnjs.cloudflare.com/ajax/libs/Leaflet.awesome-markers/2.0.2/leaflet.awesome-markers.css&quot;/&gt;\n",
              "    &lt;link rel=&quot;stylesheet&quot; href=&quot;https://cdn.jsdelivr.net/gh/python-visualization/folium/folium/templates/leaflet.awesome.rotate.min.css&quot;/&gt;\n",
              "    \n",
              "            &lt;meta name=&quot;viewport&quot; content=&quot;width=device-width,\n",
              "                initial-scale=1.0, maximum-scale=1.0, user-scalable=no&quot; /&gt;\n",
              "            &lt;style&gt;\n",
              "                #map_2be5f7e3bdd168ae79d812319466f742 {\n",
              "                    position: relative;\n",
              "                    width: 100.0%;\n",
              "                    height: 100.0%;\n",
              "                    left: 0.0%;\n",
              "                    top: 0.0%;\n",
              "                }\n",
              "            &lt;/style&gt;\n",
              "        \n",
              "&lt;/head&gt;\n",
              "&lt;body&gt;    \n",
              "    \n",
              "            &lt;div class=&quot;folium-map&quot; id=&quot;map_2be5f7e3bdd168ae79d812319466f742&quot; &gt;&lt;/div&gt;\n",
              "        \n",
              "&lt;/body&gt;\n",
              "&lt;script&gt;    \n",
              "    \n",
              "            var map_2be5f7e3bdd168ae79d812319466f742 = L.map(\n",
              "                &quot;map_2be5f7e3bdd168ae79d812319466f742&quot;,\n",
              "                {\n",
              "                    center: [-6.255564, 106.810793],\n",
              "                    crs: L.CRS.EPSG3857,\n",
              "                    zoom: 8,\n",
              "                    zoomControl: true,\n",
              "                    preferCanvas: false,\n",
              "                }\n",
              "            );\n",
              "\n",
              "            \n",
              "\n",
              "        \n",
              "    \n",
              "            var tile_layer_01b12f594b2009a63ad368beb90633ab = L.tileLayer(\n",
              "                &quot;https://{s}.tile.openstreetmap.org/{z}/{x}/{y}.png&quot;,\n",
              "                {&quot;attribution&quot;: &quot;Data by \\u0026copy; \\u003ca href=\\&quot;http://openstreetmap.org\\&quot;\\u003eOpenStreetMap\\u003c/a\\u003e, under \\u003ca href=\\&quot;http://www.openstreetmap.org/copyright\\&quot;\\u003eODbL\\u003c/a\\u003e.&quot;, &quot;detectRetina&quot;: false, &quot;maxNativeZoom&quot;: 18, &quot;maxZoom&quot;: 18, &quot;minZoom&quot;: 0, &quot;noWrap&quot;: false, &quot;opacity&quot;: 1, &quot;subdomains&quot;: &quot;abc&quot;, &quot;tms&quot;: false}\n",
              "            ).addTo(map_2be5f7e3bdd168ae79d812319466f742);\n",
              "        \n",
              "&lt;/script&gt;\" style=\"position:absolute;width:100%;height:100%;left:0;top:0;border:none !important;\" allowfullscreen webkitallowfullscreen mozallowfullscreen></iframe></div></div>"
            ]
          },
          "metadata": {},
          "execution_count": 13
        }
      ]
    },
    {
      "cell_type": "markdown",
      "source": [
        "# 5 - Data Preprocessing\n",
        "\n",
        "> Bagian ini berisi proses penyiapan data untuk proses pelatihan model, seperti pembagian data menjadi train-dev-test, transformasi data (normalisasi, encoding, dll.), dan proses-proses lain yang dibutuhkan."
      ],
      "metadata": {
        "id": "CA-IGWRDZ5Ag"
      }
    },
    {
      "cell_type": "markdown",
      "source": [
        "## 5a - Data Inference\n",
        "\n",
        "Model inference merupakan data yang tidak tersedia di dalam dataset, jika dicari datanya tidak ada, maka di masukkan data baru. Jadi model inference itu data baru yang tidak ada di data set. Data inference menggunakan dataset yang ada. Dataset terbagi menjadi dua yaitu inference set dan Non inference set (Train set & Test set)"
      ],
      "metadata": {
        "id": "FWfoWJ8eZ9Pj"
      }
    },
    {
      "cell_type": "code",
      "source": [
        "# Dapatkan Data untuk Inferensi Model\n",
        "# Menggunakan pandas sampel dengan memangil 10 data random dan random_state digunakan agar random state yang terpilih tetap sama\n",
        "datainfernce = data.sample(10, random_state=10) \n",
        "datainfernce"
      ],
      "metadata": {
        "colab": {
          "base_uri": "https://localhost:8080/",
          "height": 511
        },
        "id": "YR7g-sGjZ4gR",
        "outputId": "98daa685-36af-441e-e514-eb961b2c5204"
      },
      "execution_count": 14,
      "outputs": [
        {
          "output_type": "execute_result",
          "data": {
            "text/plain": [
              "      Unnamed: 0                                  Nama Hotel  \\\n",
              "1109        1109          Villa Puncak Garuda E16 - Prathivi   \n",
              "56            56  Hotel Santika Premiere Hayam Wuruk Jakarta   \n",
              "1030        1030                               Kuta Paradise   \n",
              "550          550                              The Palace Inn   \n",
              "861          861                      Maya Ubud Resort & Spa   \n",
              "1116        1116                             The Nyaman Bali   \n",
              "647          647                                Mahima Hotel   \n",
              "1263        1263                      Se.juk Residence Araya   \n",
              "87            87                    Asyana Kemayoran Jakarta   \n",
              "1451        1451      Mangsit Suite by Holiday Resort Lombok   \n",
              "\n",
              "                    Nama Kota                       Provinsi      Latitude  \\\n",
              "1109                Kota Batu                     Jawa Timur -7.902774e+00   \n",
              "56         Kota Jakarta Barat  Daerah Khusus Ibukota Jakarta -6.148480e+00   \n",
              "1030  Kabupaten Lombok Tengah            Nusa Tenggara Barat -8.894132e-01   \n",
              "550                Kota Medan                 Sumatera Utara  3.586211e+00   \n",
              "861         Kabupaten Gianyar                           Bali -8.510000e-08   \n",
              "1116         Kabupaten Badung                           Bali -8.730000e-08   \n",
              "647             Kota Semarang                    Jawa Tengah -6.985492e+00   \n",
              "1263         Kabupaten Malang                     Jawa Timur -7.940000e+00   \n",
              "87         Kota Jakarta Pusat  Daerah Khusus Ibukota Jakarta -6.165128e+00   \n",
              "1451   Kabupaten Lombok Barat            Nusa Tenggara Barat -8.490000e+00   \n",
              "\n",
              "       Longitude  Luas Kamar  Kapasitas  Rating    Harga  \n",
              "1109  112.540084          50          6    4.75   575000  \n",
              "56    106.816778          22          3    4.58   835000  \n",
              "1030  116.285603          16          3    4.03   542700  \n",
              "550    98.666376          30          3    4.00   301205  \n",
              "861   115.275434          44          3    4.75  4266766  \n",
              "1116  115.172126          23          3    4.58   351500  \n",
              "647   110.372531          24          3    4.03   558000  \n",
              "1263  112.671534          17          1    4.42   205000  \n",
              "87    106.841667          18          2    4.42   417690  \n",
              "1451  116.047299          50          5    4.05  1755000  "
            ],
            "text/html": [
              "\n",
              "  <div id=\"df-9bd44e9f-6fd6-4ca2-9a1e-882aac8ff45f\">\n",
              "    <div class=\"colab-df-container\">\n",
              "      <div>\n",
              "<style scoped>\n",
              "    .dataframe tbody tr th:only-of-type {\n",
              "        vertical-align: middle;\n",
              "    }\n",
              "\n",
              "    .dataframe tbody tr th {\n",
              "        vertical-align: top;\n",
              "    }\n",
              "\n",
              "    .dataframe thead th {\n",
              "        text-align: right;\n",
              "    }\n",
              "</style>\n",
              "<table border=\"1\" class=\"dataframe\">\n",
              "  <thead>\n",
              "    <tr style=\"text-align: right;\">\n",
              "      <th></th>\n",
              "      <th>Unnamed: 0</th>\n",
              "      <th>Nama Hotel</th>\n",
              "      <th>Nama Kota</th>\n",
              "      <th>Provinsi</th>\n",
              "      <th>Latitude</th>\n",
              "      <th>Longitude</th>\n",
              "      <th>Luas Kamar</th>\n",
              "      <th>Kapasitas</th>\n",
              "      <th>Rating</th>\n",
              "      <th>Harga</th>\n",
              "    </tr>\n",
              "  </thead>\n",
              "  <tbody>\n",
              "    <tr>\n",
              "      <th>1109</th>\n",
              "      <td>1109</td>\n",
              "      <td>Villa Puncak Garuda E16 - Prathivi</td>\n",
              "      <td>Kota Batu</td>\n",
              "      <td>Jawa Timur</td>\n",
              "      <td>-7.902774e+00</td>\n",
              "      <td>112.540084</td>\n",
              "      <td>50</td>\n",
              "      <td>6</td>\n",
              "      <td>4.75</td>\n",
              "      <td>575000</td>\n",
              "    </tr>\n",
              "    <tr>\n",
              "      <th>56</th>\n",
              "      <td>56</td>\n",
              "      <td>Hotel Santika Premiere Hayam Wuruk Jakarta</td>\n",
              "      <td>Kota Jakarta Barat</td>\n",
              "      <td>Daerah Khusus Ibukota Jakarta</td>\n",
              "      <td>-6.148480e+00</td>\n",
              "      <td>106.816778</td>\n",
              "      <td>22</td>\n",
              "      <td>3</td>\n",
              "      <td>4.58</td>\n",
              "      <td>835000</td>\n",
              "    </tr>\n",
              "    <tr>\n",
              "      <th>1030</th>\n",
              "      <td>1030</td>\n",
              "      <td>Kuta Paradise</td>\n",
              "      <td>Kabupaten Lombok Tengah</td>\n",
              "      <td>Nusa Tenggara Barat</td>\n",
              "      <td>-8.894132e-01</td>\n",
              "      <td>116.285603</td>\n",
              "      <td>16</td>\n",
              "      <td>3</td>\n",
              "      <td>4.03</td>\n",
              "      <td>542700</td>\n",
              "    </tr>\n",
              "    <tr>\n",
              "      <th>550</th>\n",
              "      <td>550</td>\n",
              "      <td>The Palace Inn</td>\n",
              "      <td>Kota Medan</td>\n",
              "      <td>Sumatera Utara</td>\n",
              "      <td>3.586211e+00</td>\n",
              "      <td>98.666376</td>\n",
              "      <td>30</td>\n",
              "      <td>3</td>\n",
              "      <td>4.00</td>\n",
              "      <td>301205</td>\n",
              "    </tr>\n",
              "    <tr>\n",
              "      <th>861</th>\n",
              "      <td>861</td>\n",
              "      <td>Maya Ubud Resort &amp; Spa</td>\n",
              "      <td>Kabupaten Gianyar</td>\n",
              "      <td>Bali</td>\n",
              "      <td>-8.510000e-08</td>\n",
              "      <td>115.275434</td>\n",
              "      <td>44</td>\n",
              "      <td>3</td>\n",
              "      <td>4.75</td>\n",
              "      <td>4266766</td>\n",
              "    </tr>\n",
              "    <tr>\n",
              "      <th>1116</th>\n",
              "      <td>1116</td>\n",
              "      <td>The Nyaman Bali</td>\n",
              "      <td>Kabupaten Badung</td>\n",
              "      <td>Bali</td>\n",
              "      <td>-8.730000e-08</td>\n",
              "      <td>115.172126</td>\n",
              "      <td>23</td>\n",
              "      <td>3</td>\n",
              "      <td>4.58</td>\n",
              "      <td>351500</td>\n",
              "    </tr>\n",
              "    <tr>\n",
              "      <th>647</th>\n",
              "      <td>647</td>\n",
              "      <td>Mahima Hotel</td>\n",
              "      <td>Kota Semarang</td>\n",
              "      <td>Jawa Tengah</td>\n",
              "      <td>-6.985492e+00</td>\n",
              "      <td>110.372531</td>\n",
              "      <td>24</td>\n",
              "      <td>3</td>\n",
              "      <td>4.03</td>\n",
              "      <td>558000</td>\n",
              "    </tr>\n",
              "    <tr>\n",
              "      <th>1263</th>\n",
              "      <td>1263</td>\n",
              "      <td>Se.juk Residence Araya</td>\n",
              "      <td>Kabupaten Malang</td>\n",
              "      <td>Jawa Timur</td>\n",
              "      <td>-7.940000e+00</td>\n",
              "      <td>112.671534</td>\n",
              "      <td>17</td>\n",
              "      <td>1</td>\n",
              "      <td>4.42</td>\n",
              "      <td>205000</td>\n",
              "    </tr>\n",
              "    <tr>\n",
              "      <th>87</th>\n",
              "      <td>87</td>\n",
              "      <td>Asyana Kemayoran Jakarta</td>\n",
              "      <td>Kota Jakarta Pusat</td>\n",
              "      <td>Daerah Khusus Ibukota Jakarta</td>\n",
              "      <td>-6.165128e+00</td>\n",
              "      <td>106.841667</td>\n",
              "      <td>18</td>\n",
              "      <td>2</td>\n",
              "      <td>4.42</td>\n",
              "      <td>417690</td>\n",
              "    </tr>\n",
              "    <tr>\n",
              "      <th>1451</th>\n",
              "      <td>1451</td>\n",
              "      <td>Mangsit Suite by Holiday Resort Lombok</td>\n",
              "      <td>Kabupaten Lombok Barat</td>\n",
              "      <td>Nusa Tenggara Barat</td>\n",
              "      <td>-8.490000e+00</td>\n",
              "      <td>116.047299</td>\n",
              "      <td>50</td>\n",
              "      <td>5</td>\n",
              "      <td>4.05</td>\n",
              "      <td>1755000</td>\n",
              "    </tr>\n",
              "  </tbody>\n",
              "</table>\n",
              "</div>\n",
              "      <button class=\"colab-df-convert\" onclick=\"convertToInteractive('df-9bd44e9f-6fd6-4ca2-9a1e-882aac8ff45f')\"\n",
              "              title=\"Convert this dataframe to an interactive table.\"\n",
              "              style=\"display:none;\">\n",
              "        \n",
              "  <svg xmlns=\"http://www.w3.org/2000/svg\" height=\"24px\"viewBox=\"0 0 24 24\"\n",
              "       width=\"24px\">\n",
              "    <path d=\"M0 0h24v24H0V0z\" fill=\"none\"/>\n",
              "    <path d=\"M18.56 5.44l.94 2.06.94-2.06 2.06-.94-2.06-.94-.94-2.06-.94 2.06-2.06.94zm-11 1L8.5 8.5l.94-2.06 2.06-.94-2.06-.94L8.5 2.5l-.94 2.06-2.06.94zm10 10l.94 2.06.94-2.06 2.06-.94-2.06-.94-.94-2.06-.94 2.06-2.06.94z\"/><path d=\"M17.41 7.96l-1.37-1.37c-.4-.4-.92-.59-1.43-.59-.52 0-1.04.2-1.43.59L10.3 9.45l-7.72 7.72c-.78.78-.78 2.05 0 2.83L4 21.41c.39.39.9.59 1.41.59.51 0 1.02-.2 1.41-.59l7.78-7.78 2.81-2.81c.8-.78.8-2.07 0-2.86zM5.41 20L4 18.59l7.72-7.72 1.47 1.35L5.41 20z\"/>\n",
              "  </svg>\n",
              "      </button>\n",
              "      \n",
              "  <style>\n",
              "    .colab-df-container {\n",
              "      display:flex;\n",
              "      flex-wrap:wrap;\n",
              "      gap: 12px;\n",
              "    }\n",
              "\n",
              "    .colab-df-convert {\n",
              "      background-color: #E8F0FE;\n",
              "      border: none;\n",
              "      border-radius: 50%;\n",
              "      cursor: pointer;\n",
              "      display: none;\n",
              "      fill: #1967D2;\n",
              "      height: 32px;\n",
              "      padding: 0 0 0 0;\n",
              "      width: 32px;\n",
              "    }\n",
              "\n",
              "    .colab-df-convert:hover {\n",
              "      background-color: #E2EBFA;\n",
              "      box-shadow: 0px 1px 2px rgba(60, 64, 67, 0.3), 0px 1px 3px 1px rgba(60, 64, 67, 0.15);\n",
              "      fill: #174EA6;\n",
              "    }\n",
              "\n",
              "    [theme=dark] .colab-df-convert {\n",
              "      background-color: #3B4455;\n",
              "      fill: #D2E3FC;\n",
              "    }\n",
              "\n",
              "    [theme=dark] .colab-df-convert:hover {\n",
              "      background-color: #434B5C;\n",
              "      box-shadow: 0px 1px 3px 1px rgba(0, 0, 0, 0.15);\n",
              "      filter: drop-shadow(0px 1px 2px rgba(0, 0, 0, 0.3));\n",
              "      fill: #FFFFFF;\n",
              "    }\n",
              "  </style>\n",
              "\n",
              "      <script>\n",
              "        const buttonEl =\n",
              "          document.querySelector('#df-9bd44e9f-6fd6-4ca2-9a1e-882aac8ff45f button.colab-df-convert');\n",
              "        buttonEl.style.display =\n",
              "          google.colab.kernel.accessAllowed ? 'block' : 'none';\n",
              "\n",
              "        async function convertToInteractive(key) {\n",
              "          const element = document.querySelector('#df-9bd44e9f-6fd6-4ca2-9a1e-882aac8ff45f');\n",
              "          const dataTable =\n",
              "            await google.colab.kernel.invokeFunction('convertToInteractive',\n",
              "                                                     [key], {});\n",
              "          if (!dataTable) return;\n",
              "\n",
              "          const docLinkHtml = 'Like what you see? Visit the ' +\n",
              "            '<a target=\"_blank\" href=https://colab.research.google.com/notebooks/data_table.ipynb>data table notebook</a>'\n",
              "            + ' to learn more about interactive tables.';\n",
              "          element.innerHTML = '';\n",
              "          dataTable['output_type'] = 'display_data';\n",
              "          await google.colab.output.renderOutput(dataTable, element);\n",
              "          const docLink = document.createElement('div');\n",
              "          docLink.innerHTML = docLinkHtml;\n",
              "          element.appendChild(docLink);\n",
              "        }\n",
              "      </script>\n",
              "    </div>\n",
              "  </div>\n",
              "  "
            ]
          },
          "metadata": {},
          "execution_count": 14
        }
      ]
    },
    {
      "cell_type": "markdown",
      "source": [
        "Dari sekumpulan informasi dataset harga hotel, terdapat 10 data yang diduga tidak masuk dalam kumpulan dataset atau tetapi terdapat di bagian data inference."
      ],
      "metadata": {
        "id": "pSu-kozVNPMd"
      }
    },
    {
      "cell_type": "code",
      "source": [
        "# Hapus Kumpulan Inferensi dari Kumpulan Data\n",
        "\n",
        "data_train_test = data.drop(datainfernce.index)\n",
        "data_train_test"
      ],
      "metadata": {
        "colab": {
          "base_uri": "https://localhost:8080/",
          "height": 606
        },
        "id": "1hBDJYyqaHAZ",
        "outputId": "bf22bac1-139e-4c77-d2b4-0a4599e3e144"
      },
      "execution_count": 15,
      "outputs": [
        {
          "output_type": "execute_result",
          "data": {
            "text/plain": [
              "      Unnamed: 0                       Nama Hotel             Nama Kota  \\\n",
              "0              0                grandkemang Hotel  Kota Jakarta Selatan   \n",
              "1              1             Royal Kuningan Hotel  Kota Jakarta Selatan   \n",
              "2              2  The Grove Suites by GRAND ASTON  Kota Jakarta Selatan   \n",
              "3              3   Millennium Hotel Sirih Jakarta    Kota Jakarta Pusat   \n",
              "4              4          Aryaduta Suite Semanggi  Kota Jakarta Selatan   \n",
              "...          ...                              ...                   ...   \n",
              "1496        1496                PIA Hotel Cirebon          Kota Cirebon   \n",
              "1497        1497            Hotel Syariah Cordova          Kota Cirebon   \n",
              "1498        1498            Hotel Victory Cirebon     Kabupaten Cirebon   \n",
              "1499        1499           Aurora Hotel Siliwangi          Kota Cirebon   \n",
              "1500        1500  DEDY JAYA CILEDUG HOTEL CIREBON     Kabupaten Cirebon   \n",
              "\n",
              "                           Provinsi  Latitude   Longitude  Luas Kamar  \\\n",
              "0     Daerah Khusus Ibukota Jakarta -6.255564  106.810793          22   \n",
              "1     Daerah Khusus Ibukota Jakarta -6.209102  106.830704          30   \n",
              "2     Daerah Khusus Ibukota Jakarta -6.220000  106.835112          34   \n",
              "3     Daerah Khusus Ibukota Jakarta -6.180000  106.816708          30   \n",
              "4     Daerah Khusus Ibukota Jakarta -6.217762  106.816398          32   \n",
              "...                             ...       ...         ...         ...   \n",
              "1496                     Jawa Barat -6.709959  108.550699          15   \n",
              "1497                     Jawa Barat -6.704522  108.557343          38   \n",
              "1498                     Jawa Barat -6.710000  108.539290          17   \n",
              "1499                     Jawa Barat -6.707524  108.559091          35   \n",
              "1500                     Jawa Barat -6.906359  108.744844          20   \n",
              "\n",
              "      Kapasitas  Rating    Harga  \n",
              "0             3    4.03   543750  \n",
              "1             4    4.42   609768  \n",
              "2             2    4.58  1134955  \n",
              "3             1    4.05   764599  \n",
              "4             3    4.42  1057500  \n",
              "...         ...     ...      ...  \n",
              "1496          3    4.25   225000  \n",
              "1497          3    3.15   154630  \n",
              "1498          2    4.00   289750  \n",
              "1499          2    4.05   228000  \n",
              "1500          2    4.00   414000  \n",
              "\n",
              "[1491 rows x 10 columns]"
            ],
            "text/html": [
              "\n",
              "  <div id=\"df-b289f219-9274-48e3-9e81-cb7eedb439b5\">\n",
              "    <div class=\"colab-df-container\">\n",
              "      <div>\n",
              "<style scoped>\n",
              "    .dataframe tbody tr th:only-of-type {\n",
              "        vertical-align: middle;\n",
              "    }\n",
              "\n",
              "    .dataframe tbody tr th {\n",
              "        vertical-align: top;\n",
              "    }\n",
              "\n",
              "    .dataframe thead th {\n",
              "        text-align: right;\n",
              "    }\n",
              "</style>\n",
              "<table border=\"1\" class=\"dataframe\">\n",
              "  <thead>\n",
              "    <tr style=\"text-align: right;\">\n",
              "      <th></th>\n",
              "      <th>Unnamed: 0</th>\n",
              "      <th>Nama Hotel</th>\n",
              "      <th>Nama Kota</th>\n",
              "      <th>Provinsi</th>\n",
              "      <th>Latitude</th>\n",
              "      <th>Longitude</th>\n",
              "      <th>Luas Kamar</th>\n",
              "      <th>Kapasitas</th>\n",
              "      <th>Rating</th>\n",
              "      <th>Harga</th>\n",
              "    </tr>\n",
              "  </thead>\n",
              "  <tbody>\n",
              "    <tr>\n",
              "      <th>0</th>\n",
              "      <td>0</td>\n",
              "      <td>grandkemang Hotel</td>\n",
              "      <td>Kota Jakarta Selatan</td>\n",
              "      <td>Daerah Khusus Ibukota Jakarta</td>\n",
              "      <td>-6.255564</td>\n",
              "      <td>106.810793</td>\n",
              "      <td>22</td>\n",
              "      <td>3</td>\n",
              "      <td>4.03</td>\n",
              "      <td>543750</td>\n",
              "    </tr>\n",
              "    <tr>\n",
              "      <th>1</th>\n",
              "      <td>1</td>\n",
              "      <td>Royal Kuningan Hotel</td>\n",
              "      <td>Kota Jakarta Selatan</td>\n",
              "      <td>Daerah Khusus Ibukota Jakarta</td>\n",
              "      <td>-6.209102</td>\n",
              "      <td>106.830704</td>\n",
              "      <td>30</td>\n",
              "      <td>4</td>\n",
              "      <td>4.42</td>\n",
              "      <td>609768</td>\n",
              "    </tr>\n",
              "    <tr>\n",
              "      <th>2</th>\n",
              "      <td>2</td>\n",
              "      <td>The Grove Suites by GRAND ASTON</td>\n",
              "      <td>Kota Jakarta Selatan</td>\n",
              "      <td>Daerah Khusus Ibukota Jakarta</td>\n",
              "      <td>-6.220000</td>\n",
              "      <td>106.835112</td>\n",
              "      <td>34</td>\n",
              "      <td>2</td>\n",
              "      <td>4.58</td>\n",
              "      <td>1134955</td>\n",
              "    </tr>\n",
              "    <tr>\n",
              "      <th>3</th>\n",
              "      <td>3</td>\n",
              "      <td>Millennium Hotel Sirih Jakarta</td>\n",
              "      <td>Kota Jakarta Pusat</td>\n",
              "      <td>Daerah Khusus Ibukota Jakarta</td>\n",
              "      <td>-6.180000</td>\n",
              "      <td>106.816708</td>\n",
              "      <td>30</td>\n",
              "      <td>1</td>\n",
              "      <td>4.05</td>\n",
              "      <td>764599</td>\n",
              "    </tr>\n",
              "    <tr>\n",
              "      <th>4</th>\n",
              "      <td>4</td>\n",
              "      <td>Aryaduta Suite Semanggi</td>\n",
              "      <td>Kota Jakarta Selatan</td>\n",
              "      <td>Daerah Khusus Ibukota Jakarta</td>\n",
              "      <td>-6.217762</td>\n",
              "      <td>106.816398</td>\n",
              "      <td>32</td>\n",
              "      <td>3</td>\n",
              "      <td>4.42</td>\n",
              "      <td>1057500</td>\n",
              "    </tr>\n",
              "    <tr>\n",
              "      <th>...</th>\n",
              "      <td>...</td>\n",
              "      <td>...</td>\n",
              "      <td>...</td>\n",
              "      <td>...</td>\n",
              "      <td>...</td>\n",
              "      <td>...</td>\n",
              "      <td>...</td>\n",
              "      <td>...</td>\n",
              "      <td>...</td>\n",
              "      <td>...</td>\n",
              "    </tr>\n",
              "    <tr>\n",
              "      <th>1496</th>\n",
              "      <td>1496</td>\n",
              "      <td>PIA Hotel Cirebon</td>\n",
              "      <td>Kota Cirebon</td>\n",
              "      <td>Jawa Barat</td>\n",
              "      <td>-6.709959</td>\n",
              "      <td>108.550699</td>\n",
              "      <td>15</td>\n",
              "      <td>3</td>\n",
              "      <td>4.25</td>\n",
              "      <td>225000</td>\n",
              "    </tr>\n",
              "    <tr>\n",
              "      <th>1497</th>\n",
              "      <td>1497</td>\n",
              "      <td>Hotel Syariah Cordova</td>\n",
              "      <td>Kota Cirebon</td>\n",
              "      <td>Jawa Barat</td>\n",
              "      <td>-6.704522</td>\n",
              "      <td>108.557343</td>\n",
              "      <td>38</td>\n",
              "      <td>3</td>\n",
              "      <td>3.15</td>\n",
              "      <td>154630</td>\n",
              "    </tr>\n",
              "    <tr>\n",
              "      <th>1498</th>\n",
              "      <td>1498</td>\n",
              "      <td>Hotel Victory Cirebon</td>\n",
              "      <td>Kabupaten Cirebon</td>\n",
              "      <td>Jawa Barat</td>\n",
              "      <td>-6.710000</td>\n",
              "      <td>108.539290</td>\n",
              "      <td>17</td>\n",
              "      <td>2</td>\n",
              "      <td>4.00</td>\n",
              "      <td>289750</td>\n",
              "    </tr>\n",
              "    <tr>\n",
              "      <th>1499</th>\n",
              "      <td>1499</td>\n",
              "      <td>Aurora Hotel Siliwangi</td>\n",
              "      <td>Kota Cirebon</td>\n",
              "      <td>Jawa Barat</td>\n",
              "      <td>-6.707524</td>\n",
              "      <td>108.559091</td>\n",
              "      <td>35</td>\n",
              "      <td>2</td>\n",
              "      <td>4.05</td>\n",
              "      <td>228000</td>\n",
              "    </tr>\n",
              "    <tr>\n",
              "      <th>1500</th>\n",
              "      <td>1500</td>\n",
              "      <td>DEDY JAYA CILEDUG HOTEL CIREBON</td>\n",
              "      <td>Kabupaten Cirebon</td>\n",
              "      <td>Jawa Barat</td>\n",
              "      <td>-6.906359</td>\n",
              "      <td>108.744844</td>\n",
              "      <td>20</td>\n",
              "      <td>2</td>\n",
              "      <td>4.00</td>\n",
              "      <td>414000</td>\n",
              "    </tr>\n",
              "  </tbody>\n",
              "</table>\n",
              "<p>1491 rows × 10 columns</p>\n",
              "</div>\n",
              "      <button class=\"colab-df-convert\" onclick=\"convertToInteractive('df-b289f219-9274-48e3-9e81-cb7eedb439b5')\"\n",
              "              title=\"Convert this dataframe to an interactive table.\"\n",
              "              style=\"display:none;\">\n",
              "        \n",
              "  <svg xmlns=\"http://www.w3.org/2000/svg\" height=\"24px\"viewBox=\"0 0 24 24\"\n",
              "       width=\"24px\">\n",
              "    <path d=\"M0 0h24v24H0V0z\" fill=\"none\"/>\n",
              "    <path d=\"M18.56 5.44l.94 2.06.94-2.06 2.06-.94-2.06-.94-.94-2.06-.94 2.06-2.06.94zm-11 1L8.5 8.5l.94-2.06 2.06-.94-2.06-.94L8.5 2.5l-.94 2.06-2.06.94zm10 10l.94 2.06.94-2.06 2.06-.94-2.06-.94-.94-2.06-.94 2.06-2.06.94z\"/><path d=\"M17.41 7.96l-1.37-1.37c-.4-.4-.92-.59-1.43-.59-.52 0-1.04.2-1.43.59L10.3 9.45l-7.72 7.72c-.78.78-.78 2.05 0 2.83L4 21.41c.39.39.9.59 1.41.59.51 0 1.02-.2 1.41-.59l7.78-7.78 2.81-2.81c.8-.78.8-2.07 0-2.86zM5.41 20L4 18.59l7.72-7.72 1.47 1.35L5.41 20z\"/>\n",
              "  </svg>\n",
              "      </button>\n",
              "      \n",
              "  <style>\n",
              "    .colab-df-container {\n",
              "      display:flex;\n",
              "      flex-wrap:wrap;\n",
              "      gap: 12px;\n",
              "    }\n",
              "\n",
              "    .colab-df-convert {\n",
              "      background-color: #E8F0FE;\n",
              "      border: none;\n",
              "      border-radius: 50%;\n",
              "      cursor: pointer;\n",
              "      display: none;\n",
              "      fill: #1967D2;\n",
              "      height: 32px;\n",
              "      padding: 0 0 0 0;\n",
              "      width: 32px;\n",
              "    }\n",
              "\n",
              "    .colab-df-convert:hover {\n",
              "      background-color: #E2EBFA;\n",
              "      box-shadow: 0px 1px 2px rgba(60, 64, 67, 0.3), 0px 1px 3px 1px rgba(60, 64, 67, 0.15);\n",
              "      fill: #174EA6;\n",
              "    }\n",
              "\n",
              "    [theme=dark] .colab-df-convert {\n",
              "      background-color: #3B4455;\n",
              "      fill: #D2E3FC;\n",
              "    }\n",
              "\n",
              "    [theme=dark] .colab-df-convert:hover {\n",
              "      background-color: #434B5C;\n",
              "      box-shadow: 0px 1px 3px 1px rgba(0, 0, 0, 0.15);\n",
              "      filter: drop-shadow(0px 1px 2px rgba(0, 0, 0, 0.3));\n",
              "      fill: #FFFFFF;\n",
              "    }\n",
              "  </style>\n",
              "\n",
              "      <script>\n",
              "        const buttonEl =\n",
              "          document.querySelector('#df-b289f219-9274-48e3-9e81-cb7eedb439b5 button.colab-df-convert');\n",
              "        buttonEl.style.display =\n",
              "          google.colab.kernel.accessAllowed ? 'block' : 'none';\n",
              "\n",
              "        async function convertToInteractive(key) {\n",
              "          const element = document.querySelector('#df-b289f219-9274-48e3-9e81-cb7eedb439b5');\n",
              "          const dataTable =\n",
              "            await google.colab.kernel.invokeFunction('convertToInteractive',\n",
              "                                                     [key], {});\n",
              "          if (!dataTable) return;\n",
              "\n",
              "          const docLinkHtml = 'Like what you see? Visit the ' +\n",
              "            '<a target=\"_blank\" href=https://colab.research.google.com/notebooks/data_table.ipynb>data table notebook</a>'\n",
              "            + ' to learn more about interactive tables.';\n",
              "          element.innerHTML = '';\n",
              "          dataTable['output_type'] = 'display_data';\n",
              "          await google.colab.output.renderOutput(dataTable, element);\n",
              "          const docLink = document.createElement('div');\n",
              "          docLink.innerHTML = docLinkHtml;\n",
              "          element.appendChild(docLink);\n",
              "        }\n",
              "      </script>\n",
              "    </div>\n",
              "  </div>\n",
              "  "
            ]
          },
          "metadata": {},
          "execution_count": 15
        }
      ]
    },
    {
      "cell_type": "code",
      "source": [
        "data.shape"
      ],
      "metadata": {
        "colab": {
          "base_uri": "https://localhost:8080/"
        },
        "id": "PtVo5EQ7Nf83",
        "outputId": "2ddd36d9-54c7-415f-ce01-da592915a711"
      },
      "execution_count": 16,
      "outputs": [
        {
          "output_type": "execute_result",
          "data": {
            "text/plain": [
              "(1501, 10)"
            ]
          },
          "metadata": {},
          "execution_count": 16
        }
      ]
    },
    {
      "cell_type": "markdown",
      "source": [
        "Ketika belum memisahkan data inference dari dataset bahwa, jumlah dataset awal harga hotel memiliki 1501 baris kemudian menghilangkan/memisahkan data inference dari dataset harga hotel berubah menjadi 1491 baris."
      ],
      "metadata": {
        "id": "di6UUxZ-Nkct"
      }
    },
    {
      "cell_type": "code",
      "source": [
        "# Reset Index\n",
        "# Agar tidak terjadi yang tidak diinginkan, data di reset index nya untuk keterurutan\n",
        "\n",
        "data_train_test.reset_index(drop=True, inplace=True)\n",
        "datainfernce.reset_index(drop=True, inplace=True)\n",
        "datainfernce"
      ],
      "metadata": {
        "colab": {
          "base_uri": "https://localhost:8080/",
          "height": 511
        },
        "id": "ZH8oHXaKaKQa",
        "outputId": "e5f30a40-d394-4829-ca3d-2cb24b3824c5"
      },
      "execution_count": 17,
      "outputs": [
        {
          "output_type": "execute_result",
          "data": {
            "text/plain": [
              "   Unnamed: 0                                  Nama Hotel  \\\n",
              "0        1109          Villa Puncak Garuda E16 - Prathivi   \n",
              "1          56  Hotel Santika Premiere Hayam Wuruk Jakarta   \n",
              "2        1030                               Kuta Paradise   \n",
              "3         550                              The Palace Inn   \n",
              "4         861                      Maya Ubud Resort & Spa   \n",
              "5        1116                             The Nyaman Bali   \n",
              "6         647                                Mahima Hotel   \n",
              "7        1263                      Se.juk Residence Araya   \n",
              "8          87                    Asyana Kemayoran Jakarta   \n",
              "9        1451      Mangsit Suite by Holiday Resort Lombok   \n",
              "\n",
              "                 Nama Kota                       Provinsi      Latitude  \\\n",
              "0                Kota Batu                     Jawa Timur -7.902774e+00   \n",
              "1       Kota Jakarta Barat  Daerah Khusus Ibukota Jakarta -6.148480e+00   \n",
              "2  Kabupaten Lombok Tengah            Nusa Tenggara Barat -8.894132e-01   \n",
              "3               Kota Medan                 Sumatera Utara  3.586211e+00   \n",
              "4        Kabupaten Gianyar                           Bali -8.510000e-08   \n",
              "5         Kabupaten Badung                           Bali -8.730000e-08   \n",
              "6            Kota Semarang                    Jawa Tengah -6.985492e+00   \n",
              "7         Kabupaten Malang                     Jawa Timur -7.940000e+00   \n",
              "8       Kota Jakarta Pusat  Daerah Khusus Ibukota Jakarta -6.165128e+00   \n",
              "9   Kabupaten Lombok Barat            Nusa Tenggara Barat -8.490000e+00   \n",
              "\n",
              "    Longitude  Luas Kamar  Kapasitas  Rating    Harga  \n",
              "0  112.540084          50          6    4.75   575000  \n",
              "1  106.816778          22          3    4.58   835000  \n",
              "2  116.285603          16          3    4.03   542700  \n",
              "3   98.666376          30          3    4.00   301205  \n",
              "4  115.275434          44          3    4.75  4266766  \n",
              "5  115.172126          23          3    4.58   351500  \n",
              "6  110.372531          24          3    4.03   558000  \n",
              "7  112.671534          17          1    4.42   205000  \n",
              "8  106.841667          18          2    4.42   417690  \n",
              "9  116.047299          50          5    4.05  1755000  "
            ],
            "text/html": [
              "\n",
              "  <div id=\"df-f494c8a7-78e3-45d6-9d7d-fd41e6c7b1e5\">\n",
              "    <div class=\"colab-df-container\">\n",
              "      <div>\n",
              "<style scoped>\n",
              "    .dataframe tbody tr th:only-of-type {\n",
              "        vertical-align: middle;\n",
              "    }\n",
              "\n",
              "    .dataframe tbody tr th {\n",
              "        vertical-align: top;\n",
              "    }\n",
              "\n",
              "    .dataframe thead th {\n",
              "        text-align: right;\n",
              "    }\n",
              "</style>\n",
              "<table border=\"1\" class=\"dataframe\">\n",
              "  <thead>\n",
              "    <tr style=\"text-align: right;\">\n",
              "      <th></th>\n",
              "      <th>Unnamed: 0</th>\n",
              "      <th>Nama Hotel</th>\n",
              "      <th>Nama Kota</th>\n",
              "      <th>Provinsi</th>\n",
              "      <th>Latitude</th>\n",
              "      <th>Longitude</th>\n",
              "      <th>Luas Kamar</th>\n",
              "      <th>Kapasitas</th>\n",
              "      <th>Rating</th>\n",
              "      <th>Harga</th>\n",
              "    </tr>\n",
              "  </thead>\n",
              "  <tbody>\n",
              "    <tr>\n",
              "      <th>0</th>\n",
              "      <td>1109</td>\n",
              "      <td>Villa Puncak Garuda E16 - Prathivi</td>\n",
              "      <td>Kota Batu</td>\n",
              "      <td>Jawa Timur</td>\n",
              "      <td>-7.902774e+00</td>\n",
              "      <td>112.540084</td>\n",
              "      <td>50</td>\n",
              "      <td>6</td>\n",
              "      <td>4.75</td>\n",
              "      <td>575000</td>\n",
              "    </tr>\n",
              "    <tr>\n",
              "      <th>1</th>\n",
              "      <td>56</td>\n",
              "      <td>Hotel Santika Premiere Hayam Wuruk Jakarta</td>\n",
              "      <td>Kota Jakarta Barat</td>\n",
              "      <td>Daerah Khusus Ibukota Jakarta</td>\n",
              "      <td>-6.148480e+00</td>\n",
              "      <td>106.816778</td>\n",
              "      <td>22</td>\n",
              "      <td>3</td>\n",
              "      <td>4.58</td>\n",
              "      <td>835000</td>\n",
              "    </tr>\n",
              "    <tr>\n",
              "      <th>2</th>\n",
              "      <td>1030</td>\n",
              "      <td>Kuta Paradise</td>\n",
              "      <td>Kabupaten Lombok Tengah</td>\n",
              "      <td>Nusa Tenggara Barat</td>\n",
              "      <td>-8.894132e-01</td>\n",
              "      <td>116.285603</td>\n",
              "      <td>16</td>\n",
              "      <td>3</td>\n",
              "      <td>4.03</td>\n",
              "      <td>542700</td>\n",
              "    </tr>\n",
              "    <tr>\n",
              "      <th>3</th>\n",
              "      <td>550</td>\n",
              "      <td>The Palace Inn</td>\n",
              "      <td>Kota Medan</td>\n",
              "      <td>Sumatera Utara</td>\n",
              "      <td>3.586211e+00</td>\n",
              "      <td>98.666376</td>\n",
              "      <td>30</td>\n",
              "      <td>3</td>\n",
              "      <td>4.00</td>\n",
              "      <td>301205</td>\n",
              "    </tr>\n",
              "    <tr>\n",
              "      <th>4</th>\n",
              "      <td>861</td>\n",
              "      <td>Maya Ubud Resort &amp; Spa</td>\n",
              "      <td>Kabupaten Gianyar</td>\n",
              "      <td>Bali</td>\n",
              "      <td>-8.510000e-08</td>\n",
              "      <td>115.275434</td>\n",
              "      <td>44</td>\n",
              "      <td>3</td>\n",
              "      <td>4.75</td>\n",
              "      <td>4266766</td>\n",
              "    </tr>\n",
              "    <tr>\n",
              "      <th>5</th>\n",
              "      <td>1116</td>\n",
              "      <td>The Nyaman Bali</td>\n",
              "      <td>Kabupaten Badung</td>\n",
              "      <td>Bali</td>\n",
              "      <td>-8.730000e-08</td>\n",
              "      <td>115.172126</td>\n",
              "      <td>23</td>\n",
              "      <td>3</td>\n",
              "      <td>4.58</td>\n",
              "      <td>351500</td>\n",
              "    </tr>\n",
              "    <tr>\n",
              "      <th>6</th>\n",
              "      <td>647</td>\n",
              "      <td>Mahima Hotel</td>\n",
              "      <td>Kota Semarang</td>\n",
              "      <td>Jawa Tengah</td>\n",
              "      <td>-6.985492e+00</td>\n",
              "      <td>110.372531</td>\n",
              "      <td>24</td>\n",
              "      <td>3</td>\n",
              "      <td>4.03</td>\n",
              "      <td>558000</td>\n",
              "    </tr>\n",
              "    <tr>\n",
              "      <th>7</th>\n",
              "      <td>1263</td>\n",
              "      <td>Se.juk Residence Araya</td>\n",
              "      <td>Kabupaten Malang</td>\n",
              "      <td>Jawa Timur</td>\n",
              "      <td>-7.940000e+00</td>\n",
              "      <td>112.671534</td>\n",
              "      <td>17</td>\n",
              "      <td>1</td>\n",
              "      <td>4.42</td>\n",
              "      <td>205000</td>\n",
              "    </tr>\n",
              "    <tr>\n",
              "      <th>8</th>\n",
              "      <td>87</td>\n",
              "      <td>Asyana Kemayoran Jakarta</td>\n",
              "      <td>Kota Jakarta Pusat</td>\n",
              "      <td>Daerah Khusus Ibukota Jakarta</td>\n",
              "      <td>-6.165128e+00</td>\n",
              "      <td>106.841667</td>\n",
              "      <td>18</td>\n",
              "      <td>2</td>\n",
              "      <td>4.42</td>\n",
              "      <td>417690</td>\n",
              "    </tr>\n",
              "    <tr>\n",
              "      <th>9</th>\n",
              "      <td>1451</td>\n",
              "      <td>Mangsit Suite by Holiday Resort Lombok</td>\n",
              "      <td>Kabupaten Lombok Barat</td>\n",
              "      <td>Nusa Tenggara Barat</td>\n",
              "      <td>-8.490000e+00</td>\n",
              "      <td>116.047299</td>\n",
              "      <td>50</td>\n",
              "      <td>5</td>\n",
              "      <td>4.05</td>\n",
              "      <td>1755000</td>\n",
              "    </tr>\n",
              "  </tbody>\n",
              "</table>\n",
              "</div>\n",
              "      <button class=\"colab-df-convert\" onclick=\"convertToInteractive('df-f494c8a7-78e3-45d6-9d7d-fd41e6c7b1e5')\"\n",
              "              title=\"Convert this dataframe to an interactive table.\"\n",
              "              style=\"display:none;\">\n",
              "        \n",
              "  <svg xmlns=\"http://www.w3.org/2000/svg\" height=\"24px\"viewBox=\"0 0 24 24\"\n",
              "       width=\"24px\">\n",
              "    <path d=\"M0 0h24v24H0V0z\" fill=\"none\"/>\n",
              "    <path d=\"M18.56 5.44l.94 2.06.94-2.06 2.06-.94-2.06-.94-.94-2.06-.94 2.06-2.06.94zm-11 1L8.5 8.5l.94-2.06 2.06-.94-2.06-.94L8.5 2.5l-.94 2.06-2.06.94zm10 10l.94 2.06.94-2.06 2.06-.94-2.06-.94-.94-2.06-.94 2.06-2.06.94z\"/><path d=\"M17.41 7.96l-1.37-1.37c-.4-.4-.92-.59-1.43-.59-.52 0-1.04.2-1.43.59L10.3 9.45l-7.72 7.72c-.78.78-.78 2.05 0 2.83L4 21.41c.39.39.9.59 1.41.59.51 0 1.02-.2 1.41-.59l7.78-7.78 2.81-2.81c.8-.78.8-2.07 0-2.86zM5.41 20L4 18.59l7.72-7.72 1.47 1.35L5.41 20z\"/>\n",
              "  </svg>\n",
              "      </button>\n",
              "      \n",
              "  <style>\n",
              "    .colab-df-container {\n",
              "      display:flex;\n",
              "      flex-wrap:wrap;\n",
              "      gap: 12px;\n",
              "    }\n",
              "\n",
              "    .colab-df-convert {\n",
              "      background-color: #E8F0FE;\n",
              "      border: none;\n",
              "      border-radius: 50%;\n",
              "      cursor: pointer;\n",
              "      display: none;\n",
              "      fill: #1967D2;\n",
              "      height: 32px;\n",
              "      padding: 0 0 0 0;\n",
              "      width: 32px;\n",
              "    }\n",
              "\n",
              "    .colab-df-convert:hover {\n",
              "      background-color: #E2EBFA;\n",
              "      box-shadow: 0px 1px 2px rgba(60, 64, 67, 0.3), 0px 1px 3px 1px rgba(60, 64, 67, 0.15);\n",
              "      fill: #174EA6;\n",
              "    }\n",
              "\n",
              "    [theme=dark] .colab-df-convert {\n",
              "      background-color: #3B4455;\n",
              "      fill: #D2E3FC;\n",
              "    }\n",
              "\n",
              "    [theme=dark] .colab-df-convert:hover {\n",
              "      background-color: #434B5C;\n",
              "      box-shadow: 0px 1px 3px 1px rgba(0, 0, 0, 0.15);\n",
              "      filter: drop-shadow(0px 1px 2px rgba(0, 0, 0, 0.3));\n",
              "      fill: #FFFFFF;\n",
              "    }\n",
              "  </style>\n",
              "\n",
              "      <script>\n",
              "        const buttonEl =\n",
              "          document.querySelector('#df-f494c8a7-78e3-45d6-9d7d-fd41e6c7b1e5 button.colab-df-convert');\n",
              "        buttonEl.style.display =\n",
              "          google.colab.kernel.accessAllowed ? 'block' : 'none';\n",
              "\n",
              "        async function convertToInteractive(key) {\n",
              "          const element = document.querySelector('#df-f494c8a7-78e3-45d6-9d7d-fd41e6c7b1e5');\n",
              "          const dataTable =\n",
              "            await google.colab.kernel.invokeFunction('convertToInteractive',\n",
              "                                                     [key], {});\n",
              "          if (!dataTable) return;\n",
              "\n",
              "          const docLinkHtml = 'Like what you see? Visit the ' +\n",
              "            '<a target=\"_blank\" href=https://colab.research.google.com/notebooks/data_table.ipynb>data table notebook</a>'\n",
              "            + ' to learn more about interactive tables.';\n",
              "          element.innerHTML = '';\n",
              "          dataTable['output_type'] = 'display_data';\n",
              "          await google.colab.output.renderOutput(dataTable, element);\n",
              "          const docLink = document.createElement('div');\n",
              "          docLink.innerHTML = docLinkHtml;\n",
              "          element.appendChild(docLink);\n",
              "        }\n",
              "      </script>\n",
              "    </div>\n",
              "  </div>\n",
              "  "
            ]
          },
          "metadata": {},
          "execution_count": 17
        }
      ]
    },
    {
      "cell_type": "markdown",
      "source": [
        "Dibagian data inference indexnya tidak terurut karena menyesuaikan letak baris dari data yang tidak termasuk dataset harga hotel, tetapi setelah di reset index jadi tersusun index nomornya. Dilakukan restart index, agar ketika dijalankan sampai bawah atau proses selesai jika ada keselahan hasil, sudah dipastikan bukan karena index nya berantakan atau tidak beraturan."
      ],
      "metadata": {
        "id": "lU9hXn0UNxA2"
      }
    },
    {
      "cell_type": "markdown",
      "source": [
        "## 5b - Splitting Dataset\n",
        "\n",
        "Splitting Data merupakan pemisahan untuk membuat X sebagai fitur dan Y sebagai target menjadi Train dan test. Train/test split sebagai salah satu metode yang dapat digunakan untuk mengevaluasi performa model machine learning. "
      ],
      "metadata": {
        "id": "eBYuOgu2aOtE"
      }
    },
    {
      "cell_type": "code",
      "source": [
        "# Pemisahan `X` (Fitur) dan `y` (Target)\n",
        "\n",
        "# Menghapus kolom axis=1 harga, untuk dimasukkan dan dibagi menjadi train/test\n",
        "X = data_train_test.drop('Harga', axis=1) \n",
        "# Membuat variabel y untuk kolom target harga saja\n",
        "y = data_train_test['Harga']"
      ],
      "metadata": {
        "id": "eP5kcYo3aUL4"
      },
      "execution_count": 18,
      "outputs": []
    },
    {
      "cell_type": "code",
      "source": [
        "# Pisahkan antara Train-Set dan Test-Set (jika ingin dijadikan data inference)\n",
        "# Memasukkan nilai x dan y, test_size artinya split 80% untuk train, dan 20% untuk test\n",
        "X_train, X_test, y_train, y_test = train_test_split(X, y, test_size=0.2, random_state=10)\n",
        "print('Train Size : ', X_train.shape)\n",
        "print('Test Size : ', X_test.shape)"
      ],
      "metadata": {
        "colab": {
          "base_uri": "https://localhost:8080/"
        },
        "id": "qow0j5L4aamN",
        "outputId": "59b4cc46-977b-46a6-8754-3b52a4ba7fc7"
      },
      "execution_count": 19,
      "outputs": [
        {
          "output_type": "stream",
          "name": "stdout",
          "text": [
            "Train Size :  (1192, 9)\n",
            "Test Size :  (299, 9)\n"
          ]
        }
      ]
    },
    {
      "cell_type": "markdown",
      "source": [
        "Dilakukan proses penghapusan kolom target harga untuk dialihkan sebagai training set dan testing set, dari data harga hotel yang telah dialihkan lalu akan dilakukan proses train_test_split dengan menjadi 80% golongan pendapatan masuk ke X_tarin dan 20% masuk ke X_test. X_train menggunakan 1192(80%) dari 1491 baris dan validation menggunakan 299(sisa 20%) dari 1491 baris."
      ],
      "metadata": {
        "id": "UjjXndLuObGt"
      }
    },
    {
      "cell_type": "markdown",
      "source": [
        "## 5c - Feature Selection\n",
        "\n",
        "Feature selection atau seleksi fitur dengan mengurangi jumlah fitur yang tidak relevan untuk menentukan kelas target. Feature selectian bisa memakai heatmap, mencari nilai korelasi antara kolom fitur dengan kolom target setinggi mungkin atau serendah mungkin. Mencari korelasinya yang mendekati 1 kalau nilainya nol bisa di drop karena tidak ada korelasinya kolom fitur dengan kolom target. Target berkeinginan harus ada korelasinya."
      ],
      "metadata": {
        "id": "KuZ3qvmiaqRy"
      }
    },
    {
      "cell_type": "code",
      "source": [
        "# Melihat Korelasi antara Fitur dengan target Churn\n",
        "# Mengubah fitur menjadi kategorik terlebih dahulu agar bisa menhitung korelasi beberapa fitur terhadap target\n",
        "encodedfitur = data.apply(lambda x: LabelEncoder().fit_transform(x) if x.dtype == 'object' else x)\n",
        "plt.figure(figsize =(15,15))\n",
        "korelasi=encodedfitur[encodedfitur.columns].corr()\n",
        "sns.heatmap(korelasi,annot=True)"
      ],
      "metadata": {
        "colab": {
          "base_uri": "https://localhost:8080/",
          "height": 888
        },
        "id": "K2a69xHzapH_",
        "outputId": "ebd0998c-19c9-46ff-bd19-efb90267eab6"
      },
      "execution_count": 20,
      "outputs": [
        {
          "output_type": "execute_result",
          "data": {
            "text/plain": [
              "<matplotlib.axes._subplots.AxesSubplot at 0x7f7805929c10>"
            ]
          },
          "metadata": {},
          "execution_count": 20
        },
        {
          "output_type": "display_data",
          "data": {
            "text/plain": [
              "<Figure size 1080x1080 with 2 Axes>"
            ],
            "image/png": "[encoded data removed]"
          },
          "metadata": {}
        }
      ]
    },
    {
      "cell_type": "markdown",
      "source": [
        "Berdasarkan hasil korelasi beberapa fitur yang diduga mempengaruhi harga hotel mememiliki niai hubungan yang positif dan negatif. Maka secara personal personal judgment, tidak membutuhkan fitur Unnamed:0, latitude dan longitude dalam mempengaruhi harga hotel, sehingga di hapus ketiga fitur tersebut."
      ],
      "metadata": {
        "id": "Poz0z52rO7PT"
      }
    },
    {
      "cell_type": "code",
      "source": [
        "# Menghapus fitur-fitur yang tidak digunakan, hanya mengunakan fitur yang diduga mempengaruhi target\n",
        "X_train.drop([\"Unnamed: 0\",'Latitude','Longitude'], axis=1, inplace=True)\n",
        "X_test.drop([\"Unnamed: 0\",'Latitude','Longitude'], axis=1, inplace=True)"
      ],
      "metadata": {
        "id": "3FAvrd-3cCnA"
      },
      "execution_count": 21,
      "outputs": []
    },
    {
      "cell_type": "markdown",
      "source": [
        "## 5d - Handling Missing Value\n",
        "\n",
        "Missing value terjadi karena informasi untuk sesuatu tentang objek tidak diberikan, sulit dicari, atau memang informasi tersebut tidak ada. Pada proses ini akan dilakukan pengecekan data missing value dengan .info() terlebih dahulu :"
      ],
      "metadata": {
        "id": "b6LIBRggcQqh"
      }
    },
    {
      "cell_type": "code",
      "source": [
        "# Mengecek Missing Values on X_train\n",
        "X_train.isnull().sum()"
      ],
      "metadata": {
        "colab": {
          "base_uri": "https://localhost:8080/"
        },
        "id": "iPgUooy4cU0F",
        "outputId": "792ccb0a-7a58-4cf1-82c4-208c59068a18"
      },
      "execution_count": 22,
      "outputs": [
        {
          "output_type": "execute_result",
          "data": {
            "text/plain": [
              "Nama Hotel    0\n",
              "Nama Kota     0\n",
              "Provinsi      0\n",
              "Luas Kamar    0\n",
              "Kapasitas     0\n",
              "Rating        0\n",
              "dtype: int64"
            ]
          },
          "metadata": {},
          "execution_count": 22
        }
      ]
    },
    {
      "cell_type": "code",
      "source": [
        "# Mengecek Missing Values on X_test\n",
        "X_test.isnull().sum()"
      ],
      "metadata": {
        "colab": {
          "base_uri": "https://localhost:8080/"
        },
        "id": "mTD-BRjUcXqp",
        "outputId": "59ca3c04-ca65-467c-a2e5-2ebd7a13fa07"
      },
      "execution_count": 23,
      "outputs": [
        {
          "output_type": "execute_result",
          "data": {
            "text/plain": [
              "Nama Hotel    0\n",
              "Nama Kota     0\n",
              "Provinsi      0\n",
              "Luas Kamar    0\n",
              "Kapasitas     0\n",
              "Rating        0\n",
              "dtype: int64"
            ]
          },
          "metadata": {},
          "execution_count": 23
        }
      ]
    },
    {
      "cell_type": "code",
      "source": [
        "# Mengecek Missing Values on y_train\n",
        "y_train.isnull().sum()"
      ],
      "metadata": {
        "colab": {
          "base_uri": "https://localhost:8080/"
        },
        "id": "4pZWPSvOcaJB",
        "outputId": "113d65d7-7a6a-4af0-975c-a96710046f1d"
      },
      "execution_count": 24,
      "outputs": [
        {
          "output_type": "execute_result",
          "data": {
            "text/plain": [
              "0"
            ]
          },
          "metadata": {},
          "execution_count": 24
        }
      ]
    },
    {
      "cell_type": "code",
      "source": [
        "# Mengecek Missing Values on y_test\n",
        "y_test.isnull().sum()"
      ],
      "metadata": {
        "colab": {
          "base_uri": "https://localhost:8080/"
        },
        "id": "5VQNJ07scckp",
        "outputId": "9922ef0e-043a-4b25-f4af-4d090adde721"
      },
      "execution_count": 25,
      "outputs": [
        {
          "output_type": "execute_result",
          "data": {
            "text/plain": [
              "0"
            ]
          },
          "metadata": {},
          "execution_count": 25
        }
      ]
    },
    {
      "cell_type": "markdown",
      "source": [
        "Fitur-fitur yang ada di X_train, X_val, y_train dan y_val bahwa tidak terdapat missing value yang artinya sudah bersih dari Nan data. Selanjutnya akan dilakukan handling outlier."
      ],
      "metadata": {
        "id": "5kcg4XLcQT97"
      }
    },
    {
      "cell_type": "markdown",
      "source": [
        "## 5e - Handling Outlier\n",
        "\n",
        "Untuk mengatasi nilai outlier, saya memilih metode Censoring. Censoring atau capping, berfungsi untuk membatasi distribusi maksimum atau minimum pada nilai yang berubah-ubah. Pengubahan skala agar masuk ke dalam boxplot. Saya tidak memilih metode Trimming atau penghapusan, agar dimensi ukuran metriks nya tetap sama dan jumlah data masih terjaga."
      ],
      "metadata": {
        "id": "opBWVYRYdrh2"
      }
    },
    {
      "cell_type": "code",
      "source": [
        "# Berfungsi untuk membuat histogram dan boxplot.\n",
        "# Fungsi ini menggunakan kerangka data census_adult_income dan variabel yang diinginkan sebagai argumen.\n",
        "\n",
        "def diagnostic_plots(data, variable):\n",
        "    # Define figure size\n",
        "    plt.figure(figsize=(16, 4))\n",
        "\n",
        "    # Histogram\n",
        "    plt.subplot(1, 2, 1)\n",
        "    sns.histplot(data[variable], bins=30)\n",
        "    plt.title('Histogram')\n",
        "\n",
        "    # Boxplot\n",
        "    plt.subplot(1, 2, 2)\n",
        "    sns.boxplot(y=data[variable])\n",
        "    plt.title('Boxplot')\n",
        "\n",
        "    plt.show()"
      ],
      "metadata": {
        "id": "WrRd8G_edvlX"
      },
      "execution_count": 26,
      "outputs": []
    },
    {
      "cell_type": "code",
      "source": [
        "# Mengecek Distribusi fitur dan outlier menggunakan Boxplot\n",
        "\n",
        "diagnostic_plots(X_train, 'Luas Kamar')\n",
        "print('\\nSkewness Value Luas Kamar : ', X_train['Luas Kamar'].skew())\n",
        "\n",
        "diagnostic_plots(X_train, 'Kapasitas')\n",
        "print('\\nSkewness Value Kapasitas : ', X_train['Kapasitas'].skew())\n",
        "\n",
        "diagnostic_plots(X_train, 'Rating')\n",
        "print('\\nSkewness Value Rating : ', X_train['Rating'].skew())"
      ],
      "metadata": {
        "colab": {
          "base_uri": "https://localhost:8080/",
          "height": 980
        },
        "id": "M8ZQjSRmdzGX",
        "outputId": "f90ea12c-ce2a-4db1-d758-dbe2096a3754"
      },
      "execution_count": 27,
      "outputs": [
        {
          "output_type": "display_data",
          "data": {
            "text/plain": [
              "<Figure size 1152x288 with 2 Axes>"
            ],
            "image/png": "[encoded data removed]"
          },
          "metadata": {}
        },
        {
          "output_type": "stream",
          "name": "stdout",
          "text": [
            "\n",
            "Skewness Value Luas Kamar :  0.9522760713808701\n"
          ]
        },
        {
          "output_type": "display_data",
          "data": {
            "text/plain": [
              "<Figure size 1152x288 with 2 Axes>"
            ],
            "image/png": "[encoded data removed]"
          },
          "metadata": {}
        },
        {
          "output_type": "stream",
          "name": "stdout",
          "text": [
            "\n",
            "Skewness Value Kapasitas :  4.435480903524824\n"
          ]
        },
        {
          "output_type": "display_data",
          "data": {
            "text/plain": [
              "<Figure size 1152x288 with 2 Axes>"
            ],
            "image/png": "[encoded data removed]"
          },
          "metadata": {}
        },
        {
          "output_type": "stream",
          "name": "stdout",
          "text": [
            "\n",
            "Skewness Value Rating :  -1.1515864044447346\n"
          ]
        }
      ]
    },
    {
      "cell_type": "markdown",
      "source": [
        "Dikatakan berdistribusi normal ketika nilai rasio skewness berada pada rentang nilai -2 sampai 2. Fitur Luas Kamar dan Rating, semua datanya berdistribusi normal karena memiliki nilai skewness yang sesuai standarnya.Fitur Kapasitas, semua datanya tidak berdistribusi normal karena memiliki nilai skewness yang tidak sesuai standarnya. Sedangkan Visualisasi boxplot fitur data numerik berupa Luas Kamar, Kapasitas dan Rating terdapat outlier di bagian upper boxplot dan lowwer boxplot/bagian atas dan bagian bawah boxplot. Sehingga perlu mencari nilai IQR untuk menyamakan range nilainya agar masuk ke dalam boxplot."
      ],
      "metadata": {
        "id": "B9cva7krQzxx"
      }
    },
    {
      "cell_type": "code",
      "source": [
        "# Menghitung/menentukan nilai IQR untuk data yang terdapat outlier\n",
        "X_train_ = Winsorizer(capping_method='iqr', # pilih iqr untuk batas aturan IQR atau gaussian untuk mean dan std\n",
        "                          tail='both',\n",
        "                          fold=1.5,\n",
        "                          variables=['Luas Kamar','Kapasitas','Rating'])\n",
        "X_train_.fit(X_train)\n",
        "X_trainn = X_train_.transform(X_train) "
      ],
      "metadata": {
        "id": "HlKH35EzeMlA"
      },
      "execution_count": 28,
      "outputs": []
    },
    {
      "cell_type": "markdown",
      "source": [
        "Proses Winsorizer, dilakukan untuk menyamakan range data menjadi sama sehingga tidak ada data oulier yang menjauhi himpunan data lainnya."
      ],
      "metadata": {
        "id": "-GNdzootRbp9"
      }
    },
    {
      "cell_type": "code",
      "source": [
        "# Visualisasi Setelah Handling Outlier\n",
        "print('\\nLuas Kamar - Setelah Handling Outlier Capping')\n",
        "print('\\nSkewness Value Luas Kamar : ', X_trainn['Luas Kamar'].skew())\n",
        "diagnostic_plots(X_trainn, 'Luas Kamar')\n",
        "\n",
        "print('\\nKapasitas - Setelah Handling Outlier Capping')\n",
        "print('\\nSkewness Value Kapasitas : ', X_trainn['Kapasitas'].skew())\n",
        "diagnostic_plots(X_trainn, 'Kapasitas')\n",
        "\n",
        "print('\\nRating - Setelah Handling Outlier Capping')\n",
        "print('\\nSkewness Value Rating : ', X_trainn['Rating'].skew())\n",
        "diagnostic_plots(X_trainn, 'Rating')"
      ],
      "metadata": {
        "colab": {
          "base_uri": "https://localhost:8080/",
          "height": 1000
        },
        "id": "JnNVC2yjepKq",
        "outputId": "9b3b3f15-e40a-4312-e00b-93e05b74c7d3"
      },
      "execution_count": 30,
      "outputs": [
        {
          "output_type": "stream",
          "name": "stdout",
          "text": [
            "\n",
            "Luas Kamar - Setelah Handling Outlier Capping\n",
            "\n",
            "Skewness Value Luas Kamar :  0.9466691928306001\n"
          ]
        },
        {
          "output_type": "display_data",
          "data": {
            "text/plain": [
              "<Figure size 1152x288 with 2 Axes>"
            ],
            "image/png": "[encoded data removed]"
          },
          "metadata": {}
        },
        {
          "output_type": "stream",
          "name": "stdout",
          "text": [
            "\n",
            "Kapasitas - Setelah Handling Outlier Capping\n",
            "\n",
            "Skewness Value Kapasitas :  -0.06400449894379909\n"
          ]
        },
        {
          "output_type": "display_data",
          "data": {
            "text/plain": [
              "<Figure size 1152x288 with 2 Axes>"
            ],
            "image/png": "[encoded data removed]"
          },
          "metadata": {}
        },
        {
          "output_type": "stream",
          "name": "stdout",
          "text": [
            "\n",
            "Rating - Setelah Handling Outlier Capping\n",
            "\n",
            "Skewness Value Rating :  -0.26332961384883663\n"
          ]
        },
        {
          "output_type": "display_data",
          "data": {
            "text/plain": [
              "<Figure size 1152x288 with 2 Axes>"
            ],
            "image/png": "[encoded data removed]"
          },
          "metadata": {}
        }
      ]
    },
    {
      "cell_type": "markdown",
      "source": [
        "Berdasarkan hasil handling outlier, bahwa fitur kapasitas, luas kamar dan rating, semua datanya berdistribusi normal karena memiliki nilai skewness yang sesuai standarnya. Dikatakan berdistribusi normal ketika nilai rasio skewness berada pada rentang nilai -2 sampai 2. Sedangkan Visualisasi boxplot fitur data numerik berupa Luas Kamar, Kapasitas dan Rating sudah tidak terdapat oulier karena tidak ada data yang keluar dari boxplot."
      ],
      "metadata": {
        "id": "WfR3gjhLRrKw"
      }
    },
    {
      "cell_type": "code",
      "source": [
        "# Diperoleh X_trainn yang sudah dilakukan feature engineering \n",
        "# Variabel X_trainn sudah bersih dari Missing Value dan Outlier\n",
        "X_trainn"
      ],
      "metadata": {
        "colab": {
          "base_uri": "https://localhost:8080/",
          "height": 423
        },
        "id": "SbLUWdOufFGM",
        "outputId": "2df5eba7-b42a-451d-b24b-5b2dc0c2e02f"
      },
      "execution_count": 31,
      "outputs": [
        {
          "output_type": "execute_result",
          "data": {
            "text/plain": [
              "                                     Nama Hotel                Nama Kota  \\\n",
              "348                deMIRA Hotel Gubeng Surabaya            Kota Surabaya   \n",
              "78                    Swiss-Belinn Wahid Hasyim       Kota Jakarta Pusat   \n",
              "179                        DeRain Hotel Bandung             Kota Bandung   \n",
              "142                     favehotel Braga Bandung             Kota Bandung   \n",
              "1331                          Tulip Guest House                Kota Batu   \n",
              "...                                         ...                      ...   \n",
              "1393  Bumbangku Beach Cottages Bar & Restaurant  Kabupaten Lombok Tengah   \n",
              "1344                            The Cakra Hotel            Kota Denpasar   \n",
              "527                          CREW EXPRESS Hotel   Kabupaten Deli Serdang   \n",
              "1149                The Sun Boutique Hotel Kuta         Kabupaten Badung   \n",
              "1289           Puri Saron Baruna Beach Cottages       Kabupaten Buleleng   \n",
              "\n",
              "                           Provinsi  Luas Kamar  Kapasitas  Rating  \n",
              "348                      Jawa Timur        27.0        2.0    4.42  \n",
              "78    Daerah Khusus Ibukota Jakarta        20.0        2.0    4.25  \n",
              "179                      Jawa Barat        26.0        2.0    4.25  \n",
              "142                      Jawa Barat        16.0        3.0    4.08  \n",
              "1331                     Jawa Timur        28.0        3.0    4.58  \n",
              "...                             ...         ...        ...     ...  \n",
              "1393            Nusa Tenggara Barat        44.0        3.0    4.58  \n",
              "1344                           Bali        28.0        3.0    4.42  \n",
              "527                  Sumatera Utara        16.0        2.0    4.25  \n",
              "1149                           Bali        23.0        2.0    4.25  \n",
              "1289                           Bali        27.0        2.0    4.42  \n",
              "\n",
              "[1192 rows x 6 columns]"
            ],
            "text/html": [
              "\n",
              "  <div id=\"df-c465dacb-6986-4218-902a-b6b3b462038b\">\n",
              "    <div class=\"colab-df-container\">\n",
              "      <div>\n",
              "<style scoped>\n",
              "    .dataframe tbody tr th:only-of-type {\n",
              "        vertical-align: middle;\n",
              "    }\n",
              "\n",
              "    .dataframe tbody tr th {\n",
              "        vertical-align: top;\n",
              "    }\n",
              "\n",
              "    .dataframe thead th {\n",
              "        text-align: right;\n",
              "    }\n",
              "</style>\n",
              "<table border=\"1\" class=\"dataframe\">\n",
              "  <thead>\n",
              "    <tr style=\"text-align: right;\">\n",
              "      <th></th>\n",
              "      <th>Nama Hotel</th>\n",
              "      <th>Nama Kota</th>\n",
              "      <th>Provinsi</th>\n",
              "      <th>Luas Kamar</th>\n",
              "      <th>Kapasitas</th>\n",
              "      <th>Rating</th>\n",
              "    </tr>\n",
              "  </thead>\n",
              "  <tbody>\n",
              "    <tr>\n",
              "      <th>348</th>\n",
              "      <td>deMIRA Hotel Gubeng Surabaya</td>\n",
              "      <td>Kota Surabaya</td>\n",
              "      <td>Jawa Timur</td>\n",
              "      <td>27.0</td>\n",
              "      <td>2.0</td>\n",
              "      <td>4.42</td>\n",
              "    </tr>\n",
              "    <tr>\n",
              "      <th>78</th>\n",
              "      <td>Swiss-Belinn Wahid Hasyim</td>\n",
              "      <td>Kota Jakarta Pusat</td>\n",
              "      <td>Daerah Khusus Ibukota Jakarta</td>\n",
              "      <td>20.0</td>\n",
              "      <td>2.0</td>\n",
              "      <td>4.25</td>\n",
              "    </tr>\n",
              "    <tr>\n",
              "      <th>179</th>\n",
              "      <td>DeRain Hotel Bandung</td>\n",
              "      <td>Kota Bandung</td>\n",
              "      <td>Jawa Barat</td>\n",
              "      <td>26.0</td>\n",
              "      <td>2.0</td>\n",
              "      <td>4.25</td>\n",
              "    </tr>\n",
              "    <tr>\n",
              "      <th>142</th>\n",
              "      <td>favehotel Braga Bandung</td>\n",
              "      <td>Kota Bandung</td>\n",
              "      <td>Jawa Barat</td>\n",
              "      <td>16.0</td>\n",
              "      <td>3.0</td>\n",
              "      <td>4.08</td>\n",
              "    </tr>\n",
              "    <tr>\n",
              "      <th>1331</th>\n",
              "      <td>Tulip Guest House</td>\n",
              "      <td>Kota Batu</td>\n",
              "      <td>Jawa Timur</td>\n",
              "      <td>28.0</td>\n",
              "      <td>3.0</td>\n",
              "      <td>4.58</td>\n",
              "    </tr>\n",
              "    <tr>\n",
              "      <th>...</th>\n",
              "      <td>...</td>\n",
              "      <td>...</td>\n",
              "      <td>...</td>\n",
              "      <td>...</td>\n",
              "      <td>...</td>\n",
              "      <td>...</td>\n",
              "    </tr>\n",
              "    <tr>\n",
              "      <th>1393</th>\n",
              "      <td>Bumbangku Beach Cottages Bar &amp; Restaurant</td>\n",
              "      <td>Kabupaten Lombok Tengah</td>\n",
              "      <td>Nusa Tenggara Barat</td>\n",
              "      <td>44.0</td>\n",
              "      <td>3.0</td>\n",
              "      <td>4.58</td>\n",
              "    </tr>\n",
              "    <tr>\n",
              "      <th>1344</th>\n",
              "      <td>The Cakra Hotel</td>\n",
              "      <td>Kota Denpasar</td>\n",
              "      <td>Bali</td>\n",
              "      <td>28.0</td>\n",
              "      <td>3.0</td>\n",
              "      <td>4.42</td>\n",
              "    </tr>\n",
              "    <tr>\n",
              "      <th>527</th>\n",
              "      <td>CREW EXPRESS Hotel</td>\n",
              "      <td>Kabupaten Deli Serdang</td>\n",
              "      <td>Sumatera Utara</td>\n",
              "      <td>16.0</td>\n",
              "      <td>2.0</td>\n",
              "      <td>4.25</td>\n",
              "    </tr>\n",
              "    <tr>\n",
              "      <th>1149</th>\n",
              "      <td>The Sun Boutique Hotel Kuta</td>\n",
              "      <td>Kabupaten Badung</td>\n",
              "      <td>Bali</td>\n",
              "      <td>23.0</td>\n",
              "      <td>2.0</td>\n",
              "      <td>4.25</td>\n",
              "    </tr>\n",
              "    <tr>\n",
              "      <th>1289</th>\n",
              "      <td>Puri Saron Baruna Beach Cottages</td>\n",
              "      <td>Kabupaten Buleleng</td>\n",
              "      <td>Bali</td>\n",
              "      <td>27.0</td>\n",
              "      <td>2.0</td>\n",
              "      <td>4.42</td>\n",
              "    </tr>\n",
              "  </tbody>\n",
              "</table>\n",
              "<p>1192 rows × 6 columns</p>\n",
              "</div>\n",
              "      <button class=\"colab-df-convert\" onclick=\"convertToInteractive('df-c465dacb-6986-4218-902a-b6b3b462038b')\"\n",
              "              title=\"Convert this dataframe to an interactive table.\"\n",
              "              style=\"display:none;\">\n",
              "        \n",
              "  <svg xmlns=\"http://www.w3.org/2000/svg\" height=\"24px\"viewBox=\"0 0 24 24\"\n",
              "       width=\"24px\">\n",
              "    <path d=\"M0 0h24v24H0V0z\" fill=\"none\"/>\n",
              "    <path d=\"M18.56 5.44l.94 2.06.94-2.06 2.06-.94-2.06-.94-.94-2.06-.94 2.06-2.06.94zm-11 1L8.5 8.5l.94-2.06 2.06-.94-2.06-.94L8.5 2.5l-.94 2.06-2.06.94zm10 10l.94 2.06.94-2.06 2.06-.94-2.06-.94-.94-2.06-.94 2.06-2.06.94z\"/><path d=\"M17.41 7.96l-1.37-1.37c-.4-.4-.92-.59-1.43-.59-.52 0-1.04.2-1.43.59L10.3 9.45l-7.72 7.72c-.78.78-.78 2.05 0 2.83L4 21.41c.39.39.9.59 1.41.59.51 0 1.02-.2 1.41-.59l7.78-7.78 2.81-2.81c.8-.78.8-2.07 0-2.86zM5.41 20L4 18.59l7.72-7.72 1.47 1.35L5.41 20z\"/>\n",
              "  </svg>\n",
              "      </button>\n",
              "      \n",
              "  <style>\n",
              "    .colab-df-container {\n",
              "      display:flex;\n",
              "      flex-wrap:wrap;\n",
              "      gap: 12px;\n",
              "    }\n",
              "\n",
              "    .colab-df-convert {\n",
              "      background-color: #E8F0FE;\n",
              "      border: none;\n",
              "      border-radius: 50%;\n",
              "      cursor: pointer;\n",
              "      display: none;\n",
              "      fill: #1967D2;\n",
              "      height: 32px;\n",
              "      padding: 0 0 0 0;\n",
              "      width: 32px;\n",
              "    }\n",
              "\n",
              "    .colab-df-convert:hover {\n",
              "      background-color: #E2EBFA;\n",
              "      box-shadow: 0px 1px 2px rgba(60, 64, 67, 0.3), 0px 1px 3px 1px rgba(60, 64, 67, 0.15);\n",
              "      fill: #174EA6;\n",
              "    }\n",
              "\n",
              "    [theme=dark] .colab-df-convert {\n",
              "      background-color: #3B4455;\n",
              "      fill: #D2E3FC;\n",
              "    }\n",
              "\n",
              "    [theme=dark] .colab-df-convert:hover {\n",
              "      background-color: #434B5C;\n",
              "      box-shadow: 0px 1px 3px 1px rgba(0, 0, 0, 0.15);\n",
              "      filter: drop-shadow(0px 1px 2px rgba(0, 0, 0, 0.3));\n",
              "      fill: #FFFFFF;\n",
              "    }\n",
              "  </style>\n",
              "\n",
              "      <script>\n",
              "        const buttonEl =\n",
              "          document.querySelector('#df-c465dacb-6986-4218-902a-b6b3b462038b button.colab-df-convert');\n",
              "        buttonEl.style.display =\n",
              "          google.colab.kernel.accessAllowed ? 'block' : 'none';\n",
              "\n",
              "        async function convertToInteractive(key) {\n",
              "          const element = document.querySelector('#df-c465dacb-6986-4218-902a-b6b3b462038b');\n",
              "          const dataTable =\n",
              "            await google.colab.kernel.invokeFunction('convertToInteractive',\n",
              "                                                     [key], {});\n",
              "          if (!dataTable) return;\n",
              "\n",
              "          const docLinkHtml = 'Like what you see? Visit the ' +\n",
              "            '<a target=\"_blank\" href=https://colab.research.google.com/notebooks/data_table.ipynb>data table notebook</a>'\n",
              "            + ' to learn more about interactive tables.';\n",
              "          element.innerHTML = '';\n",
              "          dataTable['output_type'] = 'display_data';\n",
              "          await google.colab.output.renderOutput(dataTable, element);\n",
              "          const docLink = document.createElement('div');\n",
              "          docLink.innerHTML = docLinkHtml;\n",
              "          element.appendChild(docLink);\n",
              "        }\n",
              "      </script>\n",
              "    </div>\n",
              "  </div>\n",
              "  "
            ]
          },
          "metadata": {},
          "execution_count": 31
        }
      ]
    },
    {
      "cell_type": "markdown",
      "source": [
        "Sehingga di peroleh variabel baru berupa X_train dan X_test yang bersih dari missing value dan outlier."
      ],
      "metadata": {
        "id": "tiiWa9YrSNAW"
      }
    },
    {
      "cell_type": "markdown",
      "source": [
        "## 5f - Pemisahan Kolom Numerik dan Kategorik\n",
        "\n",
        "Pada data harga hotel, terdapat perbedaan karakterstik data pada masing-masing fitur, oleh karena itu harus dilakukan pemisahan kategorik dan numerik."
      ],
      "metadata": {
        "id": "46TgctdBfMj7"
      }
    },
    {
      "cell_type": "code",
      "source": [
        "# Pipeline\n",
        "\n",
        "# Pemisahan data numerik dan data kategorik\n",
        "num_fitur = X_trainn._get_numeric_data().columns.tolist()\n",
        "col_fitur = X_trainn.select_dtypes(include=['object']).columns.tolist()\n",
        "\n",
        "# Melakukan standarisasi range data numerik dan kategorik, agar mempunyai range yang sama antar fitur\n",
        "num_col = Pipeline([(\"numscaler\",MinMaxScaler())])\n",
        "cat_col = Pipeline([(\"catscaler\",OneHotEncoder(handle_unknown='ignore', sparse=False))])\n",
        "\n",
        "# Prosesing data numrik dan kategorik yang telah sama rangenya\n",
        "preprocessor = ColumnTransformer(\n",
        "    transformers=[\n",
        "        (\"numerik\", num_col, num_fitur),\n",
        "        (\"kategorik\", cat_col, col_fitur)])"
      ],
      "metadata": {
        "id": "v9MMuOYsfRO_"
      },
      "execution_count": 32,
      "outputs": []
    },
    {
      "cell_type": "markdown",
      "source": [
        "Dilakukan proses pemisahan sesuai jenis data dari masing-masing fitur, teridentifikasi kolom fitur Kapsitas, luas kamar dan rating merupakan kolom numerik. Fitur Nama Hotel, Provinsi dan Kota merupakan kolom kategorik."
      ],
      "metadata": {
        "id": "AGMB2sCZS4B4"
      }
    },
    {
      "cell_type": "markdown",
      "source": [
        "# 6 - Model Definition\n",
        "\n",
        "> Bagian ini berisi cell untuk mendefinisikan model. Jelaskan alasan menggunakan suatu algoritma/model, hyperparameter yang dipakai, jenis penggunaan metrics yang dipakai, dan hal lain yang terkait dengan model."
      ],
      "metadata": {
        "id": "3Mx8N2Tvf2wT"
      }
    },
    {
      "cell_type": "code",
      "source": [
        "# Model definisi untuk algoritma regresi linear\n",
        "pipeLinReg = Pipeline([(\"LogScaler\",preprocessor),(\"LogReg\",LinearRegression())])"
      ],
      "metadata": {
        "id": "LD7uPKhJf6w-"
      },
      "execution_count": 33,
      "outputs": []
    },
    {
      "cell_type": "markdown",
      "source": [
        "Model definition menggunakan pipeline untuk scaling/encoder data yang akan di hitung model Linear Regression."
      ],
      "metadata": {
        "id": "tAdfe60jTi1W"
      }
    },
    {
      "cell_type": "markdown",
      "source": [
        "# 7 - Model Training\n",
        "\n",
        "> Cell pada bagian ini hanya berisi code untuk melatih model dan output yang dihasilkan. Lakukan beberapa kali proses training dengan hyperparameter yang berbeda untuk melihat hasil yang didapatkan. Analisis dan narasikan hasil ini pada bagian Model Evaluation."
      ],
      "metadata": {
        "id": "YAeOmp8pgtZs"
      }
    },
    {
      "cell_type": "code",
      "source": [
        "# Model training regresi linear tanpa estimator terbaik\n",
        "model_Lin_Reg = pipeLinReg.fit(X_trainn,y_train)"
      ],
      "metadata": {
        "id": "zgAU8CU_g47i"
      },
      "execution_count": 34,
      "outputs": []
    },
    {
      "cell_type": "markdown",
      "source": [
        "Model training untuk regresi linear terhadap data training dan testing."
      ],
      "metadata": {
        "id": "9_doRI1_T5SM"
      }
    },
    {
      "cell_type": "markdown",
      "source": [
        "# 8 - Model Evaluation\n",
        "\n",
        "> Pada bagian ini, dilakukan evaluasi model yang harus menunjukkan bagaimana performa model berdasarkan metrics yang dipilih. Hal ini harus dibuktikan dengan visualisasi tren performa dan/atau tingkat kesalahan model. Lakukan analisis terkait dengan hasil pada model dan tuliskan hasil analisisnya."
      ],
      "metadata": {
        "id": "Jov3ODRNh5Os"
      }
    },
    {
      "cell_type": "code",
      "source": [
        "# Performa evaluation Model Regresi linear\n",
        "y_pred_train_LinReg = model_Lin_Reg.predict(X_trainn)\n",
        "y_pred_test_LinReg = model_Lin_Reg.predict(X_test)"
      ],
      "metadata": {
        "id": "oDkdu-3Hh-UH"
      },
      "execution_count": 35,
      "outputs": []
    },
    {
      "cell_type": "code",
      "source": [
        "# Hasil evaluasi model prediksi harga hotel\n",
        "print('MAE train = ', mean_absolute_error(y_train, y_pred_train_LinReg ))\n",
        "print('MAE test = ', mean_absolute_error(y_test, y_pred_test_LinReg))\n",
        "\n",
        "print('MSE train = ', mean_squared_error(y_train, y_pred_train_LinReg ))\n",
        "print('MSE test = ', mean_squared_error(y_test,y_pred_test_LinReg))\n",
        "\n",
        "print('RMSE train = ', np.sqrt(mean_squared_error(y_train, y_pred_train_LinReg )))\n",
        "print('RMSE test = ', np.sqrt(mean_squared_error(y_test, y_pred_test_LinReg)))\n",
        "\n",
        "print('r2score train = ', r2_score(y_train, y_pred_train_LinReg ))\n",
        "print('r2score test = ', r2_score(y_test, y_pred_test_LinReg))"
      ],
      "metadata": {
        "colab": {
          "base_uri": "https://localhost:8080/"
        },
        "id": "BrhVJ3QUh0cs",
        "outputId": "28d6529c-e2ed-4af1-9763-2ea7c85f4adc"
      },
      "execution_count": 36,
      "outputs": [
        {
          "output_type": "stream",
          "name": "stdout",
          "text": [
            "MAE train =  2.2656062380379476e-09\n",
            "MAE test =  525353.9446875333\n",
            "MSE train =  8.901190688236278e-18\n",
            "MSE test =  1772885115690.2805\n",
            "RMSE train =  2.98348633116297e-09\n",
            "RMSE test =  1331497.3209474664\n",
            "r2score train =  1.0\n",
            "r2score test =  0.09959763901576035\n"
          ]
        }
      ]
    },
    {
      "cell_type": "markdown",
      "source": [
        "Ketepatan atau akurasi model regresi linear berdasrkan nilai R2 tanpa estimator terbaik memiliki nilai training sebesar 100% dan testing sebesar 9%, artinya masih di kategorikan underfit, karena rentang nilai jauh berbeda. Berdasarkan perbedaan R2 model tanpa estimator terbaik tidak berkerja dengan baik dalam memprediksi kisaran harga hotel."
      ],
      "metadata": {
        "id": "aezra8TjU4vD"
      }
    },
    {
      "cell_type": "markdown",
      "source": [
        "# 9 - Model Saving\n",
        "\n",
        "Model regresi linear di simpan, untuk proses deployment web aplikasi ClickSpace."
      ],
      "metadata": {
        "id": "bmcX0Ent1wEn"
      }
    },
    {
      "cell_type": "code",
      "source": [
        "# Mount google drive\n",
        "\n",
        "from google.colab import drive\n",
        "drive.mount('/content/drive')"
      ],
      "metadata": {
        "colab": {
          "base_uri": "https://localhost:8080/"
        },
        "id": "0atG6faeOaZO",
        "outputId": "f9fbc3d5-e74e-45f9-ebc2-4bc9d2fe7a73"
      },
      "execution_count": 37,
      "outputs": [
        {
          "output_type": "stream",
          "name": "stdout",
          "text": [
            "Drive already mounted at /content/drive; to attempt to forcibly remount, call drive.mount(\"/content/drive\", force_remount=True).\n"
          ]
        }
      ]
    },
    {
      "cell_type": "code",
      "source": [
        "# navigasi ke home folder\n",
        "% cd /content/drive/MyDrive/"
      ],
      "metadata": {
        "colab": {
          "base_uri": "https://localhost:8080/"
        },
        "id": "cH1OsMMoOdKm",
        "outputId": "157feeaa-73f7-42c8-85ca-54372b9a24c1"
      },
      "execution_count": 38,
      "outputs": [
        {
          "output_type": "stream",
          "name": "stdout",
          "text": [
            "/content/drive/MyDrive\n"
          ]
        }
      ]
    },
    {
      "cell_type": "code",
      "source": [
        "# cek folder yang ada ditempah kita sekarang\n",
        "! ls"
      ],
      "metadata": {
        "colab": {
          "base_uri": "https://localhost:8080/"
        },
        "id": "EViulV1COgaY",
        "outputId": "636f1e22-7f9a-474e-eb82-5225ee600ba7"
      },
      "execution_count": 39,
      "outputs": [
        {
          "output_type": "stream",
          "name": "stdout",
          "text": [
            "'Colab Notebooks'   fruit   kartun_cnn\t tf_milestone   tf_serving\n"
          ]
        }
      ]
    },
    {
      "cell_type": "code",
      "source": [
        "# masuk ke tf_serving\n",
        "% cd tf_milestone"
      ],
      "metadata": {
        "colab": {
          "base_uri": "https://localhost:8080/"
        },
        "id": "Yg6Nuy5XQad8",
        "outputId": "9d739513-0b64-4699-94c8-e9b45c5685e9"
      },
      "execution_count": 40,
      "outputs": [
        {
          "output_type": "stream",
          "name": "stdout",
          "text": [
            "/content/drive/MyDrive/tf_milestone\n"
          ]
        }
      ]
    },
    {
      "cell_type": "code",
      "source": [
        "# model untuk deployment\n",
        "import pickle\n",
        "with open ('_hotel.pkl','wb') as model_file:\n",
        "  pickle.dump(pipeLinReg, model_file)"
      ],
      "metadata": {
        "id": "eMymU63MPCZS"
      },
      "execution_count": 41,
      "outputs": []
    },
    {
      "cell_type": "markdown",
      "source": [
        "# 10 - Model Inference\n",
        "\n",
        "> Model yang sudah dilatih akan dicoba pada data yang bukan termasuk ke dalam train-set ataupun test-set. Data ini harus dalam format yang asli, bukan data yang sudah di-scaled."
      ],
      "metadata": {
        "id": "g-rm_tfl3JaW"
      }
    },
    {
      "cell_type": "code",
      "source": [
        "# Sebelum inference kita tampilkan dulu data inference yang di awal\n",
        "datainfernce"
      ],
      "metadata": {
        "colab": {
          "base_uri": "https://localhost:8080/",
          "height": 511
        },
        "id": "IgZ41bjs3cwl",
        "outputId": "3742ae84-fcb1-4da7-bdbb-68e844faede6"
      },
      "execution_count": 42,
      "outputs": [
        {
          "output_type": "execute_result",
          "data": {
            "text/plain": [
              "   Unnamed: 0                                  Nama Hotel  \\\n",
              "0        1109          Villa Puncak Garuda E16 - Prathivi   \n",
              "1          56  Hotel Santika Premiere Hayam Wuruk Jakarta   \n",
              "2        1030                               Kuta Paradise   \n",
              "3         550                              The Palace Inn   \n",
              "4         861                      Maya Ubud Resort & Spa   \n",
              "5        1116                             The Nyaman Bali   \n",
              "6         647                                Mahima Hotel   \n",
              "7        1263                      Se.juk Residence Araya   \n",
              "8          87                    Asyana Kemayoran Jakarta   \n",
              "9        1451      Mangsit Suite by Holiday Resort Lombok   \n",
              "\n",
              "                 Nama Kota                       Provinsi      Latitude  \\\n",
              "0                Kota Batu                     Jawa Timur -7.902774e+00   \n",
              "1       Kota Jakarta Barat  Daerah Khusus Ibukota Jakarta -6.148480e+00   \n",
              "2  Kabupaten Lombok Tengah            Nusa Tenggara Barat -8.894132e-01   \n",
              "3               Kota Medan                 Sumatera Utara  3.586211e+00   \n",
              "4        Kabupaten Gianyar                           Bali -8.510000e-08   \n",
              "5         Kabupaten Badung                           Bali -8.730000e-08   \n",
              "6            Kota Semarang                    Jawa Tengah -6.985492e+00   \n",
              "7         Kabupaten Malang                     Jawa Timur -7.940000e+00   \n",
              "8       Kota Jakarta Pusat  Daerah Khusus Ibukota Jakarta -6.165128e+00   \n",
              "9   Kabupaten Lombok Barat            Nusa Tenggara Barat -8.490000e+00   \n",
              "\n",
              "    Longitude  Luas Kamar  Kapasitas  Rating    Harga  \n",
              "0  112.540084          50          6    4.75   575000  \n",
              "1  106.816778          22          3    4.58   835000  \n",
              "2  116.285603          16          3    4.03   542700  \n",
              "3   98.666376          30          3    4.00   301205  \n",
              "4  115.275434          44          3    4.75  4266766  \n",
              "5  115.172126          23          3    4.58   351500  \n",
              "6  110.372531          24          3    4.03   558000  \n",
              "7  112.671534          17          1    4.42   205000  \n",
              "8  106.841667          18          2    4.42   417690  \n",
              "9  116.047299          50          5    4.05  1755000  "
            ],
            "text/html": [
              "\n",
              "  <div id=\"df-8dddb90a-9c3c-483d-bdf4-bab84ecdce64\">\n",
              "    <div class=\"colab-df-container\">\n",
              "      <div>\n",
              "<style scoped>\n",
              "    .dataframe tbody tr th:only-of-type {\n",
              "        vertical-align: middle;\n",
              "    }\n",
              "\n",
              "    .dataframe tbody tr th {\n",
              "        vertical-align: top;\n",
              "    }\n",
              "\n",
              "    .dataframe thead th {\n",
              "        text-align: right;\n",
              "    }\n",
              "</style>\n",
              "<table border=\"1\" class=\"dataframe\">\n",
              "  <thead>\n",
              "    <tr style=\"text-align: right;\">\n",
              "      <th></th>\n",
              "      <th>Unnamed: 0</th>\n",
              "      <th>Nama Hotel</th>\n",
              "      <th>Nama Kota</th>\n",
              "      <th>Provinsi</th>\n",
              "      <th>Latitude</th>\n",
              "      <th>Longitude</th>\n",
              "      <th>Luas Kamar</th>\n",
              "      <th>Kapasitas</th>\n",
              "      <th>Rating</th>\n",
              "      <th>Harga</th>\n",
              "    </tr>\n",
              "  </thead>\n",
              "  <tbody>\n",
              "    <tr>\n",
              "      <th>0</th>\n",
              "      <td>1109</td>\n",
              "      <td>Villa Puncak Garuda E16 - Prathivi</td>\n",
              "      <td>Kota Batu</td>\n",
              "      <td>Jawa Timur</td>\n",
              "      <td>-7.902774e+00</td>\n",
              "      <td>112.540084</td>\n",
              "      <td>50</td>\n",
              "      <td>6</td>\n",
              "      <td>4.75</td>\n",
              "      <td>575000</td>\n",
              "    </tr>\n",
              "    <tr>\n",
              "      <th>1</th>\n",
              "      <td>56</td>\n",
              "      <td>Hotel Santika Premiere Hayam Wuruk Jakarta</td>\n",
              "      <td>Kota Jakarta Barat</td>\n",
              "      <td>Daerah Khusus Ibukota Jakarta</td>\n",
              "      <td>-6.148480e+00</td>\n",
              "      <td>106.816778</td>\n",
              "      <td>22</td>\n",
              "      <td>3</td>\n",
              "      <td>4.58</td>\n",
              "      <td>835000</td>\n",
              "    </tr>\n",
              "    <tr>\n",
              "      <th>2</th>\n",
              "      <td>1030</td>\n",
              "      <td>Kuta Paradise</td>\n",
              "      <td>Kabupaten Lombok Tengah</td>\n",
              "      <td>Nusa Tenggara Barat</td>\n",
              "      <td>-8.894132e-01</td>\n",
              "      <td>116.285603</td>\n",
              "      <td>16</td>\n",
              "      <td>3</td>\n",
              "      <td>4.03</td>\n",
              "      <td>542700</td>\n",
              "    </tr>\n",
              "    <tr>\n",
              "      <th>3</th>\n",
              "      <td>550</td>\n",
              "      <td>The Palace Inn</td>\n",
              "      <td>Kota Medan</td>\n",
              "      <td>Sumatera Utara</td>\n",
              "      <td>3.586211e+00</td>\n",
              "      <td>98.666376</td>\n",
              "      <td>30</td>\n",
              "      <td>3</td>\n",
              "      <td>4.00</td>\n",
              "      <td>301205</td>\n",
              "    </tr>\n",
              "    <tr>\n",
              "      <th>4</th>\n",
              "      <td>861</td>\n",
              "      <td>Maya Ubud Resort &amp; Spa</td>\n",
              "      <td>Kabupaten Gianyar</td>\n",
              "      <td>Bali</td>\n",
              "      <td>-8.510000e-08</td>\n",
              "      <td>115.275434</td>\n",
              "      <td>44</td>\n",
              "      <td>3</td>\n",
              "      <td>4.75</td>\n",
              "      <td>4266766</td>\n",
              "    </tr>\n",
              "    <tr>\n",
              "      <th>5</th>\n",
              "      <td>1116</td>\n",
              "      <td>The Nyaman Bali</td>\n",
              "      <td>Kabupaten Badung</td>\n",
              "      <td>Bali</td>\n",
              "      <td>-8.730000e-08</td>\n",
              "      <td>115.172126</td>\n",
              "      <td>23</td>\n",
              "      <td>3</td>\n",
              "      <td>4.58</td>\n",
              "      <td>351500</td>\n",
              "    </tr>\n",
              "    <tr>\n",
              "      <th>6</th>\n",
              "      <td>647</td>\n",
              "      <td>Mahima Hotel</td>\n",
              "      <td>Kota Semarang</td>\n",
              "      <td>Jawa Tengah</td>\n",
              "      <td>-6.985492e+00</td>\n",
              "      <td>110.372531</td>\n",
              "      <td>24</td>\n",
              "      <td>3</td>\n",
              "      <td>4.03</td>\n",
              "      <td>558000</td>\n",
              "    </tr>\n",
              "    <tr>\n",
              "      <th>7</th>\n",
              "      <td>1263</td>\n",
              "      <td>Se.juk Residence Araya</td>\n",
              "      <td>Kabupaten Malang</td>\n",
              "      <td>Jawa Timur</td>\n",
              "      <td>-7.940000e+00</td>\n",
              "      <td>112.671534</td>\n",
              "      <td>17</td>\n",
              "      <td>1</td>\n",
              "      <td>4.42</td>\n",
              "      <td>205000</td>\n",
              "    </tr>\n",
              "    <tr>\n",
              "      <th>8</th>\n",
              "      <td>87</td>\n",
              "      <td>Asyana Kemayoran Jakarta</td>\n",
              "      <td>Kota Jakarta Pusat</td>\n",
              "      <td>Daerah Khusus Ibukota Jakarta</td>\n",
              "      <td>-6.165128e+00</td>\n",
              "      <td>106.841667</td>\n",
              "      <td>18</td>\n",
              "      <td>2</td>\n",
              "      <td>4.42</td>\n",
              "      <td>417690</td>\n",
              "    </tr>\n",
              "    <tr>\n",
              "      <th>9</th>\n",
              "      <td>1451</td>\n",
              "      <td>Mangsit Suite by Holiday Resort Lombok</td>\n",
              "      <td>Kabupaten Lombok Barat</td>\n",
              "      <td>Nusa Tenggara Barat</td>\n",
              "      <td>-8.490000e+00</td>\n",
              "      <td>116.047299</td>\n",
              "      <td>50</td>\n",
              "      <td>5</td>\n",
              "      <td>4.05</td>\n",
              "      <td>1755000</td>\n",
              "    </tr>\n",
              "  </tbody>\n",
              "</table>\n",
              "</div>\n",
              "      <button class=\"colab-df-convert\" onclick=\"convertToInteractive('df-8dddb90a-9c3c-483d-bdf4-bab84ecdce64')\"\n",
              "              title=\"Convert this dataframe to an interactive table.\"\n",
              "              style=\"display:none;\">\n",
              "        \n",
              "  <svg xmlns=\"http://www.w3.org/2000/svg\" height=\"24px\"viewBox=\"0 0 24 24\"\n",
              "       width=\"24px\">\n",
              "    <path d=\"M0 0h24v24H0V0z\" fill=\"none\"/>\n",
              "    <path d=\"M18.56 5.44l.94 2.06.94-2.06 2.06-.94-2.06-.94-.94-2.06-.94 2.06-2.06.94zm-11 1L8.5 8.5l.94-2.06 2.06-.94-2.06-.94L8.5 2.5l-.94 2.06-2.06.94zm10 10l.94 2.06.94-2.06 2.06-.94-2.06-.94-.94-2.06-.94 2.06-2.06.94z\"/><path d=\"M17.41 7.96l-1.37-1.37c-.4-.4-.92-.59-1.43-.59-.52 0-1.04.2-1.43.59L10.3 9.45l-7.72 7.72c-.78.78-.78 2.05 0 2.83L4 21.41c.39.39.9.59 1.41.59.51 0 1.02-.2 1.41-.59l7.78-7.78 2.81-2.81c.8-.78.8-2.07 0-2.86zM5.41 20L4 18.59l7.72-7.72 1.47 1.35L5.41 20z\"/>\n",
              "  </svg>\n",
              "      </button>\n",
              "      \n",
              "  <style>\n",
              "    .colab-df-container {\n",
              "      display:flex;\n",
              "      flex-wrap:wrap;\n",
              "      gap: 12px;\n",
              "    }\n",
              "\n",
              "    .colab-df-convert {\n",
              "      background-color: #E8F0FE;\n",
              "      border: none;\n",
              "      border-radius: 50%;\n",
              "      cursor: pointer;\n",
              "      display: none;\n",
              "      fill: #1967D2;\n",
              "      height: 32px;\n",
              "      padding: 0 0 0 0;\n",
              "      width: 32px;\n",
              "    }\n",
              "\n",
              "    .colab-df-convert:hover {\n",
              "      background-color: #E2EBFA;\n",
              "      box-shadow: 0px 1px 2px rgba(60, 64, 67, 0.3), 0px 1px 3px 1px rgba(60, 64, 67, 0.15);\n",
              "      fill: #174EA6;\n",
              "    }\n",
              "\n",
              "    [theme=dark] .colab-df-convert {\n",
              "      background-color: #3B4455;\n",
              "      fill: #D2E3FC;\n",
              "    }\n",
              "\n",
              "    [theme=dark] .colab-df-convert:hover {\n",
              "      background-color: #434B5C;\n",
              "      box-shadow: 0px 1px 3px 1px rgba(0, 0, 0, 0.15);\n",
              "      filter: drop-shadow(0px 1px 2px rgba(0, 0, 0, 0.3));\n",
              "      fill: #FFFFFF;\n",
              "    }\n",
              "  </style>\n",
              "\n",
              "      <script>\n",
              "        const buttonEl =\n",
              "          document.querySelector('#df-8dddb90a-9c3c-483d-bdf4-bab84ecdce64 button.colab-df-convert');\n",
              "        buttonEl.style.display =\n",
              "          google.colab.kernel.accessAllowed ? 'block' : 'none';\n",
              "\n",
              "        async function convertToInteractive(key) {\n",
              "          const element = document.querySelector('#df-8dddb90a-9c3c-483d-bdf4-bab84ecdce64');\n",
              "          const dataTable =\n",
              "            await google.colab.kernel.invokeFunction('convertToInteractive',\n",
              "                                                     [key], {});\n",
              "          if (!dataTable) return;\n",
              "\n",
              "          const docLinkHtml = 'Like what you see? Visit the ' +\n",
              "            '<a target=\"_blank\" href=https://colab.research.google.com/notebooks/data_table.ipynb>data table notebook</a>'\n",
              "            + ' to learn more about interactive tables.';\n",
              "          element.innerHTML = '';\n",
              "          dataTable['output_type'] = 'display_data';\n",
              "          await google.colab.output.renderOutput(dataTable, element);\n",
              "          const docLink = document.createElement('div');\n",
              "          docLink.innerHTML = docLinkHtml;\n",
              "          element.appendChild(docLink);\n",
              "        }\n",
              "      </script>\n",
              "    </div>\n",
              "  </div>\n",
              "  "
            ]
          },
          "metadata": {},
          "execution_count": 42
        }
      ]
    },
    {
      "cell_type": "code",
      "source": [
        "# Menghapus fitur-fitur yang tidak digunakan, hanya mengunakan fitur yang diduga mempengaruhi target\n",
        "datainfernce.drop([\"Unnamed: 0\",\"Latitude\",\"Longitude\"], axis=1, inplace=True)"
      ],
      "metadata": {
        "id": "ROzR-9rd4PyR"
      },
      "execution_count": 43,
      "outputs": []
    },
    {
      "cell_type": "code",
      "source": [
        "# Predict using Linear Regression untuk data inference\n",
        "y_pred_inf_LinReg = model_Lin_Reg.predict(datainfernce)\n",
        "y_pred_inf_LinReg = pd.DataFrame(y_pred_inf_LinReg, columns=['Pred-LinReg-HargaHotel'])\n",
        "y_pred_inf_LinReg "
      ],
      "metadata": {
        "colab": {
          "base_uri": "https://localhost:8080/",
          "height": 363
        },
        "id": "cCR5_wyd4-_-",
        "outputId": "a5f3bfff-0164-4389-f324-2ffc95442302"
      },
      "execution_count": 44,
      "outputs": [
        {
          "output_type": "execute_result",
          "data": {
            "text/plain": [
              "   Pred-LinReg-HargaHotel\n",
              "0            7.978041e+05\n",
              "1            7.330432e+05\n",
              "2            4.867640e+05\n",
              "3            2.551212e+05\n",
              "4            1.518462e+06\n",
              "5            1.394031e+06\n",
              "6            3.468314e+05\n",
              "7            5.758553e+05\n",
              "8            8.084086e+05\n",
              "9            5.516676e+05"
            ],
            "text/html": [
              "\n",
              "  <div id=\"df-4c0a6494-9bbd-43cd-8092-3e959f5545c2\">\n",
              "    <div class=\"colab-df-container\">\n",
              "      <div>\n",
              "<style scoped>\n",
              "    .dataframe tbody tr th:only-of-type {\n",
              "        vertical-align: middle;\n",
              "    }\n",
              "\n",
              "    .dataframe tbody tr th {\n",
              "        vertical-align: top;\n",
              "    }\n",
              "\n",
              "    .dataframe thead th {\n",
              "        text-align: right;\n",
              "    }\n",
              "</style>\n",
              "<table border=\"1\" class=\"dataframe\">\n",
              "  <thead>\n",
              "    <tr style=\"text-align: right;\">\n",
              "      <th></th>\n",
              "      <th>Pred-LinReg-HargaHotel</th>\n",
              "    </tr>\n",
              "  </thead>\n",
              "  <tbody>\n",
              "    <tr>\n",
              "      <th>0</th>\n",
              "      <td>7.978041e+05</td>\n",
              "    </tr>\n",
              "    <tr>\n",
              "      <th>1</th>\n",
              "      <td>7.330432e+05</td>\n",
              "    </tr>\n",
              "    <tr>\n",
              "      <th>2</th>\n",
              "      <td>4.867640e+05</td>\n",
              "    </tr>\n",
              "    <tr>\n",
              "      <th>3</th>\n",
              "      <td>2.551212e+05</td>\n",
              "    </tr>\n",
              "    <tr>\n",
              "      <th>4</th>\n",
              "      <td>1.518462e+06</td>\n",
              "    </tr>\n",
              "    <tr>\n",
              "      <th>5</th>\n",
              "      <td>1.394031e+06</td>\n",
              "    </tr>\n",
              "    <tr>\n",
              "      <th>6</th>\n",
              "      <td>3.468314e+05</td>\n",
              "    </tr>\n",
              "    <tr>\n",
              "      <th>7</th>\n",
              "      <td>5.758553e+05</td>\n",
              "    </tr>\n",
              "    <tr>\n",
              "      <th>8</th>\n",
              "      <td>8.084086e+05</td>\n",
              "    </tr>\n",
              "    <tr>\n",
              "      <th>9</th>\n",
              "      <td>5.516676e+05</td>\n",
              "    </tr>\n",
              "  </tbody>\n",
              "</table>\n",
              "</div>\n",
              "      <button class=\"colab-df-convert\" onclick=\"convertToInteractive('df-4c0a6494-9bbd-43cd-8092-3e959f5545c2')\"\n",
              "              title=\"Convert this dataframe to an interactive table.\"\n",
              "              style=\"display:none;\">\n",
              "        \n",
              "  <svg xmlns=\"http://www.w3.org/2000/svg\" height=\"24px\"viewBox=\"0 0 24 24\"\n",
              "       width=\"24px\">\n",
              "    <path d=\"M0 0h24v24H0V0z\" fill=\"none\"/>\n",
              "    <path d=\"M18.56 5.44l.94 2.06.94-2.06 2.06-.94-2.06-.94-.94-2.06-.94 2.06-2.06.94zm-11 1L8.5 8.5l.94-2.06 2.06-.94-2.06-.94L8.5 2.5l-.94 2.06-2.06.94zm10 10l.94 2.06.94-2.06 2.06-.94-2.06-.94-.94-2.06-.94 2.06-2.06.94z\"/><path d=\"M17.41 7.96l-1.37-1.37c-.4-.4-.92-.59-1.43-.59-.52 0-1.04.2-1.43.59L10.3 9.45l-7.72 7.72c-.78.78-.78 2.05 0 2.83L4 21.41c.39.39.9.59 1.41.59.51 0 1.02-.2 1.41-.59l7.78-7.78 2.81-2.81c.8-.78.8-2.07 0-2.86zM5.41 20L4 18.59l7.72-7.72 1.47 1.35L5.41 20z\"/>\n",
              "  </svg>\n",
              "      </button>\n",
              "      \n",
              "  <style>\n",
              "    .colab-df-container {\n",
              "      display:flex;\n",
              "      flex-wrap:wrap;\n",
              "      gap: 12px;\n",
              "    }\n",
              "\n",
              "    .colab-df-convert {\n",
              "      background-color: #E8F0FE;\n",
              "      border: none;\n",
              "      border-radius: 50%;\n",
              "      cursor: pointer;\n",
              "      display: none;\n",
              "      fill: #1967D2;\n",
              "      height: 32px;\n",
              "      padding: 0 0 0 0;\n",
              "      width: 32px;\n",
              "    }\n",
              "\n",
              "    .colab-df-convert:hover {\n",
              "      background-color: #E2EBFA;\n",
              "      box-shadow: 0px 1px 2px rgba(60, 64, 67, 0.3), 0px 1px 3px 1px rgba(60, 64, 67, 0.15);\n",
              "      fill: #174EA6;\n",
              "    }\n",
              "\n",
              "    [theme=dark] .colab-df-convert {\n",
              "      background-color: #3B4455;\n",
              "      fill: #D2E3FC;\n",
              "    }\n",
              "\n",
              "    [theme=dark] .colab-df-convert:hover {\n",
              "      background-color: #434B5C;\n",
              "      box-shadow: 0px 1px 3px 1px rgba(0, 0, 0, 0.15);\n",
              "      filter: drop-shadow(0px 1px 2px rgba(0, 0, 0, 0.3));\n",
              "      fill: #FFFFFF;\n",
              "    }\n",
              "  </style>\n",
              "\n",
              "      <script>\n",
              "        const buttonEl =\n",
              "          document.querySelector('#df-4c0a6494-9bbd-43cd-8092-3e959f5545c2 button.colab-df-convert');\n",
              "        buttonEl.style.display =\n",
              "          google.colab.kernel.accessAllowed ? 'block' : 'none';\n",
              "\n",
              "        async function convertToInteractive(key) {\n",
              "          const element = document.querySelector('#df-4c0a6494-9bbd-43cd-8092-3e959f5545c2');\n",
              "          const dataTable =\n",
              "            await google.colab.kernel.invokeFunction('convertToInteractive',\n",
              "                                                     [key], {});\n",
              "          if (!dataTable) return;\n",
              "\n",
              "          const docLinkHtml = 'Like what you see? Visit the ' +\n",
              "            '<a target=\"_blank\" href=https://colab.research.google.com/notebooks/data_table.ipynb>data table notebook</a>'\n",
              "            + ' to learn more about interactive tables.';\n",
              "          element.innerHTML = '';\n",
              "          dataTable['output_type'] = 'display_data';\n",
              "          await google.colab.output.renderOutput(dataTable, element);\n",
              "          const docLink = document.createElement('div');\n",
              "          docLink.innerHTML = docLinkHtml;\n",
              "          element.appendChild(docLink);\n",
              "        }\n",
              "      </script>\n",
              "    </div>\n",
              "  </div>\n",
              "  "
            ]
          },
          "metadata": {},
          "execution_count": 44
        }
      ]
    },
    {
      "cell_type": "code",
      "source": [
        "# Merge/mengabungkan data scaling/encoder dengan prediksi harga hotel\n",
        "pd.concat([datainfernce,y_pred_inf_LinReg ], axis=1)"
      ],
      "metadata": {
        "colab": {
          "base_uri": "https://localhost:8080/",
          "height": 494
        },
        "id": "G5df4Chv8iRG",
        "outputId": "3320c1d5-9ba0-4d1e-b903-64b008848e9e"
      },
      "execution_count": 45,
      "outputs": [
        {
          "output_type": "execute_result",
          "data": {
            "text/plain": [
              "                                   Nama Hotel                Nama Kota  \\\n",
              "0          Villa Puncak Garuda E16 - Prathivi                Kota Batu   \n",
              "1  Hotel Santika Premiere Hayam Wuruk Jakarta       Kota Jakarta Barat   \n",
              "2                               Kuta Paradise  Kabupaten Lombok Tengah   \n",
              "3                              The Palace Inn               Kota Medan   \n",
              "4                      Maya Ubud Resort & Spa        Kabupaten Gianyar   \n",
              "5                             The Nyaman Bali         Kabupaten Badung   \n",
              "6                                Mahima Hotel            Kota Semarang   \n",
              "7                      Se.juk Residence Araya         Kabupaten Malang   \n",
              "8                    Asyana Kemayoran Jakarta       Kota Jakarta Pusat   \n",
              "9      Mangsit Suite by Holiday Resort Lombok   Kabupaten Lombok Barat   \n",
              "\n",
              "                        Provinsi  Luas Kamar  Kapasitas  Rating    Harga  \\\n",
              "0                     Jawa Timur          50          6    4.75   575000   \n",
              "1  Daerah Khusus Ibukota Jakarta          22          3    4.58   835000   \n",
              "2            Nusa Tenggara Barat          16          3    4.03   542700   \n",
              "3                 Sumatera Utara          30          3    4.00   301205   \n",
              "4                           Bali          44          3    4.75  4266766   \n",
              "5                           Bali          23          3    4.58   351500   \n",
              "6                    Jawa Tengah          24          3    4.03   558000   \n",
              "7                     Jawa Timur          17          1    4.42   205000   \n",
              "8  Daerah Khusus Ibukota Jakarta          18          2    4.42   417690   \n",
              "9            Nusa Tenggara Barat          50          5    4.05  1755000   \n",
              "\n",
              "   Pred-LinReg-HargaHotel  \n",
              "0            7.978041e+05  \n",
              "1            7.330432e+05  \n",
              "2            4.867640e+05  \n",
              "3            2.551212e+05  \n",
              "4            1.518462e+06  \n",
              "5            1.394031e+06  \n",
              "6            3.468314e+05  \n",
              "7            5.758553e+05  \n",
              "8            8.084086e+05  \n",
              "9            5.516676e+05  "
            ],
            "text/html": [
              "\n",
              "  <div id=\"df-0c2121d7-42a0-43f3-a136-d7e3c3f5ebe5\">\n",
              "    <div class=\"colab-df-container\">\n",
              "      <div>\n",
              "<style scoped>\n",
              "    .dataframe tbody tr th:only-of-type {\n",
              "        vertical-align: middle;\n",
              "    }\n",
              "\n",
              "    .dataframe tbody tr th {\n",
              "        vertical-align: top;\n",
              "    }\n",
              "\n",
              "    .dataframe thead th {\n",
              "        text-align: right;\n",
              "    }\n",
              "</style>\n",
              "<table border=\"1\" class=\"dataframe\">\n",
              "  <thead>\n",
              "    <tr style=\"text-align: right;\">\n",
              "      <th></th>\n",
              "      <th>Nama Hotel</th>\n",
              "      <th>Nama Kota</th>\n",
              "      <th>Provinsi</th>\n",
              "      <th>Luas Kamar</th>\n",
              "      <th>Kapasitas</th>\n",
              "      <th>Rating</th>\n",
              "      <th>Harga</th>\n",
              "      <th>Pred-LinReg-HargaHotel</th>\n",
              "    </tr>\n",
              "  </thead>\n",
              "  <tbody>\n",
              "    <tr>\n",
              "      <th>0</th>\n",
              "      <td>Villa Puncak Garuda E16 - Prathivi</td>\n",
              "      <td>Kota Batu</td>\n",
              "      <td>Jawa Timur</td>\n",
              "      <td>50</td>\n",
              "      <td>6</td>\n",
              "      <td>4.75</td>\n",
              "      <td>575000</td>\n",
              "      <td>7.978041e+05</td>\n",
              "    </tr>\n",
              "    <tr>\n",
              "      <th>1</th>\n",
              "      <td>Hotel Santika Premiere Hayam Wuruk Jakarta</td>\n",
              "      <td>Kota Jakarta Barat</td>\n",
              "      <td>Daerah Khusus Ibukota Jakarta</td>\n",
              "      <td>22</td>\n",
              "      <td>3</td>\n",
              "      <td>4.58</td>\n",
              "      <td>835000</td>\n",
              "      <td>7.330432e+05</td>\n",
              "    </tr>\n",
              "    <tr>\n",
              "      <th>2</th>\n",
              "      <td>Kuta Paradise</td>\n",
              "      <td>Kabupaten Lombok Tengah</td>\n",
              "      <td>Nusa Tenggara Barat</td>\n",
              "      <td>16</td>\n",
              "      <td>3</td>\n",
              "      <td>4.03</td>\n",
              "      <td>542700</td>\n",
              "      <td>4.867640e+05</td>\n",
              "    </tr>\n",
              "    <tr>\n",
              "      <th>3</th>\n",
              "      <td>The Palace Inn</td>\n",
              "      <td>Kota Medan</td>\n",
              "      <td>Sumatera Utara</td>\n",
              "      <td>30</td>\n",
              "      <td>3</td>\n",
              "      <td>4.00</td>\n",
              "      <td>301205</td>\n",
              "      <td>2.551212e+05</td>\n",
              "    </tr>\n",
              "    <tr>\n",
              "      <th>4</th>\n",
              "      <td>Maya Ubud Resort &amp; Spa</td>\n",
              "      <td>Kabupaten Gianyar</td>\n",
              "      <td>Bali</td>\n",
              "      <td>44</td>\n",
              "      <td>3</td>\n",
              "      <td>4.75</td>\n",
              "      <td>4266766</td>\n",
              "      <td>1.518462e+06</td>\n",
              "    </tr>\n",
              "    <tr>\n",
              "      <th>5</th>\n",
              "      <td>The Nyaman Bali</td>\n",
              "      <td>Kabupaten Badung</td>\n",
              "      <td>Bali</td>\n",
              "      <td>23</td>\n",
              "      <td>3</td>\n",
              "      <td>4.58</td>\n",
              "      <td>351500</td>\n",
              "      <td>1.394031e+06</td>\n",
              "    </tr>\n",
              "    <tr>\n",
              "      <th>6</th>\n",
              "      <td>Mahima Hotel</td>\n",
              "      <td>Kota Semarang</td>\n",
              "      <td>Jawa Tengah</td>\n",
              "      <td>24</td>\n",
              "      <td>3</td>\n",
              "      <td>4.03</td>\n",
              "      <td>558000</td>\n",
              "      <td>3.468314e+05</td>\n",
              "    </tr>\n",
              "    <tr>\n",
              "      <th>7</th>\n",
              "      <td>Se.juk Residence Araya</td>\n",
              "      <td>Kabupaten Malang</td>\n",
              "      <td>Jawa Timur</td>\n",
              "      <td>17</td>\n",
              "      <td>1</td>\n",
              "      <td>4.42</td>\n",
              "      <td>205000</td>\n",
              "      <td>5.758553e+05</td>\n",
              "    </tr>\n",
              "    <tr>\n",
              "      <th>8</th>\n",
              "      <td>Asyana Kemayoran Jakarta</td>\n",
              "      <td>Kota Jakarta Pusat</td>\n",
              "      <td>Daerah Khusus Ibukota Jakarta</td>\n",
              "      <td>18</td>\n",
              "      <td>2</td>\n",
              "      <td>4.42</td>\n",
              "      <td>417690</td>\n",
              "      <td>8.084086e+05</td>\n",
              "    </tr>\n",
              "    <tr>\n",
              "      <th>9</th>\n",
              "      <td>Mangsit Suite by Holiday Resort Lombok</td>\n",
              "      <td>Kabupaten Lombok Barat</td>\n",
              "      <td>Nusa Tenggara Barat</td>\n",
              "      <td>50</td>\n",
              "      <td>5</td>\n",
              "      <td>4.05</td>\n",
              "      <td>1755000</td>\n",
              "      <td>5.516676e+05</td>\n",
              "    </tr>\n",
              "  </tbody>\n",
              "</table>\n",
              "</div>\n",
              "      <button class=\"colab-df-convert\" onclick=\"convertToInteractive('df-0c2121d7-42a0-43f3-a136-d7e3c3f5ebe5')\"\n",
              "              title=\"Convert this dataframe to an interactive table.\"\n",
              "              style=\"display:none;\">\n",
              "        \n",
              "  <svg xmlns=\"http://www.w3.org/2000/svg\" height=\"24px\"viewBox=\"0 0 24 24\"\n",
              "       width=\"24px\">\n",
              "    <path d=\"M0 0h24v24H0V0z\" fill=\"none\"/>\n",
              "    <path d=\"M18.56 5.44l.94 2.06.94-2.06 2.06-.94-2.06-.94-.94-2.06-.94 2.06-2.06.94zm-11 1L8.5 8.5l.94-2.06 2.06-.94-2.06-.94L8.5 2.5l-.94 2.06-2.06.94zm10 10l.94 2.06.94-2.06 2.06-.94-2.06-.94-.94-2.06-.94 2.06-2.06.94z\"/><path d=\"M17.41 7.96l-1.37-1.37c-.4-.4-.92-.59-1.43-.59-.52 0-1.04.2-1.43.59L10.3 9.45l-7.72 7.72c-.78.78-.78 2.05 0 2.83L4 21.41c.39.39.9.59 1.41.59.51 0 1.02-.2 1.41-.59l7.78-7.78 2.81-2.81c.8-.78.8-2.07 0-2.86zM5.41 20L4 18.59l7.72-7.72 1.47 1.35L5.41 20z\"/>\n",
              "  </svg>\n",
              "      </button>\n",
              "      \n",
              "  <style>\n",
              "    .colab-df-container {\n",
              "      display:flex;\n",
              "      flex-wrap:wrap;\n",
              "      gap: 12px;\n",
              "    }\n",
              "\n",
              "    .colab-df-convert {\n",
              "      background-color: #E8F0FE;\n",
              "      border: none;\n",
              "      border-radius: 50%;\n",
              "      cursor: pointer;\n",
              "      display: none;\n",
              "      fill: #1967D2;\n",
              "      height: 32px;\n",
              "      padding: 0 0 0 0;\n",
              "      width: 32px;\n",
              "    }\n",
              "\n",
              "    .colab-df-convert:hover {\n",
              "      background-color: #E2EBFA;\n",
              "      box-shadow: 0px 1px 2px rgba(60, 64, 67, 0.3), 0px 1px 3px 1px rgba(60, 64, 67, 0.15);\n",
              "      fill: #174EA6;\n",
              "    }\n",
              "\n",
              "    [theme=dark] .colab-df-convert {\n",
              "      background-color: #3B4455;\n",
              "      fill: #D2E3FC;\n",
              "    }\n",
              "\n",
              "    [theme=dark] .colab-df-convert:hover {\n",
              "      background-color: #434B5C;\n",
              "      box-shadow: 0px 1px 3px 1px rgba(0, 0, 0, 0.15);\n",
              "      filter: drop-shadow(0px 1px 2px rgba(0, 0, 0, 0.3));\n",
              "      fill: #FFFFFF;\n",
              "    }\n",
              "  </style>\n",
              "\n",
              "      <script>\n",
              "        const buttonEl =\n",
              "          document.querySelector('#df-0c2121d7-42a0-43f3-a136-d7e3c3f5ebe5 button.colab-df-convert');\n",
              "        buttonEl.style.display =\n",
              "          google.colab.kernel.accessAllowed ? 'block' : 'none';\n",
              "\n",
              "        async function convertToInteractive(key) {\n",
              "          const element = document.querySelector('#df-0c2121d7-42a0-43f3-a136-d7e3c3f5ebe5');\n",
              "          const dataTable =\n",
              "            await google.colab.kernel.invokeFunction('convertToInteractive',\n",
              "                                                     [key], {});\n",
              "          if (!dataTable) return;\n",
              "\n",
              "          const docLinkHtml = 'Like what you see? Visit the ' +\n",
              "            '<a target=\"_blank\" href=https://colab.research.google.com/notebooks/data_table.ipynb>data table notebook</a>'\n",
              "            + ' to learn more about interactive tables.';\n",
              "          element.innerHTML = '';\n",
              "          dataTable['output_type'] = 'display_data';\n",
              "          await google.colab.output.renderOutput(dataTable, element);\n",
              "          const docLink = document.createElement('div');\n",
              "          docLink.innerHTML = docLinkHtml;\n",
              "          element.appendChild(docLink);\n",
              "        }\n",
              "      </script>\n",
              "    </div>\n",
              "  </div>\n",
              "  "
            ]
          },
          "metadata": {},
          "execution_count": 45
        }
      ]
    },
    {
      "cell_type": "markdown",
      "source": [
        "# 11 - Pengambilan Kesimpulan\n",
        "\n",
        "> Pada bagian terakhir ini, harus berisi kesimpulan yang mencerminkan hasil yang didapat dengan objective yang sudah ditulis di bagian pengenalan."
      ],
      "metadata": {
        "id": "upztR0jMa2Av"
      }
    },
    {
      "cell_type": "markdown",
      "source": [
        "Memprediksi kisaran harga hotel yang harus dikeluarkan saat memilih hotel atau penginapan dengan memberikan informasi harga, dimana memuat informasi-informasi penting berupa kisaran harga berdasarkan fitur Nama Hotel, Nama Kota, Provinsi, Latitude, Longitude, Luas Kamar, Kapasitas\tdan Rating menggunakan metode regresi linear.\n",
        "\n",
        "---\n",
        "> Exploratory Data Analysis (EDA)\n",
        "\n",
        "1. Berdasarkan hasil visualisasi bahwa terdapat beberapa provinsi di indonesia yang bisa memprediksi kisaran harga hotel yaitu Daerah Khusus Ibukota Jakarta, Banten, Jawa Barat, Jawa Timur, Daerah Istimewa Yogyakarta, Special Region of Yogyakarta, Sumatera Utara, Jawa Tengah, Bali, Nusa Tenggara Barat, Central Java. Diaman Provinsi Jawa timur lebih memiliki banya referensi tempat hotel yang bisa menjadi pilihan untuk tempat menginap dibandingkan provinsi lainnya, urutan kedua provinsi bali sebagai jumlah hotel yang memiliki beberapa referensi tempat penginapan, lalu diikuti beberapa provinsi lainnya. Kabupaten Bandung menempati tempat terakhir yang memiliki sediki tempat hotel yang bisa di inap oleh parawisataan.\n",
        "2. Berdasarkan hasil visualisasi bahwa terdapat beberapa kota di indonesia yang bisa memprediksi kisaran harga hotel yaitu Kota Jakarta Selatan, Kota Jakarta Pusat, Kota Jakarta Barat, Kota Jakarta Timur, Kota Jakarta Utara, Kota Tangerang, Kota Bekasi, Kota Bandung Kabupaten Bandung Barat, Kabupaten Subang, Kabupaten Sumedang, Kabupaten Bandung, Kota Cimahi, Kota Surabaya, Kabupaten Sidoarjo, Kabupaten Sleman, Kota Yogyakarta, Kabupaten Bantul, Kabupaten Gunung Kidul, Kota Medan, Kabupaten Deli Serdang, Kota Semarang, Kabupaten Semarang, Kota Malang, Kabupaten Malang, Kota Batu, Kabupaten Magelang, Kabupaten Badung, Kabupaten Gianyar, Kabupaten Buleleng,\n",
        "Kabupaten Lombok Barat, Kabupaten Lombok Tengah,\n",
        "Kota Mataram, Kabupaten Lombok Pusat, Kota Denpasar,\n",
        "Kabupaten Lombok Utara, Kuta, Kuta Lombok,\n",
        "Kabupaten Jembrana, Kabupaten Klungkung,\n",
        "Kabupaten Lombok Timur, Lombok, Kabupaten Karangasem,\n",
        "Kabupaten Bangli, Kabupaten Tabanan, Kota Cirebon,\n",
        "Kabupaten Cirebon.\n",
        "\n",
        "---\n",
        "> Evaluation Model Algoritma\n",
        "\n",
        "1. Berdasarkan hasil Ketepatan atau akurasi model regresi linear berdasrkan nilai R2 tanpa estimator terbaik memiliki nilai training sebesar 100% dan testing sebesar 9%, artinya masih di kategorikan underfit, karena rentang nilai jauh berbeda. Berdasarkan perbedaan R2 model tanpa estimator terbaik tidak berkerja dengan baik dalam memprediksi kisaran harga hotel.\n",
        "2. Model evaluasi untuk training memiliki nilai mendekati 0.\n",
        "\n",
        "---\n",
        "Saran\n",
        "1. Bisa menambah fitur yang sekirannya memiliki pengaruh baik terhadap model harga hotel\n",
        "2. Bisa menggunakan data yang lebih size baris dan kolom nya, agar bisa lebih mewakili harga kote di indonesia saat ini.\n",
        "3. Bisa menambah beberapa provinsi lagi yang ada di indonesia, menggunakan data kisaran harga hotel di 34 provinsi Indonesia."
      ],
      "metadata": {
        "id": "tJOfgUDza79P"
      }
    }
  ]
}